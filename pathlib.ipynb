{
 "cells": [
  {
   "cell_type": "code",
   "execution_count": 1,
   "id": "be7e7275-63bf-4822-b3e9-1c6c14aa3d63",
   "metadata": {
    "tags": []
   },
   "outputs": [
    {
     "data": {
      "text/plain": [
       "'/root/dev'"
      ]
     },
     "execution_count": 1,
     "metadata": {},
     "output_type": "execute_result"
    }
   ],
   "source": [
    "import os\n",
    "\n",
    "os.chdir(\"/root/dev\")\n",
    "os.getcwd()"
   ]
  },
  {
   "cell_type": "markdown",
   "id": "3b888599-5642-426d-9e30-031ab2b23161",
   "metadata": {},
   "source": [
    "# Useful properties of pathlib.Path"
   ]
  },
  {
   "cell_type": "code",
   "execution_count": null,
   "id": "c31506f1-f439-47dd-9c81-985025b74af0",
   "metadata": {},
   "outputs": [],
   "source": [
    "# replacement of os.makedirs\n",
    "from pathlib import Path\n",
    "\n",
    "os.makedirs(example_path, exist_ok=True)\n",
    "Path(example_path).mkdir(parents=True, exist_ok=True)"
   ]
  },
  {
   "cell_type": "code",
   "execution_count": 24,
   "id": "6b8a0e69-5bb6-417d-8926-819b5de44ddb",
   "metadata": {
    "tags": []
   },
   "outputs": [
    {
     "name": "stdout",
     "output_type": "stream",
     "text": [
      "/root/dev/DanceGen/dataset/AIST/aistpp/wavs/gKR_sBM_cAll_d30_mKR3_ch04.wav\n",
      "/root/dev/DanceGen/dataset/AIST/aistpp/wavs/gKR_sBM_cAll_d30_mKR3_ch04.wav\n",
      "wave file: /root/dev/DanceGen/dataset/AIST/aistpp/wavs/gBR_sBM_cAll_d04_mBR0_ch01.wav\n"
     ]
    }
   ],
   "source": [
    "data_dir = Path(\"/root/dev/DanceGen/dataset/AIST/aistpp\")\n",
    "wave_dir = Path(data_dir / \"wavs\")\n",
    "motion_dir = Path(data_dir / \"motions\")\n",
    "\n",
    "print(next(wave_dir.glob(\"*.wav\")))\n",
    "print(next(wave_dir.glob(\"**/*.wav\")))\n",
    "wav_file = sorted(wave_dir.glob(\"**/*.wav\"))[0] # wav file in all subdirectories\n",
    "wav_file = sorted(wave_dir.glob(\"*.wav\"))[0] # wav file in only current directory\n",
    "print(f\"wave file: {wav_file}\")"
   ]
  },
  {
   "cell_type": "markdown",
   "id": "ef8cb468-5db4-437e-a2d0-cf753a0c05b1",
   "metadata": {},
   "source": [
    "```wave_dir.glob(\"*.wav\")```\n",
    "- If ```wave_dir``` contains a file ```audio1.wav```, it will be found\n",
    "- If ```wave_dir/subdir/audio2.wav``` exists, it will **not** be found\n",
    "\n",
    "```wave_dir.glob(\"**/*.wav\")```\n",
    "- If ```wave_dir``` contains a file ```audio1.wav```, it will be found\n",
    "- If ```wave_dir/subdir/audio2.wav``` exists, it will also be found"
   ]
  },
  {
   "cell_type": "code",
   "execution_count": 3,
   "id": "7f52393f-d2b4-4591-9577-29d44b580818",
   "metadata": {
    "tags": []
   },
   "outputs": [
    {
     "name": "stdout",
     "output_type": "stream",
     "text": [
      "gBR_sBM_cAll_d04_mBR0_ch01.wav\n",
      "\n",
      "gBR_sBM_cAll_d04_mBR0_ch01.wav\n",
      "gBR_sBM_cAll_d04_mBR0_ch01\n",
      ".wav\n",
      "/root/dev/DanceGen/dataset/AIST/aistpp/wavs\n",
      "/root/dev/DanceGen/dataset/AIST/aistpp/wavs /root/dev/DanceGen/dataset/AIST/aistpp\n",
      "('/', 'root', 'dev', 'DanceGen', 'dataset', 'AIST', 'aistpp', 'wavs', 'gBR_sBM_cAll_d04_mBR0_ch01.wav')\n",
      "\n",
      "True\n",
      "True\n",
      "False\n",
      "\n",
      "/root/dev/DanceGen/dataset/AIST/aistpp/wavs/gBR_sBM_cAll_d04_mBR0_ch01.txt\n",
      "/root/dev/DanceGen/dataset/AIST/aistpp/wavs/abc.txt\n",
      "\n",
      "/root/dev/DanceGen/dataset/AIST/aistpp/wavs/gBR_sBM_cAll_d04_mBR0_ch01.wav/practice/abcdefg.txt\n"
     ]
    }
   ],
   "source": [
    "import os\n",
    "\n",
    "print(os.path.basename(wav_file))\n",
    "print()\n",
    "\n",
    "print(Path(wav_file).name)\n",
    "print(Path(wav_file).stem)\n",
    "print(Path(wav_file).suffix)\n",
    "print(Path(wav_file).parent)\n",
    "print(Path(wav_file).parents[0], Path(wav_file).parents[1])\n",
    "print(Path(wav_file).parts)\n",
    "print()\n",
    "\n",
    "print(Path(wav_file).exists())\n",
    "print(Path(wav_file).is_file())\n",
    "print(Path(wav_file).is_dir())\n",
    "print()\n",
    "\n",
    "print(Path(wav_file).with_suffix(\".txt\"))\n",
    "print(Path(wav_file).with_name(\"abc.txt\"))\n",
    "\n",
    "print()\n",
    "print(Path(wav_file) / \"practice\" / \"abcdefg.txt\")"
   ]
  },
  {
   "cell_type": "markdown",
   "id": "6cb26a0b-3986-4f68-b0e7-53e89ddb8c91",
   "metadata": {},
   "source": [
    "# Handling Data Structures with pathlib"
   ]
  },
  {
   "cell_type": "code",
   "execution_count": null,
   "id": "a3c5eabd-d906-423d-9a0d-f1523bc8fd07",
   "metadata": {},
   "outputs": [],
   "source": [
    "# example of replacement of os.listdir\n",
    "for file in os.listdir(label_dir):\n",
    "    name = file.split(\".\")[0]\n",
    "    jsonfile = os.path.join(label_dir, file)\n",
    "    with open(jsonfile,\"r\") as f:\n",
    "        genredict = json.load(f)\n",
    "    genre = genredict['style2']\n",
    "\n",
    "for file in label_dir.iterdir():  # Iterate over Path objects in the directory\n",
    "    name = file.stem  # Get the file name without extension\n",
    "    with file.open(\"r\") as f:  # Open the file\n",
    "        genredict = json.load(f)\n",
    "    genre = genredict['style2']"
   ]
  },
  {
   "cell_type": "code",
   "execution_count": 12,
   "id": "80462808-a693-424a-b954-a963ea436b9c",
   "metadata": {
    "tags": []
   },
   "outputs": [
    {
     "name": "stdout",
     "output_type": "stream",
     "text": [
      "1408\n",
      "/root/dev/DanceGen/dataset/AIST/aistpp/wavs/gKR_sBM_cAll_d30_mKR3_ch04.wav\n"
     ]
    }
   ],
   "source": [
    "wave_dir = Path(\"/root/dev/DanceGen/dataset/AIST/aistpp\")\n",
    "paths = list(wave_dir.glob(\"**/*.wav\"))\n",
    "print(len(paths))\n",
    "print(paths[0])"
   ]
  },
  {
   "cell_type": "code",
   "execution_count": 20,
   "id": "5b4b9658-e5b6-474b-8703-2fb38165d697",
   "metadata": {
    "tags": []
   },
   "outputs": [
    {
     "name": "stdout",
     "output_type": "stream",
     "text": [
      "('/', 'root', 'dev', 'DanceGen', 'dataset', 'AIST', 'aistpp', 'wavs', 'gKR_sBM_cAll_d30_mKR3_ch04.wav')\n",
      "7\n",
      "/root/dev/DanceGen/dataset/AIST/aistpp/wavs/gKR_sBM_cAll_d30_mKR3_ch04.wav\n",
      "wavs/gKR_sBM_cAll_d30_mKR3_ch04.wav\n",
      "/root/dev/DanceGen/dataset/AIST/aistpp\n"
     ]
    }
   ],
   "source": [
    "print(paths[0].parts)\n",
    "print(len(wave_dir.parts))\n",
    "print(Path(*paths[0].parts))\n",
    "print(Path(*paths[0].parts[len(wave_dir.parts):]))\n",
    "print(Path(*paths[0].parts[:len(wave_dir.parts)]))"
   ]
  },
  {
   "cell_type": "code",
   "execution_count": 23,
   "id": "00c12ef9-ff85-4109-a6e0-30d563c53287",
   "metadata": {
    "tags": []
   },
   "outputs": [
    {
     "name": "stdout",
     "output_type": "stream",
     "text": [
      "/root/dev/DanceGen/dataset/AIST/aistpp/wavs/gKR_sBM_cAll_d30_mKR3_ch04.wav\n",
      "/root/dev/DanceGen/practice/AIST/aistpp/wavs/gKR_sBM_cAll_d30_mKR3_ch04.wav\n"
     ]
    }
   ],
   "source": [
    "import shutil\n",
    "\n",
    "# move specific files to the destination\n",
    "destinations = []\n",
    "for path in paths:\n",
    "    destination = Path(*path.parts[:4]) / \"practice\" / Path(*path.parts[5:])\n",
    "    # destination.parent.mkdir(parents=True, exist_ok=True)\n",
    "    # shutil.move(str(path), str(destination))\n",
    "    destinations.append(destination)\n",
    "print(paths[0])\n",
    "print(destinations[0])"
   ]
  },
  {
   "cell_type": "code",
   "execution_count": null,
   "id": "bbabb176-a712-47fa-9346-bebd9f2e12a6",
   "metadata": {},
   "outputs": [],
   "source": [
    "# split train, valid, test dataset (another example, don't run this cell!)\n",
    "    cat_dict = {\n",
    "        \"plane\": \"02691156\",\n",
    "        \"car\": \"02958343\",\n",
    "        \"chair\": \"03001627\",\n",
    "        \"table\": \"04379243\"\n",
    "    }\n",
    "\n",
    "    parser = argparse.ArgumentParser()\n",
    "    parser.add_argument('--data_dir', type=str, help='Path to input directory. (Should contain the class id if you want to process the c)')\n",
    "    args = parser.parse_args([]) # remove '[]' in .py\n",
    "\n",
    "    paths_r = list(Path(args.data_dir).glob(\"**/*r_000.png\"))\n",
    "    paths_albedo = list(Path(args.data_dir).glob(\"**/*r_000_albedo0001.png\"))\n",
    "    paths_depth = list(Path(args.data_dir).glob(\"**/*r_000_depth0001.png\"))\n",
    "    paths_normal = list(Path(args.data_dir).glob(\"**/*r_000_normal0001.png\"))\n",
    "    print(len(paths_r))\n",
    "    print(len(paths_albedo))\n",
    "    print(len(paths_depth))\n",
    "    print(len(paths_normal))\n",
    "    \n",
    "    paths = list(Path(args.data_dir).glob(\"**/*model_normalized_nomtl.obj\"))\n",
    "    paths = list(Path(args.data_dir).glob(\"**/*.npz\"))\n",
    "    print(len(paths))\n",
    "\n",
    "    # split train, valid, test model_ids and save them.\n",
    "    num_trains = int(len(paths) * 0.96)\n",
    "    num_valids = (len(paths) - num_trains) // 2\n",
    "    num_tests = len(paths) - num_trains - num_valids\n",
    "    train_ids = []\n",
    "    valid_ids = []\n",
    "    test_ids = []\n",
    "    for i, path in enumerate(paths):\n",
    "        if i < num_trains:\n",
    "            train_ids.append(path.parts[-3])\n",
    "        elif i < num_trains + num_valids:\n",
    "            valid_ids.append(path.parts[-3])\n",
    "        elif i < num_trains + num_valids + num_tests:\n",
    "            test_ids.append(path.parts[-3])\n",
    "        else:\n",
    "            print(\"It should not be printed.\")\n",
    "    print(len(train_ids))\n",
    "    print(len(valid_ids))\n",
    "    print(len(test_ids))\n",
    "    print(len(train_ids) + len(valid_ids) + len(test_ids))"
   ]
  }
 ],
 "metadata": {
  "kernelspec": {
   "display_name": "mambadance",
   "language": "python",
   "name": "mambadance"
  },
  "language_info": {
   "codemirror_mode": {
    "name": "ipython",
    "version": 3
   },
   "file_extension": ".py",
   "mimetype": "text/x-python",
   "name": "python",
   "nbconvert_exporter": "python",
   "pygments_lexer": "ipython3",
   "version": "3.10.15"
  }
 },
 "nbformat": 4,
 "nbformat_minor": 5
}
