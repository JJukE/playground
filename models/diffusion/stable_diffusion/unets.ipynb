{
 "cells": [
  {
   "cell_type": "markdown",
   "id": "874129dd-00d5-4fea-9a69-d1bf5fd94d85",
   "metadata": {},
   "source": [
    "# Explore SDXL-base-v1 and SD-base-v2"
   ]
  },
  {
   "cell_type": "code",
   "execution_count": 1,
   "id": "e66de97e-ea88-4dd3-9274-75c35b4bff50",
   "metadata": {
    "tags": []
   },
   "outputs": [],
   "source": [
    "from diffusers import UNet2DConditionModel"
   ]
  },
  {
   "cell_type": "code",
   "execution_count": 21,
   "id": "48592a97-1b2b-4a5f-a6ed-24b7d0d4808c",
   "metadata": {},
   "outputs": [],
   "source": [
    "unet = UNet2DConditionModel.from_pretrained(\n",
    "    \"stabilityai/stable-diffusion-xl-base-1.0\", subfolder=\"unet\", cache_dir=\"/root/dataset_sj/hf_cache\"\n",
    ")"
   ]
  },
  {
   "cell_type": "code",
   "execution_count": 22,
   "id": "c063db33-131c-4d10-b25c-79c0498959e4",
   "metadata": {},
   "outputs": [],
   "source": [
    "unet.train();"
   ]
  },
  {
   "cell_type": "code",
   "execution_count": 23,
   "id": "9214073d-51ba-431c-93f6-f2eed44ac1dd",
   "metadata": {},
   "outputs": [
    {
     "name": "stdout",
     "output_type": "stream",
     "text": [
      "2567463684\n"
     ]
    }
   ],
   "source": [
    "model_size = 0\n",
    "for param in unet.parameters():\n",
    "    model_size += param.data.nelement()\n",
    "print(model_size)"
   ]
  },
  {
   "cell_type": "code",
   "execution_count": 24,
   "id": "f5820151-76be-4132-9aa1-78a22dbefcb7",
   "metadata": {},
   "outputs": [
    {
     "name": "stderr",
     "output_type": "stream",
     "text": [
      "/tmp/ipykernel_1168129/3803780671.py:1: FutureWarning: Accessing config attribute `encoder_hid_dim_type` directly via 'UNet2DConditionModel' object attribute is deprecated. Please access 'encoder_hid_dim_type' over 'UNet2DConditionModel's config object instead, e.g. 'unet.config.encoder_hid_dim_type'.\n",
      "  unet.encoder_hid_dim_type\n"
     ]
    }
   ],
   "source": [
    "unet.encoder_hid_dim_type"
   ]
  },
  {
   "cell_type": "code",
   "execution_count": 3,
   "id": "34f8a251-6935-4d69-ae05-0c61dad22333",
   "metadata": {
    "tags": []
   },
   "outputs": [],
   "source": [
    "unet = UNet2DConditionModel.from_pretrained(\n",
    "    \"stabilityai/stable-diffusion-2-base\", subfolder=\"unet\"\n",
    ")"
   ]
  },
  {
   "cell_type": "code",
   "execution_count": 26,
   "id": "ce248154-9bc4-40b7-a857-22f647644ec7",
   "metadata": {},
   "outputs": [],
   "source": [
    "unet.train();"
   ]
  },
  {
   "cell_type": "code",
   "execution_count": 27,
   "id": "2b3a8ada-837a-44cc-a00f-af954b0c3183",
   "metadata": {},
   "outputs": [
    {
     "name": "stdout",
     "output_type": "stream",
     "text": [
      "865910724\n"
     ]
    }
   ],
   "source": [
    "model_size = 0\n",
    "for param in unet.parameters():\n",
    "    model_size += param.data.nelement()\n",
    "print(model_size)"
   ]
  },
  {
   "cell_type": "code",
   "execution_count": 31,
   "id": "4b60378d-8f61-42d2-ac8e-e4c67a0644f4",
   "metadata": {},
   "outputs": [
    {
     "name": "stderr",
     "output_type": "stream",
     "text": [
      "/tmp/ipykernel_1168129/3846282527.py:1: FutureWarning: Accessing config attribute `addition_embed_type` directly via 'UNet2DConditionModel' object attribute is deprecated. Please access 'addition_embed_type' over 'UNet2DConditionModel's config object instead, e.g. 'unet.config.addition_embed_type'.\n",
      "  unet.addition_embed_type is None\n"
     ]
    },
    {
     "data": {
      "text/plain": [
       "True"
      ]
     },
     "execution_count": 31,
     "metadata": {},
     "output_type": "execute_result"
    }
   ],
   "source": [
    "unet.addition_embed_type is None"
   ]
  },
  {
   "cell_type": "code",
   "execution_count": 8,
   "id": "7678faf0-2fc3-4906-97b2-642fdc225f82",
   "metadata": {
    "tags": []
   },
   "outputs": [
    {
     "data": {
      "text/plain": [
       "'/root/dev/T2STD'"
      ]
     },
     "execution_count": 8,
     "metadata": {},
     "output_type": "execute_result"
    }
   ],
   "source": [
    "import os\n",
    "\n",
    "os.chdir(\"/root/dev/T2STD\")\n",
    "os.getcwd()"
   ]
  },
  {
   "cell_type": "code",
   "execution_count": 23,
   "id": "a8c3e492-3d3c-49b1-b5d3-f7be6e88e301",
   "metadata": {
    "tags": []
   },
   "outputs": [],
   "source": [
    "import yaml\n",
    "\n",
    "from model.TSD.text_encoder import FrozenCLIPTextEmbedder\n",
    "from jjuke.net_utils.options import instantiate_from_config\n",
    "\n",
    "conditioner_config = '''\n",
    "    target: model.TripLoRA.text_encoder.FrozenCLIPTextEmbedder\n",
    "    params:\n",
    "      pretrained_model_name_or_path: \"stabilityai/stable-diffusion-2-base\"\n",
    "    cond_forward: False\n",
    "'''\n",
    "conditioner_config = yaml.safe_load(conditioner_config)\n",
    "\n",
    "cond_model = instantiate_from_config(conditioner_config).cpu()"
   ]
  },
  {
   "cell_type": "code",
   "execution_count": 16,
   "id": "a6f4a607-81a4-4f95-ac5a-1ce68e7b2348",
   "metadata": {
    "tags": []
   },
   "outputs": [
    {
     "data": {
      "application/vnd.jupyter.widget-view+json": {
       "model_id": "a1b9ed05eec84ff39f258a4000500d11",
       "version_major": 2,
       "version_minor": 0
      },
      "text/plain": [
       "HBox(children=(FloatProgress(value=0.0, description='tokenizer/tokenizer_config.json', max=929.0, style=Progre…"
      ]
     },
     "metadata": {},
     "output_type": "display_data"
    },
    {
     "name": "stdout",
     "output_type": "stream",
     "text": [
      "\n"
     ]
    },
    {
     "data": {
      "application/vnd.jupyter.widget-view+json": {
       "model_id": "82548c6d13ce4fa89adb2bd968036b16",
       "version_major": 2,
       "version_minor": 0
      },
      "text/plain": [
       "HBox(children=(FloatProgress(value=0.0, description='tokenizer/vocab.json', max=1059962.0, style=ProgressStyle…"
      ]
     },
     "metadata": {},
     "output_type": "display_data"
    },
    {
     "name": "stdout",
     "output_type": "stream",
     "text": [
      "\n"
     ]
    },
    {
     "data": {
      "application/vnd.jupyter.widget-view+json": {
       "model_id": "737e0f1f2f8e41399c272a7d1452fb8e",
       "version_major": 2,
       "version_minor": 0
      },
      "text/plain": [
       "HBox(children=(FloatProgress(value=0.0, description='tokenizer/merges.txt', max=524619.0, style=ProgressStyle(…"
      ]
     },
     "metadata": {},
     "output_type": "display_data"
    },
    {
     "name": "stdout",
     "output_type": "stream",
     "text": [
      "\n"
     ]
    },
    {
     "data": {
      "application/vnd.jupyter.widget-view+json": {
       "model_id": "516aa231aa6a4b43bb09e78c2679540b",
       "version_major": 2,
       "version_minor": 0
      },
      "text/plain": [
       "HBox(children=(FloatProgress(value=0.0, description='tokenizer/special_tokens_map.json', max=460.0, style=Prog…"
      ]
     },
     "metadata": {},
     "output_type": "display_data"
    },
    {
     "name": "stdout",
     "output_type": "stream",
     "text": [
      "\n"
     ]
    }
   ],
   "source": [
    "from transformers import CLIPTokenizer\n",
    "\n",
    "tokenizer = CLIPTokenizer.from_pretrained(\n",
    "    pretrained_model_name_or_path=\"stabilityai/stable-diffusion-2-base\",\n",
    "    subfolder=\"tokenizer\"\n",
    ")"
   ]
  },
  {
   "cell_type": "code",
   "execution_count": 18,
   "id": "fd2f003d-94c7-4e0c-80ce-c62e6473807f",
   "metadata": {
    "tags": []
   },
   "outputs": [],
   "source": [
    "text = \"a chair\"\n",
    "input_ids = tokenizer(\n",
    "    text,\n",
    "    padding=\"do_not_pad\",\n",
    "    truncation=True,\n",
    "    max_length=tokenizer.model_max_length\n",
    ").input_ids\n",
    "input_ids = tokenizer.pad(\n",
    "    {\"input_ids\": input_ids},\n",
    "    padding=\"max_length\",\n",
    "    max_length=tokenizer.model_max_length,\n",
    "    return_tensors=\"pt\"\n",
    ").input_ids"
   ]
  },
  {
   "cell_type": "code",
   "execution_count": 27,
   "id": "058076cf-edd7-407c-b521-845dfd18769f",
   "metadata": {
    "tags": []
   },
   "outputs": [],
   "source": [
    "cond = cond_model(input_ids[None])"
   ]
  },
  {
   "cell_type": "code",
   "execution_count": 31,
   "id": "fc1c16c6-87e1-416f-9ddb-8222936a2d48",
   "metadata": {
    "tags": []
   },
   "outputs": [],
   "source": [
    "import torch\n",
    "\n",
    "img_latent = unet(torch.rand(1, 4, 32, 32), 0, cond, None).sample"
   ]
  },
  {
   "cell_type": "code",
   "execution_count": 32,
   "id": "6f999ba1-1b3f-49f8-a843-2cfac09d00e9",
   "metadata": {
    "tags": []
   },
   "outputs": [
    {
     "data": {
      "text/plain": [
       "torch.Size([1, 4, 32, 32])"
      ]
     },
     "execution_count": 32,
     "metadata": {},
     "output_type": "execute_result"
    }
   ],
   "source": [
    "img_latent.shape"
   ]
  },
  {
   "cell_type": "code",
   "execution_count": 38,
   "id": "02577e66-a294-4a87-833a-fa9c5fe47622",
   "metadata": {
    "tags": []
   },
   "outputs": [
    {
     "data": {
      "image/png": "[encoded data removed]",
      "text/plain": [
       "<Figure size 400x400 with 1 Axes>"
      ]
     },
     "metadata": {},
     "output_type": "display_data"
    }
   ],
   "source": [
    "from util.plot import plot_triplane_channel\n",
    "plot_triplane_channel(img_latent[0].detach().cpu().numpy(), num_planes=1, title=\"img_latent\", save_path=None)"
   ]
  },
  {
   "cell_type": "code",
   "execution_count": null,
   "id": "12e893f2-d13d-4abc-b936-b75ff51903a3",
   "metadata": {},
   "outputs": [],
   "source": []
  }
 ],
 "metadata": {
  "kernelspec": {
   "display_name": "triplora",
   "language": "python",
   "name": "triplora"
  },
  "language_info": {
   "codemirror_mode": {
    "name": "ipython",
    "version": 3
   },
   "file_extension": ".py",
   "mimetype": "text/x-python",
   "name": "python",
   "nbconvert_exporter": "python",
   "pygments_lexer": "ipython3",
   "version": "3.9.19"
  }
 },
 "nbformat": 4,
 "nbformat_minor": 5
}
