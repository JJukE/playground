{
 "cells": [
  {
   "cell_type": "markdown",
   "id": "874129dd-00d5-4fea-9a69-d1bf5fd94d85",
   "metadata": {},
   "source": [
    "# Explore SDXL-base-v1 and SD-base-v2"
   ]
  },
  {
   "cell_type": "code",
   "execution_count": 1,
   "id": "e66de97e-ea88-4dd3-9274-75c35b4bff50",
   "metadata": {},
   "outputs": [],
   "source": [
    "from diffusers import UNet2DConditionModel"
   ]
  },
  {
   "cell_type": "code",
   "execution_count": 21,
   "id": "48592a97-1b2b-4a5f-a6ed-24b7d0d4808c",
   "metadata": {},
   "outputs": [],
   "source": [
    "unet = UNet2DConditionModel.from_pretrained(\n",
    "    \"stabilityai/stable-diffusion-xl-base-1.0\", subfolder=\"unet\"\n",
    ")"
   ]
  },
  {
   "cell_type": "code",
   "execution_count": 22,
   "id": "c063db33-131c-4d10-b25c-79c0498959e4",
   "metadata": {},
   "outputs": [],
   "source": [
    "unet.train();"
   ]
  },
  {
   "cell_type": "code",
   "execution_count": 23,
   "id": "9214073d-51ba-431c-93f6-f2eed44ac1dd",
   "metadata": {},
   "outputs": [
    {
     "name": "stdout",
     "output_type": "stream",
     "text": [
      "2567463684\n"
     ]
    }
   ],
   "source": [
    "model_size = 0\n",
    "for param in unet.parameters():\n",
    "    model_size += param.data.nelement()\n",
    "print(model_size)"
   ]
  },
  {
   "cell_type": "code",
   "execution_count": 24,
   "id": "f5820151-76be-4132-9aa1-78a22dbefcb7",
   "metadata": {},
   "outputs": [
    {
     "name": "stderr",
     "output_type": "stream",
     "text": [
      "/tmp/ipykernel_1168129/3803780671.py:1: FutureWarning: Accessing config attribute `encoder_hid_dim_type` directly via 'UNet2DConditionModel' object attribute is deprecated. Please access 'encoder_hid_dim_type' over 'UNet2DConditionModel's config object instead, e.g. 'unet.config.encoder_hid_dim_type'.\n",
      "  unet.encoder_hid_dim_type\n"
     ]
    }
   ],
   "source": [
    "unet.encoder_hid_dim_type"
   ]
  },
  {
   "cell_type": "code",
   "execution_count": 25,
   "id": "34f8a251-6935-4d69-ae05-0c61dad22333",
   "metadata": {},
   "outputs": [],
   "source": [
    "unet = UNet2DConditionModel.from_pretrained(\n",
    "    \"stabilityai/stable-diffusion-2-base\", subfolder=\"unet\"\n",
    ")"
   ]
  },
  {
   "cell_type": "code",
   "execution_count": 26,
   "id": "ce248154-9bc4-40b7-a857-22f647644ec7",
   "metadata": {},
   "outputs": [],
   "source": [
    "unet.train();"
   ]
  },
  {
   "cell_type": "code",
   "execution_count": 27,
   "id": "2b3a8ada-837a-44cc-a00f-af954b0c3183",
   "metadata": {},
   "outputs": [
    {
     "name": "stdout",
     "output_type": "stream",
     "text": [
      "865910724\n"
     ]
    }
   ],
   "source": [
    "model_size = 0\n",
    "for param in unet.parameters():\n",
    "    model_size += param.data.nelement()\n",
    "print(model_size)"
   ]
  },
  {
   "cell_type": "code",
   "execution_count": 31,
   "id": "4b60378d-8f61-42d2-ac8e-e4c67a0644f4",
   "metadata": {},
   "outputs": [
    {
     "name": "stderr",
     "output_type": "stream",
     "text": [
      "/tmp/ipykernel_1168129/3846282527.py:1: FutureWarning: Accessing config attribute `addition_embed_type` directly via 'UNet2DConditionModel' object attribute is deprecated. Please access 'addition_embed_type' over 'UNet2DConditionModel's config object instead, e.g. 'unet.config.addition_embed_type'.\n",
      "  unet.addition_embed_type is None\n"
     ]
    },
    {
     "data": {
      "text/plain": [
       "True"
      ]
     },
     "execution_count": 31,
     "metadata": {},
     "output_type": "execute_result"
    }
   ],
   "source": [
    "unet.addition_embed_type is None"
   ]
  },
  {
   "cell_type": "code",
   "execution_count": null,
   "id": "fd2f003d-94c7-4e0c-80ce-c62e6473807f",
   "metadata": {},
   "outputs": [],
   "source": []
  }
 ],
 "metadata": {
  "kernelspec": {
   "display_name": "sgtd",
   "language": "python",
   "name": "sgtd"
  },
  "language_info": {
   "codemirror_mode": {
    "name": "ipython",
    "version": 3
   },
   "file_extension": ".py",
   "mimetype": "text/x-python",
   "name": "python",
   "nbconvert_exporter": "python",
   "pygments_lexer": "ipython3",
   "version": "3.9.18"
  }
 },
 "nbformat": 4,
 "nbformat_minor": 5
}
