{
 "cells": [
  {
   "cell_type": "markdown",
   "id": "c4d24425-2287-4192-b4bb-0f73357260cf",
   "metadata": {},
   "source": [
    "# Explore SMPL and SMPL-X\n",
    "\n",
    "references\n",
    "- [smpl-x github](https://github.com/vchoutas/smplx)"
   ]
  },
  {
   "cell_type": "code",
   "execution_count": 4,
   "id": "5126575e-f5c3-48dc-8ac1-0296d3adac16",
   "metadata": {
    "tags": []
   },
   "outputs": [
    {
     "data": {
      "text/plain": [
       "'/root/dev/human'"
      ]
     },
     "execution_count": 4,
     "metadata": {},
     "output_type": "execute_result"
    }
   ],
   "source": [
    "import os\n",
    "\n",
    "os.chdir(\"/root/dev/human/\")\n",
    "os.getcwd()"
   ]
  },
  {
   "cell_type": "code",
   "execution_count": 5,
   "id": "764ef215-41a3-4a41-a3a9-7c089492fb4c",
   "metadata": {
    "tags": []
   },
   "outputs": [],
   "source": [
    "import torch\n",
    "\n",
    "torch.cuda.set_device(0)\n",
    "device = torch.device(\"cuda\" if torch.cuda.is_available() else \"cpu\")"
   ]
  },
  {
   "cell_type": "code",
   "execution_count": 6,
   "id": "7805c18a-6a6d-4b07-b9a1-a25b34e8f1d8",
   "metadata": {
    "tags": []
   },
   "outputs": [
    {
     "name": "stdout",
     "output_type": "stream",
     "text": [
      "\u001b[1m\u001b[37mdc603d09d8db              \u001b[m  Mon Sep  2 23:42:30 2024  \u001b[1m\u001b[30m550.100\u001b[m\n",
      "\u001b[36m[0]\u001b[m \u001b[34mNVIDIA GeForce RTX 4090\u001b[m |\u001b[31m 39°C\u001b[m, \u001b[32m  0 %\u001b[m | \u001b[36m\u001b[1m\u001b[33m  740\u001b[m / \u001b[33m24564\u001b[m MB |\n",
      "\u001b[36m[1]\u001b[m \u001b[34mNVIDIA GeForce RTX 4090\u001b[m |\u001b[31m 36°C\u001b[m, \u001b[32m  0 %\u001b[m | \u001b[36m\u001b[1m\u001b[33m   21\u001b[m / \u001b[33m24564\u001b[m MB |\n"
     ]
    }
   ],
   "source": [
    "!gpustat"
   ]
  },
  {
   "cell_type": "markdown",
   "id": "9d598e45-43c4-451f-b4f4-f5845fa5ac48",
   "metadata": {},
   "source": [
    "## Exploration of SMPL"
   ]
  },
  {
   "cell_type": "code",
   "execution_count": 57,
   "id": "252bddb5-cbff-4e99-b27a-f06b3e3b1b58",
   "metadata": {
    "tags": []
   },
   "outputs": [
    {
     "name": "stdout",
     "output_type": "stream",
     "text": [
      "basicmodel_f_lbs_10_207_0_v1.1.0.pkl\n",
      "basicmodel_m_lbs_10_207_0_v1.1.0.pkl\n",
      "basicmodel_neutral_lbs_10_207_0_v1.1.0.pkl\n"
     ]
    }
   ],
   "source": [
    "!ls /root/dev/playground/dataset/smpl/models"
   ]
  },
  {
   "cell_type": "code",
   "execution_count": 76,
   "id": "c06f4d11-7d8a-40ab-b769-63cc8bdab89d",
   "metadata": {
    "tags": []
   },
   "outputs": [
    {
     "name": "stdout",
     "output_type": "stream",
     "text": [
      "J: (24, 3)\n",
      "J_regressor: (24, 6890)\n",
      "J_regressor_prior: (24, 6890)\n",
      "bs_style: str\n",
      "lbs\n",
      "bs_type: str\n",
      "lrotmin\n",
      "f: (13776, 3)\n",
      "kintree_table: (2, 24)\n",
      "posedirs: (6890, 3, 207)\n",
      "shapedirs: (6890, 3, 300)\n",
      "v_template: (6890, 3)\n",
      "vert_sym_idxs: (6890,)\n",
      "weights: (6890, 24)\n",
      "weights_prior: (6890, 24)\n"
     ]
    }
   ],
   "source": [
    "# pickle file\n",
    "import pickle\n",
    "from typing import List\n",
    "\n",
    "# with open(input_models[0], \"rb\") as body_file:\n",
    "#     unpickled = pickle._Unpickler(body_file)\n",
    "#     unpickled.encoding = \"latin1\"\n",
    "#     body_data = unpickled.load()\n",
    "with open(\"/root/dev/playground/dataset/smpl/models/basicmodel_f_lbs_10_207_0_v1.1.0.pkl\", \"rb\") as body_file:\n",
    "    unpickled = pickle._Unpickler(body_file)\n",
    "    unpickled.encoding = \"latin1\"\n",
    "    body_data = unpickled.load()\n",
    "\n",
    "for key in sorted(body_data.keys()):\n",
    "    value = body_data[key]\n",
    "    if isinstance(value, List):\n",
    "        print(f\"{key}: List\")\n",
    "        print(f\"len: {len(value)}\")\n",
    "        print(f\"[0]: {value[0].shape}\")\n",
    "    elif isinstance(value, str):\n",
    "        print(f\"{key}: str\")\n",
    "        print(value)\n",
    "    else:\n",
    "        print(f\"{key}: {value.shape}\")"
   ]
  },
  {
   "cell_type": "markdown",
   "id": "5eb4ae9c-bfad-4e0a-ac1c-b18a594dd17b",
   "metadata": {},
   "source": [
    "## Exploration of SMPL-X"
   ]
  },
  {
   "cell_type": "code",
   "execution_count": 71,
   "id": "3d0bf235-3ac3-4da4-9a67-c2414c0ce4c3",
   "metadata": {
    "tags": []
   },
   "outputs": [
    {
     "name": "stdout",
     "output_type": "stream",
     "text": [
      "SMPLX_FEMALE.npz  SMPLX_MALE.npz  SMPLX_NEUTRAL.npz  smplx_npz.zip\n",
      "SMPLX_FEMALE.pkl  SMPLX_MALE.pkl  SMPLX_NEUTRAL.pkl  version.txt\n"
     ]
    }
   ],
   "source": [
    "!ls /root/dev/playground/dataset/smplx"
   ]
  },
  {
   "cell_type": "code",
   "execution_count": 90,
   "id": "a35b0a6b-bef3-4fab-950b-f3e2bb9adf12",
   "metadata": {
    "tags": []
   },
   "outputs": [
    {
     "name": "stdout",
     "output_type": "stream",
     "text": [
      "J_regressor: (55, 10475)\n",
      "allow_pickle: ()\n",
      "dynamic_lmk_bary_coords: (79, 17, 3)\n",
      "dynamic_lmk_faces_idx: (79, 17)\n",
      "f: (20908, 3)\n",
      "ft: (20908, 3)\n",
      "hands_coeffsl: (1554, 45)\n",
      "hands_coeffsr: (1554, 45)\n",
      "hands_componentsl: (45, 45)\n",
      "hands_componentsr: (45, 45)\n",
      "hands_meanl: (45,)\n",
      "hands_meanr: (45,)\n",
      "joint2num: ()\n",
      "kintree_table: (2, 55)\n",
      "lmk_bary_coords: (51, 3)\n",
      "lmk_faces_idx: (51,)\n",
      "part2num: ()\n",
      "posedirs: (10475, 3, 486)\n",
      "shapedirs: (10475, 3, 400)\n",
      "v_template: (10475, 3)\n",
      "vt: (11313, 2)\n",
      "weights: (10475, 55)\n"
     ]
    }
   ],
   "source": [
    "from typing import List\n",
    "\n",
    "import numpy as np\n",
    "\n",
    "body_data = np.load(\"/root/dev/playground/dataset/smplx/SMPLX_MALE.npz\", allow_pickle=True)\n",
    "\n",
    "# print(body_data.keys())\n",
    "\n",
    "for key in sorted(body_data.keys()):\n",
    "    value = body_data[key]\n",
    "    if isinstance(value, np.ndarray):\n",
    "        print(f\"{key}: {value.shape}\")\n",
    "    else:\n",
    "        print(f\"{key}: {value.shape}\")"
   ]
  },
  {
   "cell_type": "code",
   "execution_count": 89,
   "id": "7485d300-d4cb-4f74-aa2c-990ec5e1c9f9",
   "metadata": {
    "tags": []
   },
   "outputs": [
    {
     "name": "stdout",
     "output_type": "stream",
     "text": [
      "J_regressor: (55, 10475)\n",
      "dynamic_lmk_bary_coords: List\n",
      "len: 79\n",
      "[0]: (17, 3)\n",
      "dynamic_lmk_faces_idx: (79, 17)\n",
      "f: (20908, 3)\n",
      "ft: (20908, 3)\n",
      "hands_coeffsl: (1554, 45)\n",
      "hands_coeffsr: (1554, 45)\n",
      "hands_componentsl: (45, 45)\n",
      "hands_componentsr: (45, 45)\n",
      "hands_meanl: (45,)\n",
      "hands_meanr: (45,)\n",
      "joint2num: ()\n",
      "kintree_table: (2, 55)\n",
      "lmk_bary_coords: (51, 3)\n",
      "lmk_faces_idx: (51,)\n",
      "part2num: ()\n",
      "posedirs: (10475, 3, 486)\n",
      "shapedirs: (10475, 3, 400)\n",
      "v_template: (10475, 3)\n",
      "vt: (11313, 2)\n",
      "weights: (10475, 55)\n"
     ]
    }
   ],
   "source": [
    "from typing import List\n",
    "\n",
    "import pickle\n",
    "\n",
    "with open(\"/root/dev/playground/dataset/smplx/SMPLX_MALE.pkl\", \"rb\") as body_file:\n",
    "    unpickled = pickle._Unpickler(body_file)\n",
    "    unpickled.encoding = \"latin1\"\n",
    "    body_data = unpickled.load()\n",
    "\n",
    "# print(body_data.keys())\n",
    "\n",
    "for key in sorted(body_data.keys()):\n",
    "    value = body_data[key]\n",
    "    if isinstance(value, List):\n",
    "        print(f\"{key}: List\")\n",
    "        print(f\"len: {len(value)}\")\n",
    "        print(f\"[0]: {value[0].shape}\")\n",
    "    else:\n",
    "        print(f\"{key}: {value.shape}\")"
   ]
  },
  {
   "cell_type": "markdown",
   "id": "a9ab6f8e-754d-42e3-a542-050edd88d84a",
   "metadata": {},
   "source": [
    "## Preprocessing\n",
    "- Before using SMPL and SMPL+H you should follow the instructions below to remove the Chumpy objects from both model pkls, as well as merge the MANO parameters with SMPL+H."
   ]
  },
  {
   "cell_type": "code",
   "execution_count": 13,
   "id": "d1cf41a2-561e-4377-97e9-60f07bdfe8ce",
   "metadata": {
    "tags": []
   },
   "outputs": [],
   "source": [
    "\"\"\" tools/clean_ch.py \"\"\"\n",
    "\n",
    "from __future__ import print_function\n",
    "from __future__ import absolute_import\n",
    "from __future__ import division\n",
    "\n",
    "import os\n",
    "import argparse\n",
    "\n",
    "import numpy as np\n",
    "import pickle\n",
    "from tqdm import tqdm\n",
    "\n",
    "\n",
    "def clean_fn(fn, output_folder='output'):\n",
    "    with open(fn, 'rb') as body_file:\n",
    "        unpickled = pickle._Unpickler(body_file)\n",
    "        unpickled.encoding = \"latin1\"\n",
    "        body_data = unpickled.load()\n",
    "\n",
    "    output_dict = {}\n",
    "    for key, data in body_data.iteritems():\n",
    "        if 'chumpy' in str(type(data)):\n",
    "            output_dict[key] = np.array(data)\n",
    "        else:\n",
    "            output_dict[key] = data\n",
    "\n",
    "    out_fn = os.path.split(fn)[1]\n",
    "\n",
    "    out_path = os.path.join(output_folder, out_fn)\n",
    "    with open(out_path, 'wb') as out_file:\n",
    "        pickle.dump(output_dict, out_file)"
   ]
  },
  {
   "cell_type": "code",
   "execution_count": 14,
   "id": "d6a23f78-6432-4a3a-9abc-a061528b92c0",
   "metadata": {
    "tags": []
   },
   "outputs": [
    {
     "name": "stdout",
     "output_type": "stream",
     "text": [
      "SMPLX_FEMALE.npz  SMPLX_MALE.npz  SMPLX_NEUTRAL.npz  smplx_npz.zip\n",
      "SMPLX_FEMALE.pkl  SMPLX_MALE.pkl  SMPLX_NEUTRAL.pkl  version.txt\n"
     ]
    }
   ],
   "source": [
    "!ls /root/dev/playground/dataset/smplx"
   ]
  },
  {
   "cell_type": "code",
   "execution_count": 15,
   "id": "9b94ebce-be6e-465e-84ec-c733161d8e3a",
   "metadata": {
    "tags": []
   },
   "outputs": [
    {
     "ename": "AttributeError",
     "evalue": "'dict' object has no attribute 'iteritems'",
     "output_type": "error",
     "traceback": [
      "\u001b[0;31m---------------------------------------------------------------------------\u001b[0m",
      "\u001b[0;31mAttributeError\u001b[0m                            Traceback (most recent call last)",
      "Cell \u001b[0;32mIn[15], line 9\u001b[0m\n\u001b[1;32m      7\u001b[0m     os\u001b[38;5;241m.\u001b[39mmakedirs(output_folder)\n\u001b[1;32m      8\u001b[0m \u001b[38;5;28;01mfor\u001b[39;00m input_model \u001b[38;5;129;01min\u001b[39;00m input_models:\n\u001b[0;32m----> 9\u001b[0m     \u001b[43mclean_fn\u001b[49m\u001b[43m(\u001b[49m\u001b[43minput_model\u001b[49m\u001b[43m,\u001b[49m\u001b[43m \u001b[49m\u001b[43moutput_folder\u001b[49m\u001b[38;5;241;43m=\u001b[39;49m\u001b[43moutput_folder\u001b[49m\u001b[43m)\u001b[49m\n",
      "Cell \u001b[0;32mIn[13], line 39\u001b[0m, in \u001b[0;36mclean_fn\u001b[0;34m(fn, output_folder)\u001b[0m\n\u001b[1;32m     36\u001b[0m     body_data \u001b[38;5;241m=\u001b[39m unpickled\u001b[38;5;241m.\u001b[39mload()\n\u001b[1;32m     38\u001b[0m output_dict \u001b[38;5;241m=\u001b[39m {}\n\u001b[0;32m---> 39\u001b[0m \u001b[38;5;28;01mfor\u001b[39;00m key, data \u001b[38;5;129;01min\u001b[39;00m \u001b[43mbody_data\u001b[49m\u001b[38;5;241;43m.\u001b[39;49m\u001b[43miteritems\u001b[49m():\n\u001b[1;32m     40\u001b[0m     \u001b[38;5;28;01mif\u001b[39;00m \u001b[38;5;124m'\u001b[39m\u001b[38;5;124mchumpy\u001b[39m\u001b[38;5;124m'\u001b[39m \u001b[38;5;129;01min\u001b[39;00m \u001b[38;5;28mstr\u001b[39m(\u001b[38;5;28mtype\u001b[39m(data)):\n\u001b[1;32m     41\u001b[0m         output_dict[key] \u001b[38;5;241m=\u001b[39m np\u001b[38;5;241m.\u001b[39marray(data)\n",
      "\u001b[0;31mAttributeError\u001b[0m: 'dict' object has no attribute 'iteritems'"
     ]
    }
   ],
   "source": [
    "input_models = [\"/root/dev/playground/dataset/smplx/SMPLX_MALE.pkl\",\n",
    "                \"/root/dev/playground/dataset/smplx/SMPLX_FEMALE.pkl\",\n",
    "                \"/root/dev/playground/dataset/smplx/SMPLX_NEUTRAL.pkl\"] # SMPLX_MALE, SMPLX_FEMALE, SMPLX_NEUTRAL\n",
    "output_folder = \"/root/dev/playground/dataset/smplx_processed\"\n",
    "if not os.path.exists(output_folder):\n",
    "    print(f\"Creating directory: {output_folder}\")\n",
    "    os.makedirs(output_folder)\n",
    "for input_model in input_models:\n",
    "    clean_fn(input_model, output_folder=output_folder)"
   ]
  },
  {
   "cell_type": "markdown",
   "id": "6d569d86-652f-4b50-a610-c54b3683cdb3",
   "metadata": {},
   "source": [
    "- body data in SMPL-X"
   ]
  },
  {
   "cell_type": "code",
   "execution_count": 17,
   "id": "baf0ac2a-490c-42ce-9665-b1f925bb976a",
   "metadata": {
    "tags": []
   },
   "outputs": [
    {
     "name": "stdout",
     "output_type": "stream",
     "text": [
      "dict_keys(['dynamic_lmk_bary_coords', 'hands_componentsl', 'ft', 'lmk_faces_idx', 'f', 'J_regressor', 'hands_componentsr', 'kintree_table', 'hands_coeffsr', 'joint2num', 'hands_meanl', 'lmk_bary_coords', 'weights', 'posedirs', 'dynamic_lmk_faces_idx', 'part2num', 'vt', 'hands_meanr', 'hands_coeffsl', 'v_template', 'shapedirs'])\n"
     ]
    }
   ],
   "source": [
    "with open(input_models[0], \"rb\") as body_file:\n",
    "    unpickled = pickle._Unpickler(body_file)\n",
    "    unpickled.encoding = \"latin1\"\n",
    "    body_data = unpickled.load()\n",
    "\n",
    "print(body_data.keys())"
   ]
  },
  {
   "cell_type": "code",
   "execution_count": 51,
   "id": "f65cda79-550b-4daa-8ccb-cd46c8e342c7",
   "metadata": {
    "tags": []
   },
   "outputs": [
    {
     "name": "stdout",
     "output_type": "stream",
     "text": [
      "J_regressor: (55, 10475)\n",
      "\n",
      "dynamic_lmk_bary_coords: List\n",
      "len: 79\n",
      "[0]: (17, 3)\n",
      "\n",
      "dynamic_lmk_faces_idx: (79, 17)\n",
      "\n",
      "f: (20908, 3)\n",
      "\n",
      "ft: (20908, 3)\n",
      "\n",
      "hands_coeffsl: (1554, 45)\n",
      "\n",
      "hands_coeffsr: (1554, 45)\n",
      "\n",
      "hands_componentsl: (45, 45)\n",
      "\n",
      "hands_componentsr: (45, 45)\n",
      "\n",
      "hands_meanl: (45,)\n",
      "\n",
      "hands_meanr: (45,)\n",
      "\n",
      "joint2num: ()\n",
      "\n",
      "kintree_table: (2, 55)\n",
      "\n",
      "lmk_bary_coords: (51, 3)\n",
      "\n",
      "lmk_faces_idx: (51,)\n",
      "\n",
      "part2num: ()\n",
      "\n",
      "posedirs: (10475, 3, 486)\n",
      "\n",
      "shapedirs: (10475, 3, 400)\n",
      "\n",
      "v_template: (10475, 3)\n",
      "\n",
      "vt: (11313, 2)\n",
      "\n",
      "weights: (10475, 55)\n",
      "\n"
     ]
    }
   ],
   "source": [
    "from typing import List\n",
    "\n",
    "for key in sorted(body_data.keys()):\n",
    "    value = body_data[key]\n",
    "    if isinstance(value, List):\n",
    "        print(f\"{key}: List\")\n",
    "        print(f\"len: {len(value)}\")\n",
    "        print(f\"[0]: {value[0].shape}\")\n",
    "        print()\n",
    "    else:\n",
    "        print(f\"{key}: {value.shape}\")\n",
    "        print()"
   ]
  },
  {
   "cell_type": "code",
   "execution_count": null,
   "id": "487299f6-5847-4fbb-9e2f-17545eb88772",
   "metadata": {},
   "outputs": [],
   "source": []
  }
 ],
 "metadata": {
  "kernelspec": {
   "display_name": "dance_gen",
   "language": "python",
   "name": "dance_gen"
  },
  "language_info": {
   "codemirror_mode": {
    "name": "ipython",
    "version": 3
   },
   "file_extension": ".py",
   "mimetype": "text/x-python",
   "name": "python",
   "nbconvert_exporter": "python",
   "pygments_lexer": "ipython3",
   "version": "3.9.19"
  }
 },
 "nbformat": 4,
 "nbformat_minor": 5
}
