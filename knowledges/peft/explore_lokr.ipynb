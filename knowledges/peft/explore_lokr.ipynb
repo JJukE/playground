{
 "cells": [
  {
   "cell_type": "code",
   "execution_count": 1,
   "id": "a17bb144-89f2-43a3-97d8-5fe83d915d9c",
   "metadata": {
    "tags": []
   },
   "outputs": [
    {
     "data": {
      "text/plain": [
       "'/root/dev/playground/knowledges/peft'"
      ]
     },
     "execution_count": 1,
     "metadata": {},
     "output_type": "execute_result"
    }
   ],
   "source": [
    "import os\n",
    "\n",
    "os.chdir(\"/root/dev/playground/knowledges/peft\")\n",
    "os.getcwd()"
   ]
  },
  {
   "cell_type": "code",
   "execution_count": 2,
   "id": "d85dbfca-8449-4f3a-a13a-d7dd7cf0a8ca",
   "metadata": {
    "tags": []
   },
   "outputs": [
    {
     "name": "stdout",
     "output_type": "stream",
     "text": [
      "\u001b[1m\u001b[37maa4173e0a5f2              \u001b[m  Mon Jul  8 14:34:55 2024  \u001b[1m\u001b[30m535.129.03\u001b[m\n",
      "\u001b[36m[0]\u001b[m \u001b[34mNVIDIA GeForce RTX 4090\u001b[m |\u001b[31m 28°C\u001b[m, \u001b[32m  0 %\u001b[m | \u001b[36m\u001b[1m\u001b[33m    2\u001b[m / \u001b[33m24564\u001b[m MB |\n",
      "\u001b[36m[1]\u001b[m \u001b[34mNVIDIA GeForce RTX 4090\u001b[m |\u001b[31m 32°C\u001b[m, \u001b[32m  0 %\u001b[m | \u001b[36m\u001b[1m\u001b[33m    2\u001b[m / \u001b[33m24564\u001b[m MB |\n",
      "\u001b[36m[2]\u001b[m \u001b[34mNVIDIA GeForce RTX 4090\u001b[m |\u001b[31m 32°C\u001b[m, \u001b[32m  0 %\u001b[m | \u001b[36m\u001b[1m\u001b[33m    2\u001b[m / \u001b[33m24564\u001b[m MB |\n",
      "\u001b[36m[3]\u001b[m \u001b[34mNVIDIA GeForce RTX 4090\u001b[m |\u001b[31m 32°C\u001b[m, \u001b[32m  0 %\u001b[m | \u001b[36m\u001b[1m\u001b[33m    2\u001b[m / \u001b[33m24564\u001b[m MB |\n",
      "\u001b[36m[4]\u001b[m \u001b[34mNVIDIA GeForce RTX 4090\u001b[m |\u001b[31m 32°C\u001b[m, \u001b[32m  0 %\u001b[m | \u001b[36m\u001b[1m\u001b[33m    2\u001b[m / \u001b[33m24564\u001b[m MB |\n",
      "\u001b[36m[5]\u001b[m \u001b[34mNVIDIA GeForce RTX 4090\u001b[m |\u001b[31m 32°C\u001b[m, \u001b[32m  0 %\u001b[m | \u001b[36m\u001b[1m\u001b[33m    2\u001b[m / \u001b[33m24564\u001b[m MB |\n"
     ]
    }
   ],
   "source": [
    "!gpustat"
   ]
  },
  {
   "cell_type": "code",
   "execution_count": 3,
   "id": "4e6c7fa1-fa3c-4ba7-978b-0d5f4bdcde49",
   "metadata": {
    "tags": []
   },
   "outputs": [],
   "source": [
    "import torch\n",
    "\n",
    "torch.cuda.set_device(5)\n",
    "device = torch.device(\"cuda\" if torch.cuda.is_available() else \"cpu\")"
   ]
  },
  {
   "cell_type": "markdown",
   "id": "5a81d369-d223-47aa-8181-1a1de54bc0aa",
   "metadata": {},
   "source": [
    "# Explore LoKr"
   ]
  },
  {
   "cell_type": "code",
   "execution_count": 6,
   "id": "4d6bd79b-f5d3-4bce-9d05-5d734ad4767f",
   "metadata": {
    "tags": []
   },
   "outputs": [],
   "source": [
    "from typing import Tuple\n",
    "\n",
    "def factorization(dimension: int, factor: int = -1) -> Tuple[int, int]:\n",
    "    \"\"\"Factorizes the provided number into the product of two numbers\n",
    "\n",
    "    Args:\n",
    "        dimension (`int`): The number that needs to be factorized.\n",
    "        factor (`int`, optional):\n",
    "            Factorization divider. The algorithm will try to output two numbers, one of each will be as close to the\n",
    "            factor as possible. If -1 is provided, the decomposition algorithm would try to search dividers near the\n",
    "            square root of the dimension. Defaults to -1.\n",
    "\n",
    "    Returns:\n",
    "        Tuple[`int`, `int`]: A tuple of two numbers, whose product is equal to the provided number. The first number is\n",
    "        always less than or equal to the second.\n",
    "    \"\"\"\n",
    "\n",
    "    if factor > 0 and (dimension % factor) == 0:\n",
    "        m = factor\n",
    "        n = dimension // factor\n",
    "        return m, n\n",
    "    if factor == -1:\n",
    "        factor = dimension\n",
    "    m, n = 1, dimension\n",
    "    length = m + n\n",
    "    while m < n:\n",
    "        new_m = m + 1\n",
    "        while dimension % new_m != 0:\n",
    "            new_m += 1\n",
    "        new_n = dimension // new_m\n",
    "        if new_m + new_n > length or new_m > factor:\n",
    "            break\n",
    "        else:\n",
    "            m, n = new_m, new_n\n",
    "    if m > n:\n",
    "        n, m = m, n\n",
    "    return m, n"
   ]
  },
  {
   "cell_type": "code",
   "execution_count": 7,
   "id": "43499458-fc0c-49e7-a332-e0b6e2bbf8a7",
   "metadata": {
    "tags": []
   },
   "outputs": [],
   "source": [
    "decompose_factor = 2"
   ]
  },
  {
   "cell_type": "code",
   "execution_count": 15,
   "id": "ef41bc68-a43a-4469-b17a-052251402656",
   "metadata": {
    "tags": []
   },
   "outputs": [
    {
     "name": "stdout",
     "output_type": "stream",
     "text": [
      "2 64 2 128\n",
      "8 16 16 16\n"
     ]
    }
   ],
   "source": [
    "# p = 128, q = 256\n",
    "# u_p, u_q for C // v_p for B (v_p, r) // v_q for A (r, v_q)\n",
    "u_p, v_p = factorization(128, 2)\n",
    "u_q, v_q = factorization(256, 2)\n",
    "print(u_p, v_p, u_q, v_q)\n",
    "\n",
    "u_p, v_p = factorization(128)\n",
    "u_q, v_q = factorization(256)\n",
    "print(u_p, v_p, u_q, v_q)"
   ]
  },
  {
   "cell_type": "code",
   "execution_count": 20,
   "id": "f5e9dd9e-203e-4cbb-84c9-ea875401a7a5",
   "metadata": {
    "tags": []
   },
   "outputs": [],
   "source": [
    "# in case of linear\n",
    "in_dim, out_dim = 128, 256\n",
    "\n",
    "u_p, v_p = factorization(128, 2)\n",
    "u_q, v_q = factorization(256, 2)\n",
    "\n",
    "# shape = ((out_l, out_k), (in_m, in_n))\n",
    "shape = ((u_q, v_q), (u_p, v_p))"
   ]
  },
  {
   "cell_type": "code",
   "execution_count": 21,
   "id": "2a27e99e-7b85-4e14-b2c3-90e0c1775ae5",
   "metadata": {
    "tags": []
   },
   "outputs": [],
   "source": [
    "r = 128"
   ]
  },
  {
   "cell_type": "code",
   "execution_count": 23,
   "id": "e7547989-9215-4dc1-b01f-38f7893d3f41",
   "metadata": {
    "tags": []
   },
   "outputs": [],
   "source": [
    "decompose_both = False"
   ]
  },
  {
   "cell_type": "code",
   "execution_count": 26,
   "id": "a7c35c1e-1ab6-406e-9ec8-a71e714dea77",
   "metadata": {
    "tags": []
   },
   "outputs": [
    {
     "name": "stdout",
     "output_type": "stream",
     "text": [
      "r:  128 \tmax(u_q, u_p) / 2:  1.0\n",
      "True\n"
     ]
    }
   ],
   "source": [
    "use_w1 = not (decompose_both and r < max(u_q, u_p) / 2)\n",
    "print(\"r: \", r, \"\\tmax(u_q, u_p) / 2: \", max(u_q, u_p) / 2)\n",
    "print(use_w1)"
   ]
  },
  {
   "cell_type": "code",
   "execution_count": 22,
   "id": "614e6976-790c-4271-9982-7aa09958e868",
   "metadata": {
    "tags": []
   },
   "outputs": [
    {
     "name": "stdout",
     "output_type": "stream",
     "text": [
      "r:  128 \tmax(v_q, v_p) / 2:  64.0\n",
      "True\n"
     ]
    }
   ],
   "source": [
    "use_w2 = not (r < max(v_q, v_p) / 2)\n",
    "print(\"r: \", r, \"\\tmax(v_q, v_p) / 2: \", max(v_q, v_p) / 2)\n",
    "print(use_w2)"
   ]
  },
  {
   "cell_type": "code",
   "execution_count": 27,
   "id": "a9c01e48-6882-4f41-bf85-f4da9633054d",
   "metadata": {
    "tags": []
   },
   "outputs": [],
   "source": [
    "def create_adapter_parameters(\n",
    "    self,\n",
    "    adapter_name: str,\n",
    "    r: int,\n",
    "    shape,\n",
    "    use_w1: bool,\n",
    "    use_w2: bool,\n",
    "    use_effective_conv2d: bool,\n",
    "):\n",
    "    if use_w1:\n",
    "        self.lokr_w1[adapter_name] = nn.Parameter(torch.empty(shape[0][0], shape[1][0])) # (u_q, u_p) -> C\n",
    "    else:\n",
    "        self.lokr_w1_a[adapter_name] = nn.Parameter(torch.empty(shape[0][0], r)) # (u_q, r)\n",
    "        self.lokr_w1_b[adapter_name] = nn.Parameter(torch.empty(r, shape[1][0])) # (r, u_p)\n",
    "\n",
    "    if len(shape) == 4:\n",
    "        # Conv2d\n",
    "        if use_w2:\n",
    "            self.lokr_w2[adapter_name] = nn.Parameter(torch.empty(shape[0][1], shape[1][1], *shape[2:]))\n",
    "        elif use_effective_conv2d:\n",
    "            self.lokr_t2[adapter_name] = nn.Parameter(torch.empty(r, r, shape[2], shape[3]))\n",
    "            self.lokr_w2_a[adapter_name] = nn.Parameter(torch.empty(r, shape[0][1]))  # b, 1-mode\n",
    "            self.lokr_w2_b[adapter_name] = nn.Parameter(torch.empty(r, shape[1][1]))  # d, 2-mode\n",
    "        else:\n",
    "            self.lokr_w2_a[adapter_name] = nn.Parameter(torch.empty(shape[0][1], r))\n",
    "            self.lokr_w2_b[adapter_name] = nn.Parameter(torch.empty(r, shape[1][1] * shape[2] * shape[3]))\n",
    "    else:\n",
    "        # Linear\n",
    "        if use_w2:\n",
    "            self.lokr_w2[adapter_name] = nn.Parameter(torch.empty(shape[0][1], shape[1][1])) # (v_q, v_p)\n",
    "        else:\n",
    "            self.lokr_w2_a[adapter_name] = nn.Parameter(torch.empty(shape[0][1], r)) # (v_q, r) -> A\n",
    "            self.lokr_w2_b[adapter_name] = nn.Parameter(torch.empty(r, shape[1][1])) # (r, v_p) -> B"
   ]
  },
  {
   "cell_type": "code",
   "execution_count": null,
   "id": "e05dd363-e20a-46ab-ac07-a4a09af4ab46",
   "metadata": {},
   "outputs": [],
   "source": []
  }
 ],
 "metadata": {
  "kernelspec": {
   "display_name": "triplora",
   "language": "python",
   "name": "triplora"
  },
  "language_info": {
   "codemirror_mode": {
    "name": "ipython",
    "version": 3
   },
   "file_extension": ".py",
   "mimetype": "text/x-python",
   "name": "python",
   "nbconvert_exporter": "python",
   "pygments_lexer": "ipython3",
   "version": "3.9.19"
  }
 },
 "nbformat": 4,
 "nbformat_minor": 5
}
