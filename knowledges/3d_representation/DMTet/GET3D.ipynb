{
 "cells": [
  {
   "cell_type": "code",
   "execution_count": 1,
   "id": "fc069b69-8263-4ea4-b9e1-6f0ad6c66f6f",
   "metadata": {},
   "outputs": [
    {
     "data": {
      "text/plain": [
       "'/root/dev/playground/knowledges/3d_representation/DMTet'"
      ]
     },
     "execution_count": 1,
     "metadata": {},
     "output_type": "execute_result"
    }
   ],
   "source": [
    "import os\n",
    "\n",
    "os.chdir(\"/root/dev/playground/knowledges/3d_representation/DMTet/\")\n",
    "os.getcwd()"
   ]
  },
  {
   "cell_type": "code",
   "execution_count": 2,
   "id": "c42e7170-a999-4737-b54c-478311f25806",
   "metadata": {},
   "outputs": [
    {
     "name": "stdout",
     "output_type": "stream",
     "text": [
      "\u001b[1m\u001b[37m6f37a742720d              \u001b[m  Thu Apr 18 17:16:07 2024  \u001b[1m\u001b[30m525.89.02\u001b[m\n",
      "\u001b[36m[0]\u001b[m \u001b[34mNVIDIA GeForce RTX 4090\u001b[m |\u001b[31m 43°C\u001b[m, \u001b[32m  5 %\u001b[m | \u001b[36m\u001b[1m\u001b[33m  944\u001b[m / \u001b[33m24564\u001b[m MB |\n",
      "\u001b[36m[1]\u001b[m \u001b[34mNVIDIA GeForce RTX 4090\u001b[m |\u001b[31m 39°C\u001b[m, \u001b[32m  0 %\u001b[m | \u001b[36m\u001b[1m\u001b[33m   10\u001b[m / \u001b[33m24564\u001b[m MB |\n"
     ]
    }
   ],
   "source": [
    "!gpustat"
   ]
  },
  {
   "cell_type": "code",
   "execution_count": 3,
   "id": "40e82b24-229f-4f48-9d35-d59a967f4fa2",
   "metadata": {},
   "outputs": [],
   "source": [
    "import torch\n",
    "\n",
    "torch.cuda.set_device(1)\n",
    "device = torch.device(\"cuda\" if torch.cuda.is_available() else \"cpu\")"
   ]
  },
  {
   "cell_type": "markdown",
   "id": "0cc8ef8d-f290-4b77-8400-7a132f207abc",
   "metadata": {},
   "source": [
    "# ETC. 3 by 3 rolled convolution\n",
    "\n",
    "- Convolution is applied to height-stacked triplanes"
   ]
  },
  {
   "cell_type": "code",
   "execution_count": 10,
   "id": "4038ef74-9057-4d39-838a-3c2ae5654546",
   "metadata": {},
   "outputs": [],
   "source": [
    "# 3 x 3 rolled convolution\n",
    "from torch import nn\n",
    "\n",
    "conv = nn.Conv2d(32, 16, 3)"
   ]
  },
  {
   "cell_type": "code",
   "execution_count": 11,
   "id": "d74e9a53-e56a-40b9-91d9-d2d2bd99f11f",
   "metadata": {},
   "outputs": [],
   "source": [
    "triplane_ex = torch.rand((3*8, 32, 128, 128))"
   ]
  },
  {
   "cell_type": "code",
   "execution_count": 12,
   "id": "c5283a28-8a57-48dd-9c4d-17a6dc3ea910",
   "metadata": {},
   "outputs": [],
   "source": [
    "triplane_rolled = triplane_ex.reshape(8, 32, -1, 128)"
   ]
  },
  {
   "cell_type": "code",
   "execution_count": 13,
   "id": "c4d83112-0c9e-4d1c-be72-ed6872ae2068",
   "metadata": {},
   "outputs": [
    {
     "data": {
      "text/plain": [
       "torch.Size([8, 32, 384, 128])"
      ]
     },
     "execution_count": 13,
     "metadata": {},
     "output_type": "execute_result"
    }
   ],
   "source": [
    "triplane_rolled.shape"
   ]
  },
  {
   "cell_type": "code",
   "execution_count": 14,
   "id": "3f227f30-5438-4765-87e5-3f25829e61b4",
   "metadata": {},
   "outputs": [
    {
     "data": {
      "text/plain": [
       "torch.Size([8, 16, 382, 126])"
      ]
     },
     "execution_count": 14,
     "metadata": {},
     "output_type": "execute_result"
    }
   ],
   "source": [
    "conv(triplane_rolled).shape"
   ]
  },
  {
   "cell_type": "code",
   "execution_count": null,
   "id": "62d00944-bb1a-4a4d-9ea3-28885090483e",
   "metadata": {},
   "outputs": [],
   "source": []
  }
 ],
 "metadata": {
  "kernelspec": {
   "display_name": "MeshDiffusion",
   "language": "python",
   "name": "meshdiffusion"
  },
  "language_info": {
   "codemirror_mode": {
    "name": "ipython",
    "version": 3
   },
   "file_extension": ".py",
   "mimetype": "text/x-python",
   "name": "python",
   "nbconvert_exporter": "python",
   "pygments_lexer": "ipython3",
   "version": "3.9.19"
  }
 },
 "nbformat": 4,
 "nbformat_minor": 5
}
