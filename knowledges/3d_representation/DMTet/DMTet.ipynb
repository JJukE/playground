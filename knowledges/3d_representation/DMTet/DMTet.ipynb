{
 "cells": [
  {
   "cell_type": "code",
   "execution_count": 3,
   "id": "425b10ac-cedc-4caf-8653-2580af08b617",
   "metadata": {},
   "outputs": [
    {
     "data": {
      "text/plain": [
       "'/root/dev/playground/knowledges/3d_representation/DMTet'"
      ]
     },
     "execution_count": 3,
     "metadata": {},
     "output_type": "execute_result"
    }
   ],
   "source": [
    "import os\n",
    "\n",
    "os.chdir(\"/root/dev/playground/knowledges/3d_representation/DMTet/\")\n",
    "os.getcwd()"
   ]
  },
  {
   "cell_type": "code",
   "execution_count": 4,
   "id": "6148bc0f-3b5c-4339-9ff8-54ffb0440e5b",
   "metadata": {},
   "outputs": [
    {
     "name": "stdout",
     "output_type": "stream",
     "text": [
      "\u001b[1m\u001b[37m6f37a742720d              \u001b[m  Wed Apr 17 01:20:03 2024  \u001b[1m\u001b[30m525.89.02\u001b[m\n",
      "\u001b[36m[0]\u001b[m \u001b[34mNVIDIA GeForce RTX 4090\u001b[m |\u001b[31m 41°C\u001b[m, \u001b[32m  7 %\u001b[m | \u001b[36m\u001b[1m\u001b[33m  945\u001b[m / \u001b[33m24564\u001b[m MB |\n",
      "\u001b[36m[1]\u001b[m \u001b[34mNVIDIA GeForce RTX 4090\u001b[m |\u001b[31m 37°C\u001b[m, \u001b[32m  0 %\u001b[m | \u001b[36m\u001b[1m\u001b[33m  399\u001b[m / \u001b[33m24564\u001b[m MB |\n"
     ]
    }
   ],
   "source": [
    "!gpustat"
   ]
  },
  {
   "cell_type": "code",
   "execution_count": 6,
   "id": "a8a9d28f-ecd8-45a5-b493-cfaa03418c31",
   "metadata": {},
   "outputs": [],
   "source": [
    "import torch\n",
    "\n",
    "torch.cuda.set_device(1)\n",
    "device = torch.device(\"cuda\" if torch.cuda.is_available() else \"cpu\")"
   ]
  },
  {
   "cell_type": "markdown",
   "id": "6ccf4362-04b6-4141-8345-a92232974082",
   "metadata": {},
   "source": [
    "# Explore DMTet\n",
    "\n",
    "code from [nvdiffrec](https://github.com/NVlabs/nvdiffrec/blob/main/geometry/dmtet.py) - Extracting Triangular 3D Models, Materials, and Lighting From Images"
   ]
  },
  {
   "cell_type": "code",
   "execution_count": 263,
   "id": "9d9f2535-4852-45f9-9577-4115693b17d1",
   "metadata": {},
   "outputs": [],
   "source": [
    "import numpy as np\n",
    "import torch"
   ]
  },
  {
   "cell_type": "markdown",
   "id": "f450627f-d084-495a-946d-1b91ef9500bf",
   "metadata": {
    "jp-MarkdownHeadingCollapsed": true
   },
   "source": [
    "## Marching Tetrahedra Algorithm"
   ]
  },
  {
   "cell_type": "code",
   "execution_count": 1,
   "id": "af897f2c-f665-41ff-8495-f854d7880310",
   "metadata": {},
   "outputs": [],
   "source": [
    "###############################################################################\n",
    "# Marching tetrahedrons implementation (differentiable), adapted from\n",
    "# https://github.com/NVIDIAGameWorks/kaolin/blob/master/kaolin/ops/conversions/tetmesh.py\n",
    "###############################################################################\n",
    "\n",
    "class DMTet:\n",
    "    def __init__(self):\n",
    "        self.triangle_table = torch.tensor([\n",
    "                [-1, -1, -1, -1, -1, -1],\n",
    "                [ 1,  0,  2, -1, -1, -1],\n",
    "                [ 4,  0,  3, -1, -1, -1],\n",
    "                [ 1,  4,  2,  1,  3,  4],\n",
    "                [ 3,  1,  5, -1, -1, -1],\n",
    "                [ 2,  3,  0,  2,  5,  3],\n",
    "                [ 1,  4,  0,  1,  5,  4],\n",
    "                [ 4,  2,  5, -1, -1, -1],\n",
    "                [ 4,  5,  2, -1, -1, -1],\n",
    "                [ 4,  1,  0,  4,  5,  1],\n",
    "                [ 3,  2,  0,  3,  5,  2],\n",
    "                [ 1,  3,  5, -1, -1, -1],\n",
    "                [ 4,  1,  2,  4,  3,  1],\n",
    "                [ 3,  0,  4, -1, -1, -1],\n",
    "                [ 2,  0,  1, -1, -1, -1],\n",
    "                [-1, -1, -1, -1, -1, -1]\n",
    "                ], dtype=torch.long, device='cuda')\n",
    "\n",
    "        self.num_triangles_table = torch.tensor([0,1,1,2,1,2,2,1,1,2,2,1,2,1,1,0], dtype=torch.long, device='cuda')\n",
    "        self.base_tet_edges = torch.tensor([0,1,0,2,0,3,1,2,1,3,2,3], dtype=torch.long, device='cuda')\n",
    "\n",
    "    ###############################################################################\n",
    "    # Utility functions\n",
    "    ###############################################################################\n",
    "\n",
    "    def sort_edges(self, edges_ex2):\n",
    "        with torch.no_grad():\n",
    "            order = (edges_ex2[:,0] > edges_ex2[:,1]).long()\n",
    "            order = order.unsqueeze(dim=1)\n",
    "\n",
    "            a = torch.gather(input=edges_ex2, index=order, dim=1)      \n",
    "            b = torch.gather(input=edges_ex2, index=1-order, dim=1)  \n",
    "\n",
    "        return torch.stack([a, b],-1)\n",
    "\n",
    "    def map_uv(self, faces, face_gidx, max_idx):\n",
    "        N = int(np.ceil(np.sqrt((max_idx+1)//2)))\n",
    "        tex_y, tex_x = torch.meshgrid(\n",
    "            torch.linspace(0, 1 - (1 / N), N, dtype=torch.float32, device=\"cuda\"),\n",
    "            torch.linspace(0, 1 - (1 / N), N, dtype=torch.float32, device=\"cuda\"),\n",
    "            indexing='ij'\n",
    "        )\n",
    "\n",
    "        pad = 0.9 / N\n",
    "\n",
    "        uvs = torch.stack([\n",
    "            tex_x      , tex_y,\n",
    "            tex_x + pad, tex_y,\n",
    "            tex_x + pad, tex_y + pad,\n",
    "            tex_x      , tex_y + pad\n",
    "        ], dim=-1).view(-1, 2)\n",
    "\n",
    "        def _idx(tet_idx, N):\n",
    "            x = tet_idx % N\n",
    "            y = torch.div(tet_idx, N, rounding_mode='trunc')\n",
    "            return y * N + x\n",
    "\n",
    "        tet_idx = _idx(torch.div(face_gidx, 2, rounding_mode='trunc'), N)\n",
    "        tri_idx = face_gidx % 2\n",
    "\n",
    "        uv_idx = torch.stack((\n",
    "            tet_idx * 4, tet_idx * 4 + tri_idx + 1, tet_idx * 4 + tri_idx + 2\n",
    "        ), dim = -1). view(-1, 3)\n",
    "\n",
    "        return uvs, uv_idx\n",
    "\n",
    "    ###############################################################################\n",
    "    # Marching tets implementation\n",
    "    ###############################################################################\n",
    "\n",
    "    def __call__(self, pos_nx3, sdf_n, tet_fx4):\n",
    "        with torch.no_grad():\n",
    "            occ_n = sdf_n > 0\n",
    "            occ_fx4 = occ_n[tet_fx4.reshape(-1)].reshape(-1,4)\n",
    "            occ_sum = torch.sum(occ_fx4, -1)\n",
    "            valid_tets = (occ_sum>0) & (occ_sum<4)\n",
    "            occ_sum = occ_sum[valid_tets]\n",
    "\n",
    "            # find all vertices\n",
    "            all_edges = tet_fx4[valid_tets][:,self.base_tet_edges].reshape(-1,2)\n",
    "            all_edges = self.sort_edges(all_edges)\n",
    "            unique_edges, idx_map = torch.unique(all_edges,dim=0, return_inverse=True)  \n",
    "            \n",
    "            unique_edges = unique_edges.long()\n",
    "            mask_edges = occ_n[unique_edges.reshape(-1)].reshape(-1,2).sum(-1) == 1\n",
    "            mapping = torch.ones((unique_edges.shape[0]), dtype=torch.long, device=\"cuda\") * -1\n",
    "            mapping[mask_edges] = torch.arange(mask_edges.sum(), dtype=torch.long,device=\"cuda\")\n",
    "            idx_map = mapping[idx_map] # map edges to verts\n",
    "\n",
    "            interp_v = unique_edges[mask_edges]\n",
    "        edges_to_interp = pos_nx3[interp_v.reshape(-1)].reshape(-1,2,3)\n",
    "        edges_to_interp_sdf = sdf_n[interp_v.reshape(-1)].reshape(-1,2,1)\n",
    "        edges_to_interp_sdf[:,-1] *= -1\n",
    "\n",
    "        denominator = edges_to_interp_sdf.sum(1,keepdim = True)\n",
    "\n",
    "        edges_to_interp_sdf = torch.flip(edges_to_interp_sdf, [1])/denominator\n",
    "        verts = (edges_to_interp * edges_to_interp_sdf).sum(1)\n",
    "\n",
    "        idx_map = idx_map.reshape(-1,6)\n",
    "\n",
    "        v_id = torch.pow(2, torch.arange(4, dtype=torch.long, device=\"cuda\"))\n",
    "        tetindex = (occ_fx4[valid_tets] * v_id.unsqueeze(0)).sum(-1)\n",
    "        num_triangles = self.num_triangles_table[tetindex]\n",
    "\n",
    "        # Generate triangle indices\n",
    "        faces = torch.cat((\n",
    "            torch.gather(input=idx_map[num_triangles == 1], dim=1, index=self.triangle_table[tetindex[num_triangles == 1]][:, :3]).reshape(-1,3),\n",
    "            torch.gather(input=idx_map[num_triangles == 2], dim=1, index=self.triangle_table[tetindex[num_triangles == 2]][:, :6]).reshape(-1,3),\n",
    "        ), dim=0)\n",
    "\n",
    "        # Get global face index (static, does not depend on topology)\n",
    "        num_tets = tet_fx4.shape[0]\n",
    "        tet_gidx = torch.arange(num_tets, dtype=torch.long, device=\"cuda\")[valid_tets]\n",
    "        face_gidx = torch.cat((\n",
    "            tet_gidx[num_triangles == 1]*2,\n",
    "            torch.stack((tet_gidx[num_triangles == 2]*2, tet_gidx[num_triangles == 2]*2 + 1), dim=-1).view(-1)\n",
    "        ), dim=0)\n",
    "\n",
    "        uvs, uv_idx = self.map_uv(faces, face_gidx, num_tets*2)\n",
    "\n",
    "        return verts, faces, uvs, uv_idx"
   ]
  },
  {
   "cell_type": "markdown",
   "id": "64141703-5070-4ebc-90c2-936fa7b8daff",
   "metadata": {},
   "source": [
    "### Init"
   ]
  },
  {
   "cell_type": "code",
   "execution_count": 46,
   "id": "6a094fee-d833-4b65-afe6-b61c1b54b7bd",
   "metadata": {},
   "outputs": [],
   "source": [
    "triangle_table = torch.tensor([\n",
    "                [-1, -1, -1, -1, -1, -1],\n",
    "                [ 1,  0,  2, -1, -1, -1],\n",
    "                [ 4,  0,  3, -1, -1, -1],\n",
    "                [ 1,  4,  2,  1,  3,  4],\n",
    "                [ 3,  1,  5, -1, -1, -1],\n",
    "                [ 2,  3,  0,  2,  5,  3],\n",
    "                [ 1,  4,  0,  1,  5,  4],\n",
    "                [ 4,  2,  5, -1, -1, -1],\n",
    "                [ 4,  5,  2, -1, -1, -1],\n",
    "                [ 4,  1,  0,  4,  5,  1],\n",
    "                [ 3,  2,  0,  3,  5,  2],\n",
    "                [ 1,  3,  5, -1, -1, -1],\n",
    "                [ 4,  1,  2,  4,  3,  1],\n",
    "                [ 3,  0,  4, -1, -1, -1],\n",
    "                [ 2,  0,  1, -1, -1, -1],\n",
    "                [-1, -1, -1, -1, -1, -1]\n",
    "                ], dtype=torch.long) # total number of surface typologies: 2^4 = 16\n",
    "num_triangles_table = torch.tensor([0,1,1,2,1,2,2,1,1,2,2,1,2,1,1,0], dtype=torch.long) # unique cases: 3\n",
    "base_tet_edges = torch.tensor([0,1,0,2,0,3,1,2,1,3,2,3], dtype=torch.long) # number of edges of a tetrohydron: 6"
   ]
  },
  {
   "cell_type": "code",
   "execution_count": 47,
   "id": "1c5390ab-7121-4cb2-8844-f72ba6880f44",
   "metadata": {},
   "outputs": [
    {
     "data": {
      "text/plain": [
       "torch.Size([16, 6])"
      ]
     },
     "execution_count": 47,
     "metadata": {},
     "output_type": "execute_result"
    }
   ],
   "source": [
    "triangle_table.shape"
   ]
  },
  {
   "cell_type": "code",
   "execution_count": 48,
   "id": "53b6ba7a-159a-412b-af89-19b7927718b0",
   "metadata": {},
   "outputs": [
    {
     "data": {
      "text/plain": [
       "torch.Size([16])"
      ]
     },
     "execution_count": 48,
     "metadata": {},
     "output_type": "execute_result"
    }
   ],
   "source": [
    "num_triangles_table.shape"
   ]
  },
  {
   "cell_type": "code",
   "execution_count": 49,
   "id": "a5c95706-9b0e-4559-b4c6-5891993b7517",
   "metadata": {},
   "outputs": [
    {
     "data": {
      "text/plain": [
       "torch.Size([12])"
      ]
     },
     "execution_count": 49,
     "metadata": {},
     "output_type": "execute_result"
    }
   ],
   "source": [
    "base_tet_edges.shape"
   ]
  },
  {
   "cell_type": "markdown",
   "id": "ae76faf7-b687-44ea-bfbd-f3637a7fe77b",
   "metadata": {},
   "source": [
    "### call"
   ]
  },
  {
   "cell_type": "code",
   "execution_count": 166,
   "id": "c8c5e52a-3d9f-416b-9e85-81255c733cf2",
   "metadata": {},
   "outputs": [],
   "source": [
    "sdf = torch.rand((2048,)) * 2 - 1\n",
    "pos = torch.rand((2048, 3)) * 2 - 1\n",
    "tet_feat = torch.randint(low=0, high=10, size=(256, 4)) # 256?"
   ]
  },
  {
   "cell_type": "code",
   "execution_count": 167,
   "id": "6b5fc770-706f-4d88-b8a4-273669d158f4",
   "metadata": {},
   "outputs": [],
   "source": [
    "occ = sdf > 0"
   ]
  },
  {
   "cell_type": "code",
   "execution_count": 168,
   "id": "8e6502fb-19c4-4831-bba4-e00d263c7556",
   "metadata": {},
   "outputs": [],
   "source": [
    "occ_feat = occ[tet_feat.reshape(-1)].reshape(-1, 4) # (256, 4)"
   ]
  },
  {
   "cell_type": "code",
   "execution_count": 169,
   "id": "32681e4f-e1ee-44c9-9a1b-ebb35b763566",
   "metadata": {},
   "outputs": [],
   "source": [
    "occ_sum = torch.sum(occ_feat, -1) # (256)"
   ]
  },
  {
   "cell_type": "code",
   "execution_count": 170,
   "id": "0a83f33c-3633-4848-973d-973f512c0bc3",
   "metadata": {},
   "outputs": [],
   "source": [
    "valid_tets = (occ_sum > 0) & (occ_sum < 4) # T_\\text{surf}"
   ]
  },
  {
   "cell_type": "code",
   "execution_count": 171,
   "id": "5fc7cff9-0a64-41b1-8eeb-b75f376a6137",
   "metadata": {},
   "outputs": [],
   "source": [
    "occ_sum = occ_sum[valid_tets]"
   ]
  },
  {
   "cell_type": "code",
   "execution_count": 172,
   "id": "49d07289-b11c-48b2-b324-3d5b69efbf55",
   "metadata": {},
   "outputs": [],
   "source": [
    "all_edges = tet_feat[valid_tets][:, base_tet_edges].reshape(-1, 2)"
   ]
  },
  {
   "cell_type": "code",
   "execution_count": 173,
   "id": "dd1423d2-4f58-4f43-89e1-c983c91ee236",
   "metadata": {},
   "outputs": [
    {
     "data": {
      "text/plain": [
       "torch.Size([215, 4])"
      ]
     },
     "execution_count": 173,
     "metadata": {},
     "output_type": "execute_result"
    }
   ],
   "source": [
    "tet_feat[valid_tets].shape"
   ]
  },
  {
   "cell_type": "code",
   "execution_count": 174,
   "id": "cd69f670-4f7e-4159-bbe1-f84381838c6c",
   "metadata": {},
   "outputs": [
    {
     "data": {
      "text/plain": [
       "torch.Size([215, 12])"
      ]
     },
     "execution_count": 174,
     "metadata": {},
     "output_type": "execute_result"
    }
   ],
   "source": [
    "tet_feat[valid_tets][:, base_tet_edges].shape"
   ]
  },
  {
   "cell_type": "code",
   "execution_count": 175,
   "id": "bf19d0f7-6f46-48e3-91d2-b074bb2255bd",
   "metadata": {},
   "outputs": [
    {
     "data": {
      "text/plain": [
       "tensor([1, 2, 6, 5])"
      ]
     },
     "execution_count": 175,
     "metadata": {},
     "output_type": "execute_result"
    }
   ],
   "source": [
    "tet_feat[valid_tets][0]"
   ]
  },
  {
   "cell_type": "code",
   "execution_count": 176,
   "id": "fa8d034a-1761-4cac-a2d4-41ac62351ae8",
   "metadata": {},
   "outputs": [
    {
     "data": {
      "text/plain": [
       "tensor([0, 1, 0, 2, 0, 3, 1, 2, 1, 3, 2, 3])"
      ]
     },
     "execution_count": 176,
     "metadata": {},
     "output_type": "execute_result"
    }
   ],
   "source": [
    "base_tet_edges"
   ]
  },
  {
   "cell_type": "code",
   "execution_count": 177,
   "id": "848431d1-b8b9-4b9a-b9d5-a6f486f8bc4c",
   "metadata": {},
   "outputs": [
    {
     "data": {
      "text/plain": [
       "tensor([1, 2, 1, 6, 1, 5, 2, 6, 2, 5, 6, 5])"
      ]
     },
     "execution_count": 177,
     "metadata": {},
     "output_type": "execute_result"
    }
   ],
   "source": [
    "tet_feat[valid_tets][0, base_tet_edges]"
   ]
  },
  {
   "cell_type": "code",
   "execution_count": 178,
   "id": "5785ece6-e9e1-4cae-aabf-3e4ac91bbd1a",
   "metadata": {},
   "outputs": [],
   "source": [
    "def sort_edges(edges):\n",
    "    order = (edges[:, 0] > edges[:, 1]).long() # (e) 0 or 1\n",
    "    order = order.unsqueeze(dim=1) # (e, 1)\n",
    "\n",
    "    a = torch.gather(input=edges, index=order, dim=1)\n",
    "    b = torch.gather(input=edges, index=1 - order, dim=1)\n",
    "    return torch.stack([a, b], -1) # (total_num_edges, 1, 2)"
   ]
  },
  {
   "cell_type": "code",
   "execution_count": 179,
   "id": "86ead22c-521d-4e6c-8d89-9c4a3e653247",
   "metadata": {},
   "outputs": [
    {
     "data": {
      "text/plain": [
       "torch.Size([1290, 2])"
      ]
     },
     "execution_count": 179,
     "metadata": {},
     "output_type": "execute_result"
    }
   ],
   "source": [
    "all_edges.shape"
   ]
  },
  {
   "cell_type": "code",
   "execution_count": 180,
   "id": "56df48d4-d469-4b8a-ad9c-f288a019b980",
   "metadata": {},
   "outputs": [
    {
     "data": {
      "text/plain": [
       "tensor([[1, 2],\n",
       "        [1, 6],\n",
       "        [1, 5],\n",
       "        [2, 6],\n",
       "        [2, 5],\n",
       "        [6, 5],\n",
       "        [8, 4],\n",
       "        [8, 4],\n",
       "        [8, 6],\n",
       "        [4, 4]])"
      ]
     },
     "execution_count": 180,
     "metadata": {},
     "output_type": "execute_result"
    }
   ],
   "source": [
    "all_edges[:10]"
   ]
  },
  {
   "cell_type": "code",
   "execution_count": 181,
   "id": "834f2afc-2941-41cb-a0a9-50ecb8531dc7",
   "metadata": {},
   "outputs": [],
   "source": [
    "order = (all_edges[:10, 0] > all_edges[:10, 1]).long().unsqueeze(dim=1)"
   ]
  },
  {
   "cell_type": "code",
   "execution_count": 182,
   "id": "35728cea-a9b4-4118-ac41-3cd47e2250ce",
   "metadata": {},
   "outputs": [
    {
     "data": {
      "text/plain": [
       "tensor([[0],\n",
       "        [0],\n",
       "        [0],\n",
       "        [0],\n",
       "        [0],\n",
       "        [1],\n",
       "        [1],\n",
       "        [1],\n",
       "        [1],\n",
       "        [0]])"
      ]
     },
     "execution_count": 182,
     "metadata": {},
     "output_type": "execute_result"
    }
   ],
   "source": [
    "order"
   ]
  },
  {
   "cell_type": "code",
   "execution_count": 183,
   "id": "f1e0b912-45a9-405b-858e-a1ed537f5b98",
   "metadata": {},
   "outputs": [
    {
     "data": {
      "text/plain": [
       "tensor([[1],\n",
       "        [1],\n",
       "        [1],\n",
       "        [2],\n",
       "        [2],\n",
       "        [5],\n",
       "        [4],\n",
       "        [4],\n",
       "        [6],\n",
       "        [4]])"
      ]
     },
     "execution_count": 183,
     "metadata": {},
     "output_type": "execute_result"
    }
   ],
   "source": [
    "torch.gather(input=all_edges[:10], index=order, dim=1)"
   ]
  },
  {
   "cell_type": "code",
   "execution_count": 184,
   "id": "212861e7-56a7-485b-b61c-ad910279912f",
   "metadata": {},
   "outputs": [],
   "source": [
    "all_edges = sort_edges(all_edges)"
   ]
  },
  {
   "cell_type": "code",
   "execution_count": 185,
   "id": "73fbf817-bfed-4ac3-9ec8-19b91cfd2892",
   "metadata": {},
   "outputs": [
    {
     "data": {
      "text/plain": [
       "torch.Size([1290, 1, 2])"
      ]
     },
     "execution_count": 185,
     "metadata": {},
     "output_type": "execute_result"
    }
   ],
   "source": [
    "all_edges.shape"
   ]
  },
  {
   "cell_type": "code",
   "execution_count": 186,
   "id": "1a2ecbb1-317f-436c-afbe-41eab121b357",
   "metadata": {},
   "outputs": [
    {
     "data": {
      "text/plain": [
       "tensor([[1, 2]])"
      ]
     },
     "execution_count": 186,
     "metadata": {},
     "output_type": "execute_result"
    }
   ],
   "source": [
    "all_edges[0]"
   ]
  },
  {
   "cell_type": "code",
   "execution_count": 187,
   "id": "18efd0fc-daac-4b5e-a4df-d92d8b6cec7c",
   "metadata": {},
   "outputs": [],
   "source": [
    "unique_edges, idx_map = torch.unique(all_edges, dim=0, return_inverse=True)"
   ]
  },
  {
   "cell_type": "code",
   "execution_count": 188,
   "id": "0c92e036-51a2-4cfc-a3b7-46716ed51dd1",
   "metadata": {},
   "outputs": [],
   "source": [
    "unique_edges = unique_edges.long()"
   ]
  },
  {
   "cell_type": "code",
   "execution_count": 189,
   "id": "5172d2a3-9789-42b8-b0af-350072f22100",
   "metadata": {},
   "outputs": [
    {
     "data": {
      "text/plain": [
       "torch.Size([55, 1, 2])"
      ]
     },
     "execution_count": 189,
     "metadata": {},
     "output_type": "execute_result"
    }
   ],
   "source": [
    "unique_edges.shape # (num_edges, 1, 2)"
   ]
  },
  {
   "cell_type": "code",
   "execution_count": 190,
   "id": "92517e47-31d4-4e5b-bce8-b0fab6d9bbcf",
   "metadata": {},
   "outputs": [
    {
     "data": {
      "text/plain": [
       "torch.Size([1290])"
      ]
     },
     "execution_count": 190,
     "metadata": {},
     "output_type": "execute_result"
    }
   ],
   "source": [
    "idx_map.shape # (total_num_edges) original input idx"
   ]
  },
  {
   "cell_type": "code",
   "execution_count": 191,
   "id": "b7d418b8-ab11-4ecf-ac59-bbde3bd0f49b",
   "metadata": {},
   "outputs": [
    {
     "data": {
      "text/plain": [
       "torch.Size([2048])"
      ]
     },
     "execution_count": 191,
     "metadata": {},
     "output_type": "execute_result"
    }
   ],
   "source": [
    "occ.shape"
   ]
  },
  {
   "cell_type": "code",
   "execution_count": 192,
   "id": "4bbfa0ba-4952-420e-b0a1-a4bb6daa60f6",
   "metadata": {},
   "outputs": [],
   "source": [
    "mask_edges = occ[unique_edges.reshape(-1)].reshape(-1, 2).sum(-1) == 1 # sign of SDF changed"
   ]
  },
  {
   "cell_type": "code",
   "execution_count": 193,
   "id": "9b990db6-546e-4d05-8733-99072d4a749f",
   "metadata": {},
   "outputs": [
    {
     "data": {
      "text/plain": [
       "torch.Size([55])"
      ]
     },
     "execution_count": 193,
     "metadata": {},
     "output_type": "execute_result"
    }
   ],
   "source": [
    "mask_edges.shape"
   ]
  },
  {
   "cell_type": "code",
   "execution_count": 194,
   "id": "ad5ff08d-8456-44ca-930d-255ea99c1879",
   "metadata": {},
   "outputs": [
    {
     "data": {
      "text/plain": [
       "tensor([False, False, False, False,  True,  True,  True,  True, False, False,\n",
       "        False, False, False,  True,  True,  True,  True, False, False, False,\n",
       "        False,  True,  True,  True,  True, False, False, False,  True,  True,\n",
       "         True,  True, False, False, False, False, False, False,  True,  True,\n",
       "        False, False, False,  True,  True, False, False,  True,  True, False,\n",
       "         True,  True, False, False, False])"
      ]
     },
     "execution_count": 194,
     "metadata": {},
     "output_type": "execute_result"
    }
   ],
   "source": [
    "mask_edges"
   ]
  },
  {
   "cell_type": "code",
   "execution_count": 195,
   "id": "d8f847c9-af44-4968-be2d-dffd3035bed7",
   "metadata": {},
   "outputs": [],
   "source": [
    "mapping = torch.ones((unique_edges.shape[0]), dtype=torch.long) * -1 # (num_edges)"
   ]
  },
  {
   "cell_type": "code",
   "execution_count": 196,
   "id": "e264d509-fbae-46a1-8896-1c5f9a3f58d1",
   "metadata": {},
   "outputs": [
    {
     "data": {
      "text/plain": [
       "torch.Size([55])"
      ]
     },
     "execution_count": 196,
     "metadata": {},
     "output_type": "execute_result"
    }
   ],
   "source": [
    "mapping.shape"
   ]
  },
  {
   "cell_type": "code",
   "execution_count": 197,
   "id": "75ed9a8e-b44c-4dc2-8ef7-e73cf71b0266",
   "metadata": {},
   "outputs": [],
   "source": [
    "mapping[mask_edges] = torch.arange(mask_edges.sum(), dtype=torch.long)"
   ]
  },
  {
   "cell_type": "code",
   "execution_count": 198,
   "id": "e7974cff-cc6f-4cfa-aaf3-877324fe3338",
   "metadata": {},
   "outputs": [
    {
     "data": {
      "text/plain": [
       "tensor([ 0,  1,  2,  3,  4,  5,  6,  7,  8,  9, 10, 11, 12, 13, 14, 15, 16, 17,\n",
       "        18, 19, 20, 21, 22, 23])"
      ]
     },
     "execution_count": 198,
     "metadata": {},
     "output_type": "execute_result"
    }
   ],
   "source": [
    "torch.arange(mask_edges.sum(), dtype=torch.long)"
   ]
  },
  {
   "cell_type": "code",
   "execution_count": 199,
   "id": "ded9cbf6-2325-40fe-9344-93c40965bcae",
   "metadata": {},
   "outputs": [
    {
     "name": "stdout",
     "output_type": "stream",
     "text": [
      "tensor(-1)\n",
      "tensor(-1)\n",
      "tensor(-1)\n",
      "tensor(-1)\n",
      "tensor(0)\n",
      "tensor(1)\n",
      "tensor(2)\n",
      "tensor(3)\n",
      "tensor(-1)\n",
      "tensor(-1)\n"
     ]
    }
   ],
   "source": [
    "for i in range(10):\n",
    "    print(mapping[i])"
   ]
  },
  {
   "cell_type": "code",
   "execution_count": 200,
   "id": "e7fd8a07-430a-4fba-b30a-45b31f3c5979",
   "metadata": {},
   "outputs": [
    {
     "data": {
      "text/plain": [
       "tensor([11, 15, 14,  ..., 24, 31, 20])"
      ]
     },
     "execution_count": 200,
     "metadata": {},
     "output_type": "execute_result"
    }
   ],
   "source": [
    "idx_map"
   ]
  },
  {
   "cell_type": "code",
   "execution_count": 201,
   "id": "eeb8a040-2796-4a33-a780-13de815b87af",
   "metadata": {},
   "outputs": [],
   "source": [
    "idx_map = mapping[idx_map] # map edges to verts"
   ]
  },
  {
   "cell_type": "code",
   "execution_count": 202,
   "id": "f05e5af4-4101-442e-85b6-b4403161d272",
   "metadata": {},
   "outputs": [
    {
     "data": {
      "text/plain": [
       "tensor([-1,  6,  5,  ..., 11, 15, -1])"
      ]
     },
     "execution_count": 202,
     "metadata": {},
     "output_type": "execute_result"
    }
   ],
   "source": [
    "idx_map"
   ]
  },
  {
   "cell_type": "code",
   "execution_count": 203,
   "id": "419dc527-d4e3-4555-9dcd-20aab789b335",
   "metadata": {},
   "outputs": [
    {
     "data": {
      "text/plain": [
       "torch.Size([1290])"
      ]
     },
     "execution_count": 203,
     "metadata": {},
     "output_type": "execute_result"
    }
   ],
   "source": [
    "idx_map.shape"
   ]
  },
  {
   "cell_type": "code",
   "execution_count": 204,
   "id": "6fc34e86-bb3a-48aa-9958-d658247a523d",
   "metadata": {},
   "outputs": [],
   "source": [
    "interp_v = unique_edges[mask_edges]"
   ]
  },
  {
   "cell_type": "code",
   "execution_count": 205,
   "id": "86f2f42d-050b-4823-88de-d5fadb1a6843",
   "metadata": {},
   "outputs": [
    {
     "data": {
      "text/plain": [
       "torch.Size([24, 1, 2])"
      ]
     },
     "execution_count": 205,
     "metadata": {},
     "output_type": "execute_result"
    }
   ],
   "source": [
    "interp_v.shape"
   ]
  },
  {
   "cell_type": "code",
   "execution_count": null,
   "id": "24783f17-001e-4711-afdc-f3e72065a7e9",
   "metadata": {},
   "outputs": [],
   "source": []
  },
  {
   "cell_type": "code",
   "execution_count": 206,
   "id": "6936be03-2098-46a3-8a77-9265a24ab5b2",
   "metadata": {},
   "outputs": [],
   "source": [
    "edges_to_interp = pos[interp_v.reshape(-1)].reshape(-1, 2, 3) # (num_v, 2, 3)\n",
    "edges_to_interp_sdf = sdf[interp_v.reshape(-1)].reshape(-1, 2, 1) # (num_v, 2, 1)\n",
    "edges_to_interp_sdf[:, -1] *= -1 # change the second vertices of the edge (for interpolation)"
   ]
  },
  {
   "cell_type": "code",
   "execution_count": 207,
   "id": "1b3a0ff4-6b6c-4de0-9479-c79f23e3281e",
   "metadata": {},
   "outputs": [
    {
     "data": {
      "text/plain": [
       "torch.Size([24, 2, 3])"
      ]
     },
     "execution_count": 207,
     "metadata": {},
     "output_type": "execute_result"
    }
   ],
   "source": [
    "edges_to_interp.shape"
   ]
  },
  {
   "cell_type": "code",
   "execution_count": 208,
   "id": "df412d02-de6e-4347-bfaa-6c9acde7843c",
   "metadata": {},
   "outputs": [
    {
     "data": {
      "text/plain": [
       "torch.Size([24, 2, 1])"
      ]
     },
     "execution_count": 208,
     "metadata": {},
     "output_type": "execute_result"
    }
   ],
   "source": [
    "edges_to_interp_sdf.shape"
   ]
  },
  {
   "cell_type": "code",
   "execution_count": 209,
   "id": "fd50c46b-f47b-41eb-89dd-9e8437284f36",
   "metadata": {},
   "outputs": [],
   "source": [
    "denominator = edges_to_interp_sdf.sum(1, keepdim=True) # s_b + (-s_a)"
   ]
  },
  {
   "cell_type": "code",
   "execution_count": 210,
   "id": "f692e249-33e9-4bda-8a7e-517ca77ecb3f",
   "metadata": {},
   "outputs": [],
   "source": [
    "edges_to_interp_sdf = torch.flip(edges_to_interp_sdf, [1]) / denominator"
   ]
  },
  {
   "cell_type": "code",
   "execution_count": 211,
   "id": "8576d847-9f34-4320-b4f2-c6e6c8092b47",
   "metadata": {},
   "outputs": [],
   "source": [
    "verts = (edges_to_interp * edges_to_interp_sdf).sum(1) # (v_a s_b - v_b s_a) / (s_b - s_a)"
   ]
  },
  {
   "cell_type": "code",
   "execution_count": null,
   "id": "b750a2dd-0fa3-4469-a892-10e0b3b1d5fe",
   "metadata": {},
   "outputs": [],
   "source": []
  },
  {
   "cell_type": "code",
   "execution_count": 212,
   "id": "b394a9b5-9a0d-487c-b2ff-45d472ff56b9",
   "metadata": {},
   "outputs": [
    {
     "data": {
      "text/plain": [
       "torch.Size([1290])"
      ]
     },
     "execution_count": 212,
     "metadata": {},
     "output_type": "execute_result"
    }
   ],
   "source": [
    "idx_map.shape"
   ]
  },
  {
   "cell_type": "code",
   "execution_count": 213,
   "id": "c3030452-7604-4186-bba9-1784383c222b",
   "metadata": {},
   "outputs": [],
   "source": [
    "idx_map = idx_map.reshape(-1, 6) # (total_num_edges) → (total_num_edges / 6, 6)"
   ]
  },
  {
   "cell_type": "code",
   "execution_count": 214,
   "id": "7aa3697e-9f0f-4489-b8b3-46c574e9ecc6",
   "metadata": {},
   "outputs": [
    {
     "data": {
      "text/plain": [
       "torch.Size([215, 6])"
      ]
     },
     "execution_count": 214,
     "metadata": {},
     "output_type": "execute_result"
    }
   ],
   "source": [
    "idx_map.shape"
   ]
  },
  {
   "cell_type": "code",
   "execution_count": 215,
   "id": "8088f3b4-eb55-478e-a5ba-428bbc2e7b25",
   "metadata": {},
   "outputs": [],
   "source": [
    "v_id = torch.pow(2, torch.arange(4, dtype=torch.long))"
   ]
  },
  {
   "cell_type": "code",
   "execution_count": 216,
   "id": "3b2fc29b-f076-4854-a4e6-ef55206638d5",
   "metadata": {},
   "outputs": [
    {
     "data": {
      "text/plain": [
       "torch.Size([215, 4])"
      ]
     },
     "execution_count": 216,
     "metadata": {},
     "output_type": "execute_result"
    }
   ],
   "source": [
    "occ_feat[valid_tets].shape"
   ]
  },
  {
   "cell_type": "code",
   "execution_count": 219,
   "id": "a406ddd7-4234-4a5b-91b7-2f48f16c2dc9",
   "metadata": {},
   "outputs": [
    {
     "data": {
      "text/plain": [
       "tensor([[False, False,  True,  True],\n",
       "        [False,  True,  True,  True],\n",
       "        [ True, False, False,  True],\n",
       "        [False, False,  True,  True],\n",
       "        [ True, False,  True,  True]])"
      ]
     },
     "execution_count": 219,
     "metadata": {},
     "output_type": "execute_result"
    }
   ],
   "source": [
    "occ_feat[valid_tets][:5]"
   ]
  },
  {
   "cell_type": "code",
   "execution_count": 218,
   "id": "9f785b1b-8198-4da9-b2ff-e35eafcaf750",
   "metadata": {},
   "outputs": [
    {
     "data": {
      "text/plain": [
       "tensor([[0, 0, 4, 8],\n",
       "        [0, 2, 4, 8],\n",
       "        [1, 0, 0, 8],\n",
       "        [0, 0, 4, 8],\n",
       "        [1, 0, 4, 8]])"
      ]
     },
     "execution_count": 218,
     "metadata": {},
     "output_type": "execute_result"
    }
   ],
   "source": [
    "(occ_feat[valid_tets] * v_id.unsqueeze(0))[:5]"
   ]
  },
  {
   "cell_type": "code",
   "execution_count": 220,
   "id": "ae45de05-2f2a-45b7-b2ca-f57481f27d6f",
   "metadata": {},
   "outputs": [],
   "source": [
    "tet_idx = (occ_feat[valid_tets] * v_id.unsqueeze(0)).sum(-1)"
   ]
  },
  {
   "cell_type": "code",
   "execution_count": 222,
   "id": "0cef86ef-7cac-4e98-9682-bbc7d079101b",
   "metadata": {},
   "outputs": [
    {
     "data": {
      "text/plain": [
       "tensor([12, 14,  9, 12, 13])"
      ]
     },
     "execution_count": 222,
     "metadata": {},
     "output_type": "execute_result"
    }
   ],
   "source": [
    "tet_idx[:5]"
   ]
  },
  {
   "cell_type": "code",
   "execution_count": 229,
   "id": "68321ecf-b4d5-4bc8-a875-2244ead21248",
   "metadata": {},
   "outputs": [
    {
     "data": {
      "text/plain": [
       "torch.Size([16, 6])"
      ]
     },
     "execution_count": 229,
     "metadata": {},
     "output_type": "execute_result"
    }
   ],
   "source": [
    "triangle_table.shape"
   ]
  },
  {
   "cell_type": "code",
   "execution_count": 231,
   "id": "3af62dd8-6d73-4237-9dbd-4f22c9da1716",
   "metadata": {},
   "outputs": [],
   "source": [
    "num_triangles = num_triangles_table[tet_idx]"
   ]
  },
  {
   "cell_type": "code",
   "execution_count": 235,
   "id": "696ccf7f-8c91-44dc-beac-8ee92008e288",
   "metadata": {},
   "outputs": [
    {
     "data": {
      "text/plain": [
       "torch.Size([215])"
      ]
     },
     "execution_count": 235,
     "metadata": {},
     "output_type": "execute_result"
    }
   ],
   "source": [
    "num_triangles.shape # (num_triangle)"
   ]
  },
  {
   "cell_type": "code",
   "execution_count": 236,
   "id": "43dc039b-22fc-4139-a69d-b99d09124c3a",
   "metadata": {},
   "outputs": [],
   "source": [
    "# Generate triangle indices\n",
    "faces = torch.cat((\n",
    "    torch.gather(input=idx_map[num_triangles == 1], dim=1, index=triangle_table[tet_idx[num_triangles == 1]][:, :3]).reshape(-1,3),\n",
    "    torch.gather(input=idx_map[num_triangles == 2], dim=1, index=triangle_table[tet_idx[num_triangles == 2]][:, :6]).reshape(-1,3),\n",
    "), dim=0)"
   ]
  },
  {
   "cell_type": "markdown",
   "id": "fe97a6e6-236e-42dd-bdc2-31a6ab3fefed",
   "metadata": {},
   "source": [
    "- num_triangles == 1: unique typology is 1 (0 means no mesh)\n",
    "- tet_idx\\[unique_typology\\]: which triangle mesh out of the total number of possible typologies (16)"
   ]
  },
  {
   "cell_type": "code",
   "execution_count": 237,
   "id": "434c6db9-644b-4b7e-98b7-bc6d0f45e458",
   "metadata": {},
   "outputs": [
    {
     "data": {
      "text/plain": [
       "torch.Size([307, 3])"
      ]
     },
     "execution_count": 237,
     "metadata": {},
     "output_type": "execute_result"
    }
   ],
   "source": [
    "faces.shape"
   ]
  },
  {
   "cell_type": "code",
   "execution_count": 238,
   "id": "c25b6f17-ce7f-458e-aab3-b7cfd8fc4264",
   "metadata": {},
   "outputs": [
    {
     "data": {
      "text/plain": [
       "tensor([[20, 16, 16],\n",
       "        [14, 13, 13],\n",
       "        [ 6,  6, 21],\n",
       "        [ 1, 13,  1],\n",
       "        [ 4,  4,  6]])"
      ]
     },
     "execution_count": 238,
     "metadata": {},
     "output_type": "execute_result"
    }
   ],
   "source": [
    "faces[:5]"
   ]
  },
  {
   "cell_type": "code",
   "execution_count": 239,
   "id": "45f34c28-7460-412c-8779-9694003990ba",
   "metadata": {},
   "outputs": [],
   "source": [
    "# Get global face index (static, does not depend on topology)\n",
    "num_tets = tet_feat.shape[0]\n",
    "tet_gidx = torch.arange(num_tets, dtype=torch.long)[valid_tets]"
   ]
  },
  {
   "cell_type": "code",
   "execution_count": 241,
   "id": "d19a5f18-ab16-4af8-a0c7-6a2ec17ea335",
   "metadata": {},
   "outputs": [
    {
     "data": {
      "text/plain": [
       "tensor([  0,   1,   2,   3,   4,   6,   7,   8,   9,  10,  11,  12,  13,  14,\n",
       "         15,  18,  19,  20,  21,  22,  23,  25,  26,  28,  29,  30,  31,  32,\n",
       "         34,  35,  36,  37,  38,  39,  40,  41,  42,  43,  44,  45,  47,  48,\n",
       "         50,  51,  52,  53,  55,  56,  57,  58,  59,  60,  61,  62,  63,  64,\n",
       "         65,  66,  67,  68,  71,  72,  75,  77,  79,  80,  81,  82,  83,  84,\n",
       "         85,  86,  87,  88,  89,  90,  91,  92,  93,  94,  95,  97,  99, 100,\n",
       "        101, 102, 103, 104, 105, 106, 107, 108, 109, 110, 111, 112, 113, 114,\n",
       "        115, 116, 117, 118, 120, 122, 124, 125, 126, 127, 128, 129, 130, 131,\n",
       "        132, 136, 137, 138, 142, 143, 145, 146, 147, 148, 149, 150, 151, 152,\n",
       "        153, 154, 155, 156, 157, 158, 159, 160, 161, 162, 163, 164, 165, 166,\n",
       "        167, 168, 169, 170, 171, 173, 174, 175, 176, 177, 179, 180, 181, 183,\n",
       "        184, 185, 187, 188, 189, 190, 191, 193, 194, 195, 196, 197, 198, 199,\n",
       "        200, 201, 202, 203, 204, 205, 206, 207, 208, 209, 212, 214, 216, 217,\n",
       "        218, 219, 220, 221, 222, 223, 224, 225, 226, 227, 228, 229, 231, 232,\n",
       "        233, 234, 235, 237, 238, 239, 240, 241, 242, 243, 245, 247, 248, 249,\n",
       "        250, 251, 253, 254, 255])"
      ]
     },
     "execution_count": 241,
     "metadata": {},
     "output_type": "execute_result"
    }
   ],
   "source": [
    "tet_gidx"
   ]
  },
  {
   "cell_type": "code",
   "execution_count": 245,
   "id": "17a25c9b-71d1-4453-a61b-a9f843067210",
   "metadata": {},
   "outputs": [
    {
     "data": {
      "text/plain": [
       "tensor(False)"
      ]
     },
     "execution_count": 245,
     "metadata": {},
     "output_type": "execute_result"
    }
   ],
   "source": [
    "valid_tets[5]"
   ]
  },
  {
   "cell_type": "code",
   "execution_count": 249,
   "id": "677b36f4-487e-4a31-a78a-dfb52284c16d",
   "metadata": {},
   "outputs": [
    {
     "data": {
      "text/plain": [
       "torch.Size([123])"
      ]
     },
     "execution_count": 249,
     "metadata": {},
     "output_type": "execute_result"
    }
   ],
   "source": [
    "tet_gidx[num_triangles == 1].shape"
   ]
  },
  {
   "cell_type": "code",
   "execution_count": 250,
   "id": "738b1fbe-ec05-4fb0-8ef3-3a3f8fa62102",
   "metadata": {},
   "outputs": [
    {
     "data": {
      "text/plain": [
       "torch.Size([92])"
      ]
     },
     "execution_count": 250,
     "metadata": {},
     "output_type": "execute_result"
    }
   ],
   "source": [
    "tet_gidx[num_triangles == 2].shape"
   ]
  },
  {
   "cell_type": "code",
   "execution_count": 254,
   "id": "e8712897-ece3-4d77-8ac0-9519ef3321aa",
   "metadata": {},
   "outputs": [
    {
     "data": {
      "text/plain": [
       "tensor([ 0,  4,  6, 12, 16])"
      ]
     },
     "execution_count": 254,
     "metadata": {},
     "output_type": "execute_result"
    }
   ],
   "source": [
    "(tet_gidx[num_triangles == 2] * 2)[:5]"
   ]
  },
  {
   "cell_type": "code",
   "execution_count": 256,
   "id": "e3f14543-13b5-4c53-9bb5-a95ad83aece1",
   "metadata": {},
   "outputs": [
    {
     "data": {
      "text/plain": [
       "torch.Size([92, 2])"
      ]
     },
     "execution_count": 256,
     "metadata": {},
     "output_type": "execute_result"
    }
   ],
   "source": [
    "torch.stack((tet_gidx[num_triangles == 2] * 2, tet_gidx[num_triangles == 2] * 2 + 1), dim=-1).shape"
   ]
  },
  {
   "cell_type": "code",
   "execution_count": 246,
   "id": "923952c5-4443-491c-ba34-2e89164f96d6",
   "metadata": {},
   "outputs": [],
   "source": [
    "face_gidx = torch.cat((\n",
    "    tet_gidx[num_triangles == 1] * 2,\n",
    "    torch.stack((tet_gidx[num_triangles == 2] * 2, tet_gidx[num_triangles == 2] * 2 + 1), dim=-1).view(-1)\n",
    "), dim=0)"
   ]
  },
  {
   "cell_type": "code",
   "execution_count": 258,
   "id": "986dda21-5b68-462b-b18e-56013318d473",
   "metadata": {},
   "outputs": [
    {
     "data": {
      "text/plain": [
       "torch.Size([307])"
      ]
     },
     "execution_count": 258,
     "metadata": {},
     "output_type": "execute_result"
    }
   ],
   "source": [
    "face_gidx.shape # 123 + 184 = 307"
   ]
  },
  {
   "cell_type": "code",
   "execution_count": 261,
   "id": "b8015cc2-92ac-48dc-bdfc-e8ba799d59cf",
   "metadata": {},
   "outputs": [],
   "source": [
    "def map_uv(faces, face_gidx, max_idx):\n",
    "    N = int(np.ceil(np.sqrt((max_idx+1)//2)))\n",
    "    tex_y, tex_x = torch.meshgrid(\n",
    "        torch.linspace(0, 1 - (1 / N), N, dtype=torch.float32),\n",
    "        torch.linspace(0, 1 - (1 / N), N, dtype=torch.float32),\n",
    "        indexing='ij'\n",
    "    )\n",
    "\n",
    "    pad = 0.9 / N\n",
    "\n",
    "    uvs = torch.stack([\n",
    "        tex_x      , tex_y,\n",
    "        tex_x + pad, tex_y,\n",
    "        tex_x + pad, tex_y + pad,\n",
    "        tex_x      , tex_y + pad\n",
    "    ], dim=-1).view(-1, 2)\n",
    "\n",
    "    def _idx(tet_idx, N):\n",
    "        x = tet_idx % N\n",
    "        y = torch.div(tet_idx, N, rounding_mode='trunc')\n",
    "        return y * N + x\n",
    "\n",
    "    tet_idx = _idx(torch.div(face_gidx, 2, rounding_mode='trunc'), N)\n",
    "    tri_idx = face_gidx % 2\n",
    "\n",
    "    uv_idx = torch.stack((\n",
    "        tet_idx * 4, tet_idx * 4 + tri_idx + 1, tet_idx * 4 + tri_idx + 2\n",
    "    ), dim = -1). view(-1, 3)\n",
    "\n",
    "    return uvs, uv_idx"
   ]
  },
  {
   "cell_type": "code",
   "execution_count": 281,
   "id": "a15ff5f2-5741-4652-9a10-30c3277f180a",
   "metadata": {},
   "outputs": [],
   "source": [
    "y, x = torch.meshgrid(torch.linspace(0, 1, 6, dtype=torch.float32), torch.linspace(0, 1, 6, dtype=torch.float32), indexing=\"ij\")"
   ]
  },
  {
   "cell_type": "code",
   "execution_count": 282,
   "id": "3f6abebd-6c4f-40f8-b6d4-0dcd6aff9828",
   "metadata": {},
   "outputs": [
    {
     "data": {
      "text/plain": [
       "tensor([[0.0000, 0.0000, 0.0000, 0.0000, 0.0000, 0.0000],\n",
       "        [0.2000, 0.2000, 0.2000, 0.2000, 0.2000, 0.2000],\n",
       "        [0.4000, 0.4000, 0.4000, 0.4000, 0.4000, 0.4000],\n",
       "        [0.6000, 0.6000, 0.6000, 0.6000, 0.6000, 0.6000],\n",
       "        [0.8000, 0.8000, 0.8000, 0.8000, 0.8000, 0.8000],\n",
       "        [1.0000, 1.0000, 1.0000, 1.0000, 1.0000, 1.0000]])"
      ]
     },
     "execution_count": 282,
     "metadata": {},
     "output_type": "execute_result"
    }
   ],
   "source": [
    "y"
   ]
  },
  {
   "cell_type": "code",
   "execution_count": 283,
   "id": "acb7488d-9eea-4eb8-a72b-1c4a6c6ba4a8",
   "metadata": {},
   "outputs": [
    {
     "data": {
      "text/plain": [
       "tensor([[0.0000, 0.2000, 0.4000, 0.6000, 0.8000, 1.0000],\n",
       "        [0.0000, 0.2000, 0.4000, 0.6000, 0.8000, 1.0000],\n",
       "        [0.0000, 0.2000, 0.4000, 0.6000, 0.8000, 1.0000],\n",
       "        [0.0000, 0.2000, 0.4000, 0.6000, 0.8000, 1.0000],\n",
       "        [0.0000, 0.2000, 0.4000, 0.6000, 0.8000, 1.0000],\n",
       "        [0.0000, 0.2000, 0.4000, 0.6000, 0.8000, 1.0000]])"
      ]
     },
     "execution_count": 283,
     "metadata": {},
     "output_type": "execute_result"
    }
   ],
   "source": [
    "x"
   ]
  },
  {
   "cell_type": "code",
   "execution_count": 264,
   "id": "53513171-37e1-4701-8e6f-7cd04b59ced2",
   "metadata": {},
   "outputs": [],
   "source": [
    "uvs, uv_idx = map_uv(faces, face_gidx, num_tets*2)"
   ]
  },
  {
   "cell_type": "code",
   "execution_count": 265,
   "id": "5c9e3dc9-398e-455a-9353-220160853835",
   "metadata": {},
   "outputs": [
    {
     "data": {
      "text/plain": [
       "torch.Size([1024, 2])"
      ]
     },
     "execution_count": 265,
     "metadata": {},
     "output_type": "execute_result"
    }
   ],
   "source": [
    "uvs.shape"
   ]
  },
  {
   "cell_type": "code",
   "execution_count": 266,
   "id": "06e72e51-44be-44ec-a68f-9f30ac2f0340",
   "metadata": {},
   "outputs": [
    {
     "data": {
      "text/plain": [
       "torch.Size([307, 3])"
      ]
     },
     "execution_count": 266,
     "metadata": {},
     "output_type": "execute_result"
    }
   ],
   "source": [
    "uv_idx.shape"
   ]
  },
  {
   "cell_type": "markdown",
   "id": "1aca7d2a-2927-408c-a5d7-fc0e9e8d31ae",
   "metadata": {
    "jp-MarkdownHeadingCollapsed": true
   },
   "source": [
    "## DMTet Geometry Interface"
   ]
  },
  {
   "cell_type": "code",
   "execution_count": null,
   "id": "23d3aa59-4ccf-4e72-a4dd-9ee366934d68",
   "metadata": {},
   "outputs": [],
   "source": [
    "from torch import nn\n",
    "\n",
    "class DMTetGeometry(nn.Module):\n",
    "    def __init__(self, grid_res, scale, FLAGS):\n",
    "        super().__init__()\n",
    "\n",
    "        self.FLAGS = FLAGS\n",
    "        self.grid_res = grid_res\n",
    "        self.marching_tets = DMTet() # verts, faces, uvs, uv_idx\n",
    "\n",
    "        # tets = np.load(\"data/tets/{}_tets.npz\".format(self.grid_res))\n",
    "        self.verts = torch.tensor(tets[\"vertices\"], dtype=torch.float32) * scale\n",
    "        self.indices = torch.tensor(tets[\"indices\"], dtype=torch.long)\n",
    "        \n",
    "        # generate edges\n",
    "        with torch.no_grad():\n",
    "            edges = torch.tensor([0,1,0,2,0,3,1,2,1,3,2,3], dtype = torch.long, device = \"cuda\")\n",
    "            all_edges = self.indices[:,edges].reshape(-1,2)\n",
    "            all_edges_sorted = torch.sort(all_edges, dim=1)[0]\n",
    "            self.all_edges = torch.unique(all_edges_sorted, dim=0)\n",
    "\n",
    "        # random initialization\n",
    "        sdf = torch.rand_like(self.verts[:, 0]) - 0.1\n",
    "\n",
    "        self.sdf = torch.nn.Parameter(sdf.clone().detach(), requires_grad=True)\n",
    "        self.register_parameter(\"sdf\", self.sdf)\n",
    "\n",
    "        self.deform = torch.nn.Parameter(torch.zeros_like(self.verts), requires_grad=True)\n",
    "        self.register_parameter(\"deform\", self.deform)\n",
    "\n",
    "    @torch.no_grad()\n",
    "    def getAABB(self):\n",
    "        return torch.min(self.verts, dim=0).values, torch.max(self.verts, dim=0).values\n",
    "\n",
    "    def getMesh(self, material):\n",
    "        # run DMTet to get a base mesh\n",
    "        v_deformed = self.verts + 2 / (self.grid_res * 2) * torch.tanh(self.deform) # tanh: real value to [-1, 1]\n",
    "        verts, faces, uvs, uv_idx = self.marching_tets(v_deformed, self.sdf, self.indices) # pos, sdf, tet\n",
    "        imesh = mesh.Mesh(verts, faces, v_tex=uvs, t_tex_idx=uv_idx, material=material)\n",
    "\n",
    "        # run mesh operations to generate tangent space\n",
    "        imesh = mesh.auto_normals(imesh)\n",
    "        imesh = mesh.compute_tangents(imesh)\n",
    "        return imesh\n",
    "\n",
    "    def render(self, glctx, target, lgt, opt_material, bsdf=None):\n",
    "        opt_mesh = self.getMesh(opt_material)\n",
    "        return render.render_mesh(glctx, opt_mesh, target['mvp'], target['campos'], lgt, target['resolution'], spp=target['spp'], \n",
    "                                        msaa=True, background=target['background'], bsdf=bsdf)\n",
    "\n",
    "\n",
    "    def tick(self, glctx, target, lgt, opt_material, loss_fn, iteration):\n",
    "\n",
    "        # ==============================================================================================\n",
    "        #  Render optimizable object with identical conditions\n",
    "        # ==============================================================================================\n",
    "        buffers = self.render(glctx, target, lgt, opt_material)\n",
    "\n",
    "        # ==============================================================================================\n",
    "        #  Compute loss\n",
    "        # ==============================================================================================\n",
    "        t_iter = iteration / self.FLAGS.iter\n",
    "\n",
    "        # Image-space loss, split into a coverage component and a color component\n",
    "        color_ref = target['img']\n",
    "        img_loss = torch.nn.functional.mse_loss(buffers['shaded'][..., 3:], color_ref[..., 3:]) \n",
    "        img_loss = img_loss + loss_fn(buffers['shaded'][..., 0:3] * color_ref[..., 3:], color_ref[..., 0:3] * color_ref[..., 3:])\n",
    "\n",
    "        # SDF regularizer\n",
    "        sdf_weight = self.FLAGS.sdf_regularizer - (self.FLAGS.sdf_regularizer - 0.01)*min(1.0, 4.0 * t_iter)\n",
    "        reg_loss = sdf_reg_loss(self.sdf, self.all_edges).mean() * sdf_weight # Dropoff to 0.01\n",
    "\n",
    "        # Albedo (k_d) smoothnesss regularizer\n",
    "        reg_loss += torch.mean(buffers['kd_grad'][..., :-1] * buffers['kd_grad'][..., -1:]) * 0.03 * min(1.0, iteration / 500)\n",
    "\n",
    "        # Visibility regularizer\n",
    "        reg_loss += torch.mean(buffers['occlusion'][..., :-1] * buffers['occlusion'][..., -1:]) * 0.001 * min(1.0, iteration / 500)\n",
    "\n",
    "        # Light white balance regularizer\n",
    "        reg_loss = reg_loss + lgt.regularizer() * 0.005\n",
    "\n",
    "        return img_loss, reg_loss"
   ]
  },
  {
   "cell_type": "markdown",
   "id": "6a476724-ee23-4d71-bee9-402d7816ae74",
   "metadata": {},
   "source": [
    "# Use DMTet\n",
    "\n",
    "- Tutorial from [link](https://github.com/NVIDIAGameWorks/kaolin/tree/master)"
   ]
  },
  {
   "cell_type": "code",
   "execution_count": null,
   "id": "fb6e7402-17ff-4ef3-8521-ffc1aaa405c0",
   "metadata": {},
   "outputs": [],
   "source": []
  }
 ],
 "metadata": {
  "kernelspec": {
   "display_name": "sgtd",
   "language": "python",
   "name": "sgtd"
  },
  "language_info": {
   "codemirror_mode": {
    "name": "ipython",
    "version": 3
   },
   "file_extension": ".py",
   "mimetype": "text/x-python",
   "name": "python",
   "nbconvert_exporter": "python",
   "pygments_lexer": "ipython3",
   "version": "3.9.18"
  }
 },
 "nbformat": 4,
 "nbformat_minor": 5
}
