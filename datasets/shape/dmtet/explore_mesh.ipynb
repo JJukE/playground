{
 "cells": [
  {
   "cell_type": "code",
   "execution_count": 1,
   "id": "5a5c123f-e05f-43a2-8c84-ddc1f80b3074",
   "metadata": {},
   "outputs": [
    {
     "data": {
      "text/plain": [
       "'/root/dev/DMTet_Models'"
      ]
     },
     "execution_count": 1,
     "metadata": {},
     "output_type": "execute_result"
    }
   ],
   "source": [
    "import os\n",
    "\n",
    "os.chdir(\"/root/dev/DMTet_Models/\")\n",
    "os.getcwd()"
   ]
  },
  {
   "cell_type": "code",
   "execution_count": 2,
   "id": "f4adff5e-bbc4-4493-87f3-b2d3ca4e6b3f",
   "metadata": {},
   "outputs": [],
   "source": [
    "import torch\n",
    "\n",
    "torch.cuda.set_device(0)\n",
    "device = torch.device(\"cuda\" if torch.cuda.is_available() else \"cpu\")"
   ]
  },
  {
   "cell_type": "code",
   "execution_count": 3,
   "id": "9b21194a-bc44-40c9-ae6c-04822a4e0800",
   "metadata": {},
   "outputs": [
    {
     "name": "stdout",
     "output_type": "stream",
     "text": [
      "\u001b[1m\u001b[37maa4173e0a5f2              \u001b[m  Fri May 10 23:19:43 2024  \u001b[1m\u001b[30m535.129.03\u001b[m\n",
      "\u001b[36m[0]\u001b[m \u001b[34mNVIDIA GeForce RTX 4090\u001b[m |\u001b[31m 25°C\u001b[m, \u001b[32m  0 %\u001b[m | \u001b[36m\u001b[1m\u001b[33m 1105\u001b[m / \u001b[33m24564\u001b[m MB |\n",
      "\u001b[36m[1]\u001b[m \u001b[34mNVIDIA GeForce RTX 4090\u001b[m |\u001b[1m\u001b[31m 52°C\u001b[m, \u001b[1m\u001b[32m 94 %\u001b[m | \u001b[36m\u001b[1m\u001b[33m13436\u001b[m / \u001b[33m24564\u001b[m MB |\n",
      "\u001b[36m[2]\u001b[m \u001b[34mNVIDIA GeForce RTX 4090\u001b[m |\u001b[1m\u001b[31m 50°C\u001b[m, \u001b[1m\u001b[32m 99 %\u001b[m | \u001b[36m\u001b[1m\u001b[33m21440\u001b[m / \u001b[33m24564\u001b[m MB |\n",
      "\u001b[36m[3]\u001b[m \u001b[34mNVIDIA GeForce RTX 4090\u001b[m |\u001b[31m 47°C\u001b[m, \u001b[1m\u001b[32m 73 %\u001b[m | \u001b[36m\u001b[1m\u001b[33m12657\u001b[m / \u001b[33m24564\u001b[m MB |\n",
      "\u001b[36m[4]\u001b[m \u001b[34mNVIDIA GeForce RTX 4090\u001b[m |\u001b[1m\u001b[31m 54°C\u001b[m, \u001b[1m\u001b[32m 99 %\u001b[m | \u001b[36m\u001b[1m\u001b[33m20212\u001b[m / \u001b[33m24564\u001b[m MB |\n",
      "\u001b[36m[5]\u001b[m \u001b[34mNVIDIA GeForce RTX 4090\u001b[m |\u001b[1m\u001b[31m 50°C\u001b[m, \u001b[1m\u001b[32m 99 %\u001b[m | \u001b[36m\u001b[1m\u001b[33m20270\u001b[m / \u001b[33m24564\u001b[m MB |\n"
     ]
    }
   ],
   "source": [
    "!gpustat"
   ]
  },
  {
   "cell_type": "code",
   "execution_count": 30,
   "id": "f2b16ca0-99f2-4f38-adf7-b7ad4b5832c1",
   "metadata": {},
   "outputs": [],
   "source": [
    "from easydict import EasyDict"
   ]
  },
  {
   "cell_type": "markdown",
   "id": "d7e7c302-7bf0-4cd8-baae-ef1d0cf7db73",
   "metadata": {},
   "source": [
    "# Explore mesh"
   ]
  },
  {
   "cell_type": "code",
   "execution_count": 39,
   "id": "f401ad5b-e754-4b71-a4c2-6a1ae1e64d54",
   "metadata": {},
   "outputs": [],
   "source": [
    "def initial_guess_material_knownkskd(geometry, mlp, FLAGS, init_mat=None):\n",
    "    nrm_min, nrm_max = torch.tensor(FLAGS.nrm_min, dtype=torch.float32, device='cuda'), torch.tensor(FLAGS.nrm_max, dtype=torch.float32, device='cuda')\n",
    "\n",
    "    if mlp:\n",
    "        mlp_min = nrm_min\n",
    "        mlp_max = nrm_max\n",
    "        mlp_map_opt = mlptexture.MLPTexture3D(geometry.getAABB(), channels=3, min_max=[mlp_min, mlp_max])\n",
    "        # mlp_map_opt = mlptexture.MLPTexture3D(geometry.getAABB(), channels=3, min_max=None)\n",
    "        mat =  material.Material({\n",
    "            'kd'     : init_mat['kd'],\n",
    "            'ks'     : init_mat['ks'],\n",
    "            'normal' : mlp_map_opt,\n",
    "        })\n",
    "    else:\n",
    "        # Setup normal map\n",
    "        if FLAGS.random_textures or init_mat is None or 'normal' not in init_mat:\n",
    "            normal_map_opt = texture.create_trainable(np.array([0, 0, 1]), FLAGS.texture_res, not FLAGS.custom_mip, [nrm_min, nrm_max])\n",
    "        else:\n",
    "            normal_map_opt = texture.create_trainable(init_mat['normal'], FLAGS.texture_res, not FLAGS.custom_mip, [nrm_min, nrm_max])\n",
    "\n",
    "        mat = material.Material({\n",
    "            'kd'     : init_mat['kd'],\n",
    "            'ks'     : init_mat['ks'],\n",
    "            'normal' : normal_map_opt\n",
    "        })\n",
    "\n",
    "    if init_mat is not None:\n",
    "        mat['bsdf'] = init_mat['bsdf']\n",
    "    else:\n",
    "        mat['bsdf'] = 'pbr'\n",
    "\n",
    "    return mat"
   ]
  },
  {
   "cell_type": "code",
   "execution_count": 27,
   "id": "cddb8fe1-ad70-4b1c-9ca1-f38a995e90b0",
   "metadata": {},
   "outputs": [],
   "source": [
    "# MeshDiffusion\n",
    "from MeshDiffusion.nvdiffrec.lib.render import material, util, mesh, texture, mlptexture, light, render\n",
    "from MeshDiffusion.nvdiffrec.lib.geometry.dmtet import DMTetGeometry"
   ]
  },
  {
   "cell_type": "code",
   "execution_count": 6,
   "id": "c3bf919e-f217-438b-bb88-99f8543f7760",
   "metadata": {},
   "outputs": [],
   "source": [
    "mesh_fname = \"/root/dev/DMTet_Models/MeshDiffusion/data/02691156/1a04e3eab45ca15dd86060f189eb133/model.obj\""
   ]
  },
  {
   "cell_type": "code",
   "execution_count": 46,
   "id": "23f67798-4324-4be8-a20a-1606b01490d0",
   "metadata": {},
   "outputs": [],
   "source": [
    "mtl_override = None\n",
    "normal_only = True # False?\n",
    "\n",
    "geometry_kwargs = EasyDict({\n",
    "    \"iter\": 5000,\n",
    "    \"sdf_regularizer\": 0.2,\n",
    "})\n",
    "\n",
    "first_stage_deform = 2.0\n",
    "second_stage_deform = 3.0\n",
    "\n",
    "mat_kwargs = EasyDict({\n",
    "    \"nrm_min\": [-1.0, -1.0, 0.0],\n",
    "    \"nrm_max\": [1.0, 1.0, 1.0],\n",
    "    \"random_textures\": True,\n",
    "    \"texture_res\": [2048, 2048],\n",
    "    \"custom_mip\": False\n",
    "})\n",
    "\n",
    "dataset_kwargs = EasyDict({\n",
    "    \"train_res\": [1000, 1000],\n",
    "    \"random_lgt\": True,\n",
    "    \"dataset_flat_shading\": False,\n",
    "    \"texture_res\": [2048, 2048],\n",
    "    \"envmap\": \"./MeshDiffusion/nvdiffrec/data_/irrmaps/aerodynamics_workshop_2k.hdr\",\n",
    "    \"env_scale\": 1.0,\n",
    "    \"cam_near_far\": [0.1, 1000.0],\n",
    "    \"iter\": 5000,\n",
    "    \"batch\": 1,\n",
    "    \"layers\": 1\n",
    "})"
   ]
  },
  {
   "cell_type": "code",
   "execution_count": 8,
   "id": "a2687092-1781-4a4f-9df6-3db88864dbd1",
   "metadata": {},
   "outputs": [],
   "source": [
    "mtl_default = {\n",
    "    \"name\": \"_default_mat\",\n",
    "    \"bsdf\": \"diffuse\",\n",
    "    \"uniform\": True,\n",
    "    \"kd\": texture.Texture2D(torch.tensor([0.75, 0.3, 0.6], dtype=torch.float32, device=device), trainable=False),\n",
    "    \"ks\": texture.Texture2D(torch.tensor([0.0, 0.0, 0.0], dtype=torch.float32, device=device), trainable=False)\n",
    "}"
   ]
  },
  {
   "cell_type": "code",
   "execution_count": 10,
   "id": "0ec50bb8-8baf-4334-bfc8-884172ea2fb9",
   "metadata": {},
   "outputs": [
    {
     "name": "stdout",
     "output_type": "stream",
     "text": [
      "Load use-defined default mtl\n",
      "Skip loading non-default materials\n",
      "[{'name': '_default_mat', 'bsdf': 'diffuse', 'uniform': True, 'kd': Texture2D(), 'ks': Texture2D()}]\n"
     ]
    }
   ],
   "source": [
    "ref_mesh = mesh.load_mesh(mesh_fname, mtl_override, mtl_default, use_default=normal_only, no_additional=True)"
   ]
  },
  {
   "cell_type": "code",
   "execution_count": 22,
   "id": "7345b5c4-65f8-4174-8ed5-68ef299ef736",
   "metadata": {},
   "outputs": [
    {
     "name": "stdout",
     "output_type": "stream",
     "text": [
      "ref_mesh.v_pos.shape:  torch.Size([1248, 3])\n",
      "ref_mesh.v_nrm.shape:  torch.Size([1248, 3])\n",
      "ref_mesh.t_pos_idx.shape:  torch.Size([4668, 3])\n",
      "ref_mesh.t_nrm_idx.shape:  torch.Size([4668, 3])\n",
      "ref_mesh.material.keys():  dict_keys(['name', 'bsdf', 'uniform', 'kd', 'ks'])\n",
      "_default_mat diffuse True Texture2D() Texture2D()\n"
     ]
    }
   ],
   "source": [
    "# mesh.Mesh\n",
    "print(\"ref_mesh.v_pos.shape: \", ref_mesh.v_pos.shape)\n",
    "print(\"ref_mesh.v_nrm.shape: \", ref_mesh.v_nrm.shape)\n",
    "# print(\"ref_mesh.v_tex.shape: \", ref_mesh.v_tex.shape) -> None\n",
    "# print(\"ref_mesh.v_tng.shape: \", ref_mesh.v_tng.shape) -> None\n",
    "print(\"ref_mesh.t_pos_idx.shape: \", ref_mesh.t_pos_idx.shape)\n",
    "print(\"ref_mesh.t_nrm_idx.shape: \", ref_mesh.t_nrm_idx.shape)\n",
    "# print(\"ref_mesh.t_tex_idx.shape: \", ref_mesh.t_tex_idx.shape) -> None\n",
    "# print(\"ref_mesh.t_tng_idx.shape: \", ref_mesh.t_tng_idx.shape) -> None\n",
    "print(\"ref_mesh.material.keys(): \", ref_mesh.material.keys())\n",
    "print(ref_mesh.material[\"name\"], ref_mesh.material[\"bsdf\"], ref_mesh.material[\"uniform\"], ref_mesh.material[\"kd\"], ref_mesh.material[\"ks\"])"
   ]
  },
  {
   "cell_type": "code",
   "execution_count": 45,
   "id": "56319fbe-f3f7-40a7-af4e-b44f81774197",
   "metadata": {},
   "outputs": [
    {
     "name": "stdout",
     "output_type": "stream",
     "text": [
      "normalization: tensor([0., 0., 0.], device='cuda:0') 1.0\n",
      "Encoder output: 32 dims\n"
     ]
    }
   ],
   "source": [
    "import numpy as np\n",
    "import nvdiffrast.torch as dr\n",
    "\n",
    "ref_mesh = mesh.center_by_reference(ref_mesh, mesh.aabb_clean(ref_mesh), 1.0)\n",
    "\n",
    "a = ref_mesh.v_nrm.clone()\n",
    "ref_mesh = mesh.auto_normals(ref_mesh) ###\n",
    "\n",
    "# dataset_mesh.DatasetMesh\n",
    "glctx = dr.RasterizeCudaContext\n",
    "cam_radius = 2.0\n",
    "fovy = np.deg2rad(45)\n",
    "aspect = dataset_kwargs.train_res[1] / datset_kwargs.train_res[0]\n",
    "random_lgt = dataset_kwargs.random_lgt\n",
    "camera_lgt = False\n",
    "flat_shading = dataset_kwargs.dataset_flat_shading\n",
    "\n",
    "\n",
    "\n",
    "# lgt = light.load_env(\"./MeshDiffusion/nvdiffrec/data_/irrmaps/aerodynamics_workshop_2k.hdr\", scale=1.0, trainable=False)\n",
    "\n",
    "geometry = DMTetGeometry(64, 1.1, geometry_kwargs, root=\"./MeshDiffusion/nvdiffrec\", deform_scale=first_stage_deform)\n",
    "\n",
    "mat = initial_guess_material_knownkskd(geometry, True, mat_kwargs, mtl_default)"
   ]
  },
  {
   "cell_type": "markdown",
   "id": "26267efc-c27e-4d68-bea1-6be0f1269491",
   "metadata": {},
   "source": [
    "# Colored Pointcloud sampling"
   ]
  },
  {
   "cell_type": "code",
   "execution_count": 205,
   "id": "5ddd8f55-bd0a-4f69-9af2-d559942c1f61",
   "metadata": {
    "tags": []
   },
   "outputs": [
    {
     "name": "stdout",
     "output_type": "stream",
     "text": [
      "model.mtl  model.obj\n"
     ]
    }
   ],
   "source": [
    "!ls /root/dev/DMTet_Models/MeshDiffusion/data/02691156/1a04e3eab45ca15dd86060f189eb133"
   ]
  },
  {
   "cell_type": "code",
   "execution_count": 200,
   "id": "d3d932ac-0dc7-442e-958e-0655f1a7e933",
   "metadata": {
    "tags": []
   },
   "outputs": [
    {
     "name": "stdout",
     "output_type": "stream",
     "text": [
      "images\tmodel.mtl  model.obj\n"
     ]
    }
   ],
   "source": [
    "!ls /root/dev/DMTet_Models/MeshDiffusion/data/03001627/2cf960825840947aa903b9ef0ae7fb14/"
   ]
  },
  {
   "cell_type": "code",
   "execution_count": 204,
   "id": "c574af05-21fe-4cc6-b007-f6a86f5659b4",
   "metadata": {},
   "outputs": [
    {
     "name": "stdout",
     "output_type": "stream",
     "text": [
      "3817\n",
      "6778\n"
     ]
    }
   ],
   "source": [
    "!find /root/dev/DMTet_Models/MeshDiffusion/data/03001627 -type d -name \"*images\" | wc -l\n",
    "!find /root/dev/DMTet_Models/MeshDiffusion/data/03001627 -type f -name \"*.obj\" | wc -l"
   ]
  },
  {
   "cell_type": "code",
   "execution_count": 208,
   "id": "11b51102-bb4e-4330-a9a9-83f4fcab2211",
   "metadata": {},
   "outputs": [],
   "source": [
    "import torch\n",
    "from pytorch3d.datasets import ShapeNetCore\n",
    "from pytorch3d.io import load_objs_as_meshes\n",
    "from pytorch3d.structures import Meshes\n",
    "from pytorch3d.ops import sample_points_from_meshes\n",
    "from pytorch3d.renderer import TexturesAtlas\n",
    "\n",
    "mesh_fname = \"/root/dev/DMTet_Models/MeshDiffusion/data/03001627/2cf960825840947aa903b9ef0ae7fb14/model.obj\"\n",
    "verts, faces, aux = load_obj(\n",
    "    mesh_fname,\n",
    "    load_textures=True,\n",
    "    create_texture_atlas=True\n",
    ") # aux: normals, uv coords, mat colors, textures, ...\n",
    "mesh = Meshes(verts=[verts], faces=[faces.verts_idx], textures=TexturesAtlas(aux.texture_atlas[None]))"
   ]
  },
  {
   "cell_type": "code",
   "execution_count": 149,
   "id": "41f2b4c5-b1f4-42ca-9bfd-4d0f51e2c5e6",
   "metadata": {
    "tags": []
   },
   "outputs": [
    {
     "name": "stdout",
     "output_type": "stream",
     "text": [
      "aux.texture_atlas.shape:  torch.Size([4668, 4, 4, 3])\n",
      "aux.texture_images.keys():  dict_keys([])\n",
      "aux.material_colors.keys():  dict_keys(['material_1_24', 'material_10_24', 'material_0_24', 'material_2_24', 'material_4_24', 'material_8_24', 'material_9_24', 'material_6_24', 'material_7_24', 'material_5_24', 'material_3_24'])\n"
     ]
    }
   ],
   "source": [
    "print(\"aux.texture_atlas.shape: \", aux.texture_atlas.shape)\n",
    "print(\"aux.texture_images.keys(): \", aux.texture_images.keys())\n",
    "# print(\"aux.verts_uvs.shape: \", aux.verts_uvs.shape) → None\n",
    "print(\"aux.material_colors.keys(): \", aux.material_colors.keys())"
   ]
  },
  {
   "cell_type": "code",
   "execution_count": 142,
   "id": "02f426ed-0ea6-4631-ab35-e06307c0796c",
   "metadata": {
    "tags": []
   },
   "outputs": [
    {
     "name": "stdout",
     "output_type": "stream",
     "text": [
      "['count', 'index', 'material_colors', 'normals', 'texture_atlas', 'texture_images', 'verts_uvs']\n"
     ]
    }
   ],
   "source": [
    "met_atts = [attr for attr in dir(aux)]\n",
    "met_atts = [met_att for met_att in met_atts if not met_att.startswith(\"__\") and not met_att.startswith(\"_\")]\n",
    "print(met_atts)"
   ]
  },
  {
   "cell_type": "code",
   "execution_count": 143,
   "id": "4ae6321d-ffc5-493a-86d2-fee5d9fddb4b",
   "metadata": {},
   "outputs": [
    {
     "name": "stdout",
     "output_type": "stream",
     "text": [
      "['clone', 'cpu', 'cuda', 'detach', 'device', 'edges_packed', 'edges_packed_to_mesh_idx', 'equisized', 'extend', 'faces_areas_packed', 'faces_list', 'faces_normals_list', 'faces_normals_packed', 'faces_normals_padded', 'faces_packed', 'faces_packed_to_edges_packed', 'faces_packed_to_mesh_idx', 'faces_padded', 'get_bounding_boxes', 'get_mesh_verts_faces', 'has_verts_normals', 'isempty', 'laplacian_packed', 'mesh_to_edges_packed_first_idx', 'mesh_to_faces_packed_first_idx', 'mesh_to_verts_packed_first_idx', 'num_edges_per_mesh', 'num_faces_per_mesh', 'num_verts_per_mesh', 'offset_verts', 'offset_verts_', 'sample_textures', 'scale_verts', 'scale_verts_', 'split', 'submeshes', 'textures', 'to', 'update_padded', 'valid', 'verts_list', 'verts_normals_list', 'verts_normals_packed', 'verts_normals_padded', 'verts_packed', 'verts_packed_to_mesh_idx', 'verts_padded', 'verts_padded_to_packed_idx']\n"
     ]
    }
   ],
   "source": [
    "met_atts = [attr for attr in dir(meshes)]\n",
    "met_atts = [met_att for met_att in met_atts if not met_att.startswith(\"__\") and not met_att.startswith(\"_\")]\n",
    "print(met_atts)"
   ]
  },
  {
   "cell_type": "code",
   "execution_count": 94,
   "id": "d99ed995-d682-4c51-81ed-b995f073f164",
   "metadata": {},
   "outputs": [
    {
     "name": "stdout",
     "output_type": "stream",
     "text": [
      "02691156  02958343  03001627  04090263\t04379243\n"
     ]
    }
   ],
   "source": [
    "!ls /root/dev/DMTet_Models/MeshDiffusion/data"
   ]
  },
  {
   "cell_type": "code",
   "execution_count": 107,
   "id": "982fe61a-b7aa-4484-b493-e40e7ad36f3a",
   "metadata": {},
   "outputs": [
    {
     "data": {
      "text/plain": [
       "6778"
      ]
     },
     "execution_count": 107,
     "metadata": {},
     "output_type": "execute_result"
    }
   ],
   "source": [
    "shapenet_data = ShapeNetCore(\n",
    "    \"/root/dev/DMTet_Models/MeshDiffusion/data\",\n",
    "    synsets=[\"03001627\"], # [\"02691156\", \"02958343\", \"03001627\", \"04090263\", \"04379243\"],\n",
    "    version=1,\n",
    "    load_textures=True,\n",
    "    texture_resolution=8\n",
    ")\n",
    "len(shapenet_data)"
   ]
  },
  {
   "cell_type": "code",
   "execution_count": 96,
   "id": "cdc57d0e-fad6-46f4-b716-f85255701b91",
   "metadata": {},
   "outputs": [
    {
     "data": {
      "text/plain": [
       "dict_keys(['synset_id', 'model_id', 'verts', 'faces', 'textures', 'label'])"
      ]
     },
     "execution_count": 96,
     "metadata": {},
     "output_type": "execute_result"
    }
   ],
   "source": [
    "shapenet_data[0].keys()"
   ]
  },
  {
   "cell_type": "code",
   "execution_count": 97,
   "id": "52ae05a8-8154-426f-bf5d-4e02cc582054",
   "metadata": {},
   "outputs": [
    {
     "data": {
      "text/plain": [
       "torch.Size([1, 1248, 3])"
      ]
     },
     "execution_count": 97,
     "metadata": {},
     "output_type": "execute_result"
    }
   ],
   "source": [
    "torch.ones_like(verts)[None].shape"
   ]
  },
  {
   "cell_type": "code",
   "execution_count": 195,
   "id": "03147be4-7729-45a8-8fdd-ec7daec3cecf",
   "metadata": {},
   "outputs": [
    {
     "name": "stderr",
     "output_type": "stream",
     "text": [
      "/opt/conda/envs/triplora/lib/python3.9/site-packages/pytorch3d/io/mtl_io.py:480: UserWarning:\n",
      "\n",
      "Texture file does not exist: /root/dev/DMTet_Models/MeshDiffusion/data/03001627/11b7c86fc42306ec7e7e25239e7b8f85/./models/untitled/texture_0.jpg\n",
      "\n",
      "/opt/conda/envs/triplora/lib/python3.9/site-packages/pytorch3d/io/mtl_io.py:480: UserWarning:\n",
      "\n",
      "Texture file does not exist: /root/dev/DMTet_Models/MeshDiffusion/data/03001627/11b7c86fc42306ec7e7e25239e7b8f85/./models/untitled/texture.jpg\n",
      "\n"
     ]
    }
   ],
   "source": [
    "from pytorch3d.renderer import TexturesVertex, TexturesAtlas\n",
    "\n",
    "idx_start = 40\n",
    "idx_end = 50\n",
    "verts, faces, textures = [], [], []\n",
    "for i in range(idx_start, idx_end):\n",
    "    data = shapenet_data[i]\n",
    "    verts.append(data[\"verts\"] + i)\n",
    "    faces.append(data[\"faces\"])\n",
    "    texture = data[\"textures\"]\n",
    "    textures.append(texture)\n",
    "    # texture = TexturesAtlas(texture) # (B, F, R, R, C) → (B, H, W, K, C)\n",
    "textures = TexturesAtlas(textures)\n",
    "meshes = Meshes(verts=verts, faces=faces, textures=textures)"
   ]
  },
  {
   "cell_type": "code",
   "execution_count": 203,
   "id": "c808173b-5b7f-4b77-9db5-b9c7cec948d0",
   "metadata": {},
   "outputs": [
    {
     "data": {
      "application/vnd.plotly.v1+json": {
       "config": {
        "plotlyServerURL": "https://plot.ly"
       },
       "data": [
        {
         "i": [
          0,
          1,
          1,
          3,
          4,
          3,
          10,
          4,
          5,
          9,
          5,
          8,
          8,
          9,
          12,
          15,
          12,
          15,
          16,
          19,
          16,
          19,
          20,
          22,
          20,
          22,
          24,
          26,
          24,
          26,
          30,
          31,
          30,
          31,
          34,
          35,
          34,
          35,
          38,
          39,
          38,
          39,
          42,
          43,
          42,
          43,
          46,
          47,
          46,
          47,
          50,
          50,
          51,
          51,
          52,
          50,
          53,
          51,
          54,
          55,
          56,
          55,
          56,
          57,
          56,
          57,
          60,
          62,
          60,
          62,
          64,
          66,
          68,
          66,
          68,
          69,
          68,
          69,
          72,
          74,
          2,
          3,
          5,
          8,
          0,
          7,
          12,
          9,
          6,
          10,
          11,
          16,
          15,
          19,
          13,
          14,
          20,
          22,
          18,
          17,
          24,
          26,
          23,
          21,
          24,
          26,
          28,
          29,
          30,
          31,
          32,
          33,
          34,
          35,
          36,
          37,
          38,
          39,
          40,
          41,
          42,
          43,
          44,
          45,
          46,
          47,
          48,
          49,
          56,
          57,
          52,
          53,
          60,
          62,
          58,
          59,
          64,
          66,
          63,
          61,
          68,
          69,
          67,
          65,
          72,
          74,
          70,
          71,
          76,
          77,
          75,
          73,
          2,
          3,
          2,
          6,
          7,
          9,
          7,
          5,
          8,
          13,
          11,
          14,
          12,
          15,
          17,
          18,
          16,
          19,
          21,
          23,
          20,
          22,
          25,
          27,
          24,
          26,
          29,
          28,
          30,
          31,
          33,
          32,
          34,
          35,
          37,
          36,
          38,
          39,
          41,
          40,
          42,
          43,
          45,
          44,
          46,
          47,
          49,
          48,
          50,
          51,
          48,
          53,
          49,
          52,
          54,
          54,
          55,
          55,
          56,
          58,
          59,
          57,
          61,
          63,
          60,
          62,
          65,
          67,
          64,
          66,
          68,
          70,
          71,
          69,
          73,
          75,
          72,
          74,
          76,
          77,
          0,
          1,
          4,
          5,
          6,
          10,
          8,
          3,
          13,
          11,
          14,
          12,
          9,
          15,
          18,
          17,
          16,
          19,
          23,
          21,
          20,
          22,
          27,
          25,
          27,
          25,
          30,
          31,
          28,
          29,
          34,
          35,
          32,
          33,
          38,
          39,
          36,
          37,
          42,
          43,
          40,
          41,
          46,
          47,
          44,
          45,
          50,
          51,
          54,
          55,
          58,
          59,
          56,
          57,
          63,
          61,
          60,
          62,
          67,
          65,
          64,
          66,
          70,
          71,
          68,
          69,
          75,
          73,
          72,
          74,
          77,
          76,
          78,
          79,
          79,
          82,
          78,
          83,
          82,
          78,
          83,
          79,
          85,
          80,
          81,
          80,
          80,
          81,
          81,
          84,
          85,
          85,
          84,
          83,
          84,
          86,
          85,
          83,
          82,
          86,
          89,
          90,
          89,
          87,
          87,
          90,
          90,
          91,
          93,
          90,
          94,
          92,
          88,
          96,
          93,
          91,
          94,
          91,
          97,
          92,
          97,
          97,
          98,
          87,
          88,
          88,
          94,
          95,
          99,
          100,
          101,
          102,
          100,
          103,
          101,
          99,
          104,
          103,
          99,
          106,
          104,
          100,
          105,
          103,
          109,
          104,
          110,
          103,
          108,
          108,
          113,
          112,
          110,
          107,
          111,
          108,
          112,
          113,
          109,
          120,
          110,
          120,
          107,
          122,
          112,
          119,
          118,
          119,
          107,
          107,
          115,
          108,
          123,
          128,
          118,
          120,
          119,
          126,
          127,
          121,
          121,
          128,
          124,
          130,
          118,
          131,
          129,
          140,
          139,
          126,
          121,
          121,
          142,
          123,
          142,
          124,
          143,
          138,
          139,
          140,
          132,
          141,
          127,
          137,
          149,
          121,
          121,
          137,
          127,
          129,
          151,
          132,
          143,
          144,
          149,
          141,
          151,
          101,
          102,
          102,
          105,
          106,
          105,
          106,
          103,
          103,
          106,
          105,
          104,
          106,
          105,
          105,
          111,
          111,
          106,
          109,
          106,
          113,
          114,
          115,
          116,
          117,
          118,
          119,
          113,
          114,
          114,
          115,
          122,
          115,
          111,
          116,
          116,
          108,
          117,
          124,
          109,
          113,
          125,
          126,
          121,
          122,
          121,
          123,
          121,
          117,
          117,
          124,
          112,
          130,
          131,
          112,
          125,
          132,
          131,
          126,
          133,
          123,
          135,
          136,
          129,
          134,
          137,
          138,
          139,
          125,
          125,
          132,
          119,
          131,
          127,
          127,
          133,
          141,
          134,
          134,
          135,
          142,
          135,
          128,
          136,
          136,
          134,
          119,
          137,
          130,
          144,
          138,
          145,
          146,
          141,
          147,
          119,
          148,
          133,
          133,
          147,
          129,
          150,
          130,
          144,
          138,
          145,
          151,
          145,
          140,
          146,
          146,
          147,
          152,
          139,
          148,
          148,
          150,
          152,
          147,
          143,
          150,
          149,
          152,
          153,
          154,
          154,
          157,
          153,
          158,
          157,
          153,
          158,
          154,
          155,
          156,
          155,
          155,
          156,
          156,
          159,
          160,
          160,
          159,
          158,
          159,
          157,
          160
         ],
         "j": [
          1,
          0,
          4,
          0,
          1,
          6,
          4,
          10,
          11,
          6,
          10,
          11,
          14,
          13,
          14,
          13,
          17,
          18,
          17,
          18,
          21,
          23,
          21,
          23,
          25,
          27,
          25,
          27,
          29,
          28,
          29,
          28,
          33,
          32,
          33,
          32,
          37,
          36,
          37,
          36,
          41,
          40,
          41,
          40,
          45,
          44,
          45,
          44,
          49,
          48,
          52,
          49,
          53,
          48,
          50,
          53,
          51,
          52,
          53,
          52,
          53,
          58,
          59,
          58,
          61,
          63,
          61,
          63,
          65,
          67,
          65,
          67,
          65,
          70,
          71,
          70,
          73,
          75,
          73,
          75,
          5,
          7,
          2,
          0,
          8,
          3,
          6,
          10,
          12,
          9,
          15,
          13,
          11,
          14,
          16,
          19,
          18,
          17,
          20,
          22,
          23,
          21,
          24,
          26,
          28,
          29,
          24,
          26,
          32,
          33,
          30,
          31,
          36,
          37,
          34,
          35,
          40,
          41,
          38,
          39,
          44,
          45,
          42,
          43,
          48,
          49,
          46,
          47,
          52,
          53,
          56,
          57,
          58,
          59,
          60,
          62,
          63,
          61,
          64,
          66,
          67,
          65,
          68,
          69,
          70,
          71,
          72,
          74,
          75,
          73,
          76,
          77,
          1,
          0,
          4,
          0,
          1,
          6,
          4,
          10,
          11,
          6,
          10,
          11,
          14,
          13,
          14,
          13,
          17,
          18,
          17,
          18,
          21,
          23,
          21,
          23,
          25,
          27,
          25,
          27,
          29,
          28,
          29,
          28,
          33,
          32,
          33,
          32,
          37,
          36,
          37,
          36,
          41,
          40,
          41,
          40,
          45,
          44,
          45,
          44,
          49,
          48,
          52,
          49,
          53,
          48,
          50,
          53,
          51,
          52,
          53,
          52,
          53,
          58,
          59,
          58,
          61,
          63,
          61,
          63,
          65,
          67,
          65,
          67,
          65,
          70,
          71,
          70,
          73,
          75,
          73,
          75,
          5,
          7,
          2,
          0,
          8,
          3,
          6,
          10,
          12,
          9,
          15,
          13,
          11,
          14,
          16,
          19,
          18,
          17,
          20,
          22,
          23,
          21,
          24,
          26,
          28,
          29,
          24,
          26,
          32,
          33,
          30,
          31,
          36,
          37,
          34,
          35,
          40,
          41,
          38,
          39,
          44,
          45,
          42,
          43,
          48,
          49,
          46,
          47,
          52,
          53,
          56,
          57,
          58,
          59,
          60,
          62,
          63,
          61,
          64,
          66,
          67,
          65,
          68,
          69,
          70,
          71,
          72,
          74,
          75,
          73,
          76,
          77,
          79,
          78,
          82,
          78,
          83,
          79,
          79,
          82,
          78,
          83,
          82,
          79,
          78,
          82,
          78,
          83,
          79,
          79,
          82,
          78,
          83,
          82,
          82,
          82,
          86,
          86,
          83,
          83,
          88,
          87,
          91,
          91,
          91,
          91,
          92,
          89,
          89,
          91,
          91,
          90,
          92,
          91,
          91,
          92,
          92,
          96,
          96,
          91,
          91,
          96,
          96,
          88,
          87,
          92,
          90,
          92,
          100,
          99,
          100,
          99,
          103,
          99,
          99,
          104,
          100,
          100,
          103,
          103,
          99,
          104,
          107,
          108,
          104,
          110,
          107,
          107,
          103,
          112,
          104,
          109,
          104,
          110,
          107,
          111,
          108,
          109,
          112,
          110,
          120,
          107,
          121,
          108,
          117,
          118,
          120,
          112,
          120,
          127,
          121,
          122,
          128,
          124,
          119,
          118,
          125,
          120,
          107,
          127,
          134,
          123,
          128,
          119,
          130,
          118,
          140,
          132,
          126,
          139,
          133,
          129,
          123,
          142,
          124,
          142,
          137,
          130,
          118,
          129,
          140,
          143,
          139,
          149,
          141,
          141,
          147,
          143,
          144,
          151,
          132,
          151,
          141,
          127,
          137,
          149,
          129,
          103,
          104,
          100,
          100,
          99,
          104,
          105,
          105,
          107,
          108,
          106,
          106,
          104,
          110,
          107,
          107,
          103,
          112,
          104,
          109,
          104,
          110,
          107,
          111,
          108,
          109,
          112,
          110,
          120,
          107,
          121,
          111,
          111,
          122,
          122,
          108,
          123,
          123,
          117,
          118,
          120,
          112,
          120,
          127,
          121,
          122,
          108,
          108,
          128,
          124,
          129,
          129,
          119,
          118,
          129,
          129,
          125,
          120,
          107,
          127,
          134,
          123,
          128,
          124,
          124,
          119,
          130,
          118,
          140,
          132,
          141,
          141,
          126,
          139,
          137,
          137,
          133,
          129,
          123,
          142,
          128,
          128,
          142,
          142,
          124,
          142,
          137,
          127,
          127,
          130,
          118,
          129,
          140,
          132,
          132,
          143,
          139,
          149,
          141,
          141,
          147,
          143,
          144,
          139,
          139,
          151,
          140,
          140,
          151,
          151,
          132,
          151,
          141,
          144,
          144,
          127,
          137,
          149,
          129,
          149,
          149,
          143,
          143,
          154,
          153,
          157,
          153,
          158,
          154,
          154,
          157,
          153,
          158,
          154,
          153,
          157,
          153,
          158,
          154,
          154,
          157,
          153,
          158,
          157,
          157,
          158,
          158
         ],
         "k": [
          2,
          3,
          2,
          6,
          7,
          9,
          7,
          5,
          8,
          13,
          11,
          14,
          12,
          15,
          17,
          18,
          16,
          19,
          21,
          23,
          20,
          22,
          25,
          27,
          24,
          26,
          29,
          28,
          30,
          31,
          33,
          32,
          34,
          35,
          37,
          36,
          38,
          39,
          41,
          40,
          42,
          43,
          45,
          44,
          46,
          47,
          49,
          48,
          50,
          51,
          48,
          53,
          49,
          52,
          54,
          54,
          55,
          55,
          56,
          58,
          59,
          57,
          61,
          63,
          60,
          62,
          65,
          67,
          64,
          66,
          68,
          70,
          71,
          69,
          73,
          75,
          72,
          74,
          76,
          77,
          0,
          1,
          4,
          5,
          6,
          10,
          8,
          3,
          13,
          11,
          14,
          12,
          9,
          15,
          18,
          17,
          16,
          19,
          23,
          21,
          20,
          22,
          27,
          25,
          27,
          25,
          30,
          31,
          28,
          29,
          34,
          35,
          32,
          33,
          38,
          39,
          36,
          37,
          42,
          43,
          40,
          41,
          46,
          47,
          44,
          45,
          50,
          51,
          54,
          55,
          58,
          59,
          56,
          57,
          63,
          61,
          60,
          62,
          67,
          65,
          64,
          66,
          70,
          71,
          68,
          69,
          75,
          73,
          72,
          74,
          77,
          76,
          0,
          1,
          1,
          3,
          4,
          3,
          10,
          4,
          5,
          9,
          5,
          8,
          8,
          9,
          12,
          15,
          12,
          15,
          16,
          19,
          16,
          19,
          20,
          22,
          20,
          22,
          24,
          26,
          24,
          26,
          30,
          31,
          30,
          31,
          34,
          35,
          34,
          35,
          38,
          39,
          38,
          39,
          42,
          43,
          42,
          43,
          46,
          47,
          46,
          47,
          50,
          50,
          51,
          51,
          52,
          50,
          53,
          51,
          54,
          55,
          56,
          55,
          56,
          57,
          56,
          57,
          60,
          62,
          60,
          62,
          64,
          66,
          68,
          66,
          68,
          69,
          68,
          69,
          72,
          74,
          2,
          3,
          5,
          8,
          0,
          7,
          12,
          9,
          6,
          10,
          11,
          16,
          15,
          19,
          13,
          14,
          20,
          22,
          18,
          17,
          24,
          26,
          23,
          21,
          24,
          26,
          28,
          29,
          30,
          31,
          32,
          33,
          34,
          35,
          36,
          37,
          38,
          39,
          40,
          41,
          42,
          43,
          44,
          45,
          46,
          47,
          48,
          49,
          56,
          57,
          52,
          53,
          60,
          62,
          58,
          59,
          64,
          66,
          63,
          61,
          68,
          69,
          67,
          65,
          72,
          74,
          70,
          71,
          76,
          77,
          75,
          73,
          80,
          81,
          80,
          80,
          81,
          81,
          84,
          85,
          85,
          84,
          86,
          78,
          79,
          79,
          82,
          78,
          83,
          82,
          78,
          83,
          79,
          84,
          83,
          85,
          83,
          85,
          86,
          82,
          87,
          88,
          87,
          89,
          90,
          87,
          88,
          93,
          91,
          94,
          90,
          94,
          95,
          93,
          96,
          94,
          91,
          97,
          91,
          97,
          92,
          98,
          97,
          89,
          90,
          90,
          92,
          88,
          101,
          102,
          99,
          100,
          101,
          101,
          103,
          102,
          102,
          105,
          106,
          99,
          106,
          105,
          103,
          106,
          106,
          105,
          105,
          111,
          111,
          106,
          109,
          106,
          113,
          114,
          115,
          116,
          117,
          118,
          119,
          113,
          114,
          114,
          115,
          116,
          124,
          109,
          113,
          125,
          126,
          121,
          122,
          121,
          117,
          117,
          130,
          131,
          132,
          131,
          126,
          133,
          123,
          135,
          136,
          137,
          138,
          139,
          125,
          125,
          131,
          127,
          141,
          134,
          134,
          135,
          136,
          134,
          119,
          144,
          138,
          145,
          146,
          119,
          148,
          133,
          133,
          147,
          129,
          150,
          130,
          145,
          146,
          147,
          152,
          148,
          150,
          152,
          147,
          100,
          99,
          104,
          103,
          104,
          100,
          103,
          106,
          105,
          103,
          104,
          105,
          109,
          104,
          110,
          103,
          108,
          108,
          113,
          112,
          110,
          107,
          111,
          108,
          112,
          113,
          109,
          120,
          110,
          120,
          107,
          115,
          122,
          116,
          111,
          122,
          117,
          108,
          112,
          119,
          118,
          119,
          107,
          107,
          115,
          108,
          121,
          123,
          123,
          128,
          112,
          124,
          118,
          120,
          125,
          112,
          119,
          126,
          127,
          121,
          121,
          128,
          124,
          134,
          129,
          130,
          118,
          131,
          129,
          140,
          119,
          132,
          139,
          126,
          133,
          127,
          121,
          121,
          142,
          123,
          135,
          142,
          136,
          128,
          142,
          124,
          143,
          130,
          137,
          138,
          139,
          140,
          132,
          147,
          141,
          141,
          127,
          137,
          149,
          121,
          121,
          137,
          127,
          138,
          144,
          129,
          145,
          151,
          146,
          140,
          151,
          132,
          143,
          148,
          139,
          144,
          149,
          141,
          151,
          150,
          143,
          152,
          149,
          155,
          156,
          155,
          155,
          156,
          156,
          159,
          160,
          160,
          159,
          153,
          154,
          154,
          157,
          153,
          158,
          157,
          153,
          158,
          154,
          159,
          158,
          160,
          157
         ],
         "lighting": {
          "ambient": 0.8,
          "diffuse": 1,
          "facenormalsepsilon": 1e-06,
          "fresnel": 0,
          "roughness": 0.5,
          "specular": 0,
          "vertexnormalsepsilon": 1e-12
         },
         "name": "mesh_trace_title",
         "scene": "scene",
         "type": "mesh3d",
         "x": [
          -0.13260599970817566,
          -0.13260599970817566,
          -0.13260599970817566,
          -0.13260599970817566,
          -0.2026059925556183,
          -0.2026059925556183,
          -0.13260599970817566,
          -0.2026059925556183,
          -0.2026059925556183,
          -0.13260599970817566,
          -0.2026059925556183,
          -0.2026059925556183,
          -0.2026059925556183,
          -0.13260599970817566,
          -0.2026059925556183,
          -0.13260599970817566,
          -0.2026059925556183,
          -0.2026059925556183,
          -0.13260599970817566,
          -0.13260599970817566,
          -0.2026059925556183,
          -0.2026059925556183,
          -0.13260599970817566,
          -0.13260599970817566,
          -0.2026059925556183,
          -0.2026059925556183,
          -0.13260599970817566,
          -0.13260599970817566,
          -0.13260599970817566,
          -0.2026059925556183,
          -0.2026059925556183,
          -0.13260599970817566,
          -0.13260599970817566,
          -0.2026059925556183,
          -0.2026059925556183,
          -0.13260599970817566,
          -0.13260599970817566,
          -0.2026059925556183,
          -0.2026059925556183,
          -0.13260599970817566,
          -0.13260599970817566,
          -0.2026059925556183,
          -0.2026059925556183,
          -0.13260599970817566,
          -0.13260599970817566,
          -0.2026059925556183,
          -0.2026059925556183,
          -0.13260599970817566,
          -0.13260599970817566,
          -0.2026059925556183,
          -0.2026059925556183,
          -0.13260599970817566,
          -0.13260599970817566,
          -0.2026059925556183,
          -0.2026059925556183,
          -0.13260599970817566,
          -0.2026059925556183,
          -0.13260599970817566,
          -0.13260599970817566,
          -0.2026059925556183,
          -0.2026059925556183,
          -0.2026059925556183,
          -0.13260599970817566,
          -0.13260599970817566,
          -0.2026059925556183,
          -0.2026059925556183,
          -0.13260599970817566,
          -0.13260599970817566,
          -0.2026059925556183,
          -0.13260599970817566,
          -0.13260599970817566,
          -0.2026059925556183,
          -0.2026059925556183,
          -0.2026059925556183,
          -0.13260599970817566,
          -0.13260599970817566,
          -0.2026059925556183,
          -0.13260599970817566,
          0.09489230066537857,
          0.20131100714206696,
          0.09489230066537857,
          0.20131100714206696,
          0.09489230066537857,
          0.20131100714206696,
          0.20131100714206696,
          0.09489230066537857,
          0.09489230066537857,
          -0.09489230066537857,
          -0.09347359836101532,
          -0.09489230066537857,
          -0.09347359836101532,
          -0.20509499311447144,
          -0.09347359836101532,
          -0.20509499311447144,
          -0.09347359836101532,
          -0.09347359836101532,
          -0.20509499311447144,
          -0.20509499311447144,
          -0.20509499311447144,
          -0.20509499311447144,
          -0.09489230066537857,
          -0.20509499311447144,
          -0.09489230066537857,
          -0.20509499311447144,
          -0.09489230066537857,
          -0.09489230066537857,
          -0.20509499311447144,
          -0.11353400349617004,
          -0.20509499311447144,
          -0.20509499311447144,
          0.20131100714206696,
          -0.20509499311447144,
          -0.20509499311447144,
          0.20131100714206696,
          0.20131100714206696,
          -0.11353400349617004,
          -0.20509499311447144,
          -0.20509499311447144,
          -0.20509499311447144,
          -0.20509499311447144,
          0.20131100714206696,
          -0.11353400349617004,
          -0.11353400349617004,
          -0.11353400349617004,
          -0.20509499311447144,
          -0.20509499311447144,
          -0.11353400349617004,
          -0.11353400349617004,
          -0.20509499311447144,
          -0.11353400349617004,
          -0.20509499311447144,
          -0.11353400349617004,
          -0.20509499311447144,
          -0.11353400349617004,
          -0.11353400349617004,
          -0.11353400349617004,
          -0.20509499311447144,
          -0.20509499311447144,
          -0.20509499311447144,
          -0.11353400349617004,
          -0.20509499311447144,
          -0.11353400349617004,
          -0.11353400349617004,
          -0.20509499311447144,
          -0.20509499311447144,
          -0.11353400349617004,
          -0.20509499311447144,
          -0.11353400349617004,
          -0.11353400349617004,
          -0.11353400349617004,
          -0.20509499311447144,
          -0.11353400349617004,
          -0.11353400349617004,
          0.09489230066537857,
          0.20509499311447144,
          0.09489230066537857,
          0.20509499311447144,
          0.09489230066537857,
          0.20509499311447144,
          0.20509499311447144,
          0.09489230066537857
         ],
         "y": [
          0.1871509999036789,
          0.18672500550746918,
          0.18672500550746918,
          0.1871509999036789,
          0.18672500550746918,
          0.1871509999036789,
          0.1884250044822693,
          0.18672500550746918,
          0.1884250044822693,
          0.1884250044822693,
          0.1871509999036789,
          0.1884250044822693,
          0.19052299857139587,
          0.19052299857139587,
          0.19052299857139587,
          0.19052299857139587,
          0.1934099942445755,
          0.1934099942445755,
          0.1934099942445755,
          0.1934099942445755,
          0.1970359981060028,
          0.1970359981060028,
          0.1970359981060028,
          0.1970359981060028,
          0.2013390064239502,
          0.2013390064239502,
          0.2013390064239502,
          0.2013390064239502,
          0.2062470018863678,
          0.2062470018863678,
          0.2062470018863678,
          0.2062470018863678,
          0.21167400479316711,
          0.21167400479316711,
          0.21167400479316711,
          0.21167400479316711,
          0.21752700209617615,
          0.21752700209617615,
          0.21752700209617615,
          0.21752700209617615,
          0.22370800375938416,
          0.22370800375938416,
          0.22370800375938416,
          0.22370800375938416,
          0.23011000454425812,
          0.23011000454425812,
          0.23011000454425812,
          0.23011000454425812,
          0.23662300407886505,
          0.23662300407886505,
          0.23662300407886505,
          0.23662300407886505,
          0.28652098774909973,
          0.28652098774909973,
          0.28652098774909973,
          0.28652098774909973,
          0.3159080147743225,
          0.3159080147743225,
          0.3159080147743225,
          0.3159080147743225,
          0.34066998958587646,
          0.34066998958587646,
          0.34066998958587646,
          0.34066998958587646,
          0.36038199067115784,
          0.36038199067115784,
          0.36038199067115784,
          0.36038199067115784,
          0.37470799684524536,
          0.37470799684524536,
          0.37470799684524536,
          0.37470799684524536,
          0.3834030032157898,
          0.3834030032157898,
          0.3834030032157898,
          0.3834030032157898,
          0.38631799817085266,
          0.38631799817085266,
          -0.38631799817085266,
          -0.38631799817085266,
          -0.38631799817085266,
          -0.38631799817085266,
          -0.12618400156497955,
          -0.12618400156497955,
          -0.12618400156497955,
          -0.12618400156497955,
          -0.12618400156497955,
          -0.38631799817085266,
          -0.38631799817085266,
          -0.38631799817085266,
          -0.38631799817085266,
          -0.38631799817085266,
          -0.11766999959945679,
          -0.38631799817085266,
          -0.38631799817085266,
          -0.11766999959945679,
          -0.12523800134658813,
          -0.11766999959945679,
          -0.11766999959945679,
          -0.38631799817085266,
          -0.38631799817085266,
          -0.38631799817085266,
          -0.38631799817085266,
          -0.12523800134658813,
          -0.12523800134658813,
          -0.12523800134658813,
          -0.12523800134658813,
          -0.07699490338563919,
          -0.018819499760866165,
          -0.12523800134658813,
          -0.12523800134658813,
          0.20631399750709534,
          -0.018819499760866165,
          -0.12523800134658813,
          -0.07699490338563919,
          0.20631399750709534,
          0.20631399750709534,
          -0.018819499760866165,
          -0.12523800134658813,
          -0.018819499760866165,
          -0.07699490338563919,
          -0.018819499760866165,
          0.20631399750709534,
          -0.018819499760866165,
          -0.018819499760866165,
          -0.018819499760866165,
          -0.07699490338563919,
          -0.018819499760866165,
          0.1855040043592453,
          -0.018819499760866165,
          -0.018819499760866165,
          -0.07699490338563919,
          -0.018819499760866165,
          -0.018819499760866165,
          -0.018819499760866165,
          0.1855040043592453,
          0.1855040043592453,
          -0.018819499760866165,
          0.2058420032262802,
          0.2058420032262802,
          0.189287006855011,
          -0.018819499760866165,
          0.1855040043592453,
          0.18739600479602814,
          0.2058420032262802,
          0.189287006855011,
          0.189287006855011,
          -0.018819499760866165,
          0.2058420032262802,
          0.18739600479602814,
          0.18739600479602814,
          0.189287006855011,
          0.18739600479602814,
          -0.38631799817085266,
          -0.38631799817085266,
          -0.38631799817085266,
          -0.38631799817085266,
          -0.1285489946603775,
          -0.1285489946603775,
          -0.1285489946603775,
          -0.1285489946603775
         ],
         "z": [
          -0.1988849937915802,
          0.18978799879550934,
          -0.19237099587917328,
          0.19630199670791626,
          -0.19237099587917328,
          -0.1988849937915802,
          -0.20528599619865417,
          0.18978799879550934,
          -0.20528599619865417,
          0.20270299911499023,
          0.19630199670791626,
          0.20270299911499023,
          -0.21146699786186218,
          -0.21146699786186218,
          0.20888400077819824,
          0.20888400077819824,
          -0.21731999516487122,
          0.21473799645900726,
          -0.21731999516487122,
          0.21473799645900726,
          -0.22274799644947052,
          0.22016599774360657,
          0.22016599774360657,
          -0.22274799644947052,
          -0.22765499353408813,
          0.22507299482822418,
          0.22507299482822418,
          -0.22765499353408813,
          -0.23195800185203552,
          0.22937600314617157,
          -0.23195800185203552,
          0.22937600314617157,
          -0.23558400571346283,
          0.23300300538539886,
          -0.23558400571346283,
          0.23300300538539886,
          -0.23847199976444244,
          0.2358890026807785,
          -0.23847199976444244,
          0.2358890026807785,
          -0.24056899547576904,
          0.2379869967699051,
          -0.24056899547576904,
          0.2379869967699051,
          -0.24184300005435944,
          0.2392600029706955,
          -0.24184300005435944,
          0.2392600029706955,
          -0.24226999282836914,
          0.2396869957447052,
          -0.24226999282836914,
          0.2396869957447052,
          -0.24226999282836914,
          0.2396869957447052,
          -0.24226999282836914,
          0.2396869957447052,
          -0.20875200629234314,
          0.206168994307518,
          -0.20875200629234314,
          0.206168994307518,
          -0.17168499529361725,
          0.1691029965877533,
          0.1691029965877533,
          -0.17168499529361725,
          -0.13170400261878967,
          0.12912200391292572,
          0.12912200391292572,
          -0.13170400261878967,
          -0.08949259668588638,
          0.08690980076789856,
          -0.08949259668588638,
          0.08690980076789856,
          -0.045772600919008255,
          0.04318980127573013,
          0.04318980127573013,
          -0.045772600919008255,
          -0.0012911299709230661,
          -0.0012911299709230661,
          -0.213918998837471,
          -0.07155550271272659,
          -0.07155550271272659,
          -0.213918998837471,
          -0.07155550271272659,
          -0.213918998837471,
          -0.07155550271272659,
          -0.213918998837471,
          -0.09446480125188828,
          -0.14013899862766266,
          -0.06280899792909622,
          -0.06280899792909622,
          -0.14013899862766266,
          -0.21747000515460968,
          -0.21747000515460968,
          -0.06280899792909622,
          -0.21747000515460968,
          -0.06280899792909622,
          -0.06280899792909622,
          -0.21747000515460968,
          -0.06280899792909622,
          0.1032169982790947,
          0.24226999282836914,
          0.24226999282836914,
          0.1032169982790947,
          0.24226999282836914,
          0.1032169982790947,
          0.24226999282836914,
          0.1032169982790947,
          0.24226999282836914,
          0.20750699937343597,
          -0.06280899792909622,
          0.24226999282836914,
          0.24226999282836914,
          0.1032169982790947,
          -0.213918998837471,
          0.24226999282836914,
          0.24226999282836914,
          0.20750699937343597,
          0.1727440059185028,
          -0.213918998837471,
          -0.06280899792909622,
          -0.213918998837471,
          0.20750699937343597,
          0.20750699937343597,
          0.1727440059185028,
          0.1161549985408783,
          0.05938209965825081,
          -0.16665799915790558,
          -0.16665799915790558,
          0.1727440059185028,
          0.05938209965825081,
          -0.16665799915790558,
          -0.213918998837471,
          0.002794790081679821,
          -0.11939699947834015,
          0.1161549985408783,
          0.1727440059185028,
          0.1161549985408783,
          -0.11939699947834015,
          -0.213918998837471,
          -0.213918998837471,
          0.05938209965825081,
          -0.06280899792909622,
          0.1161549985408783,
          -0.06280899792909622,
          -0.16665799915790558,
          0.05938209965825081,
          0.002794790081679821,
          0.002794790081679821,
          -0.16665799915790558,
          -0.11939699947834015,
          -0.11939699947834015,
          0.002794790081679821,
          -0.06280899792909622,
          0.10227099806070328,
          0.24226999282836914,
          0.24226999282836914,
          0.10227099806070328,
          0.24226999282836914,
          0.10227099806070328,
          0.24226999282836914,
          0.10227099806070328
         ]
        }
       ],
       "layout": {
        "annotations": [
         {
          "font": {
           "size": 16
          },
          "showarrow": false,
          "text": "subplot_title",
          "x": 0.5,
          "xanchor": "center",
          "xref": "paper",
          "y": 1,
          "yanchor": "bottom",
          "yref": "paper"
         }
        ],
        "autosize": true,
        "scene": {
         "aspectmode": "cube",
         "aspectratio": {
          "x": 1,
          "y": 1,
          "z": 1
         },
         "camera": {
          "center": {
           "x": 0,
           "y": 0,
           "z": 0
          },
          "eye": {
           "x": 0.6550624789658109,
           "y": -0.004892414545043988,
           "z": 0.8344668206911849
          },
          "projection": {
           "type": "perspective"
          },
          "up": {
           "x": 0.006761638178790081,
           "y": 0.999976985928777,
           "z": 0.0005548530773405581
          }
         },
         "domain": {
          "x": [
           0,
           1
          ],
          "y": [
           0,
           1
          ]
         },
         "xaxis": {
          "backgroundcolor": "#fff",
          "range": [
           -0.8928978443145752,
           0.6523741483688354
          ],
          "showaxeslabels": false,
          "showgrid": false,
          "showline": false,
          "showticklabels": false,
          "ticks": "",
          "type": "linear",
          "zeroline": false
         },
         "yaxis": {
          "backgroundcolor": "#fff",
          "range": [
           -0.6930677890777588,
           0.8522042036056519
          ],
          "showaxeslabels": false,
          "showgrid": false,
          "showline": false,
          "showticklabels": false,
          "ticks": "",
          "type": "linear",
          "zeroline": false
         },
         "zaxis": {
          "backgroundcolor": "#fff",
          "range": [
           -0.7693037986755371,
           0.7759681940078735
          ],
          "showaxeslabels": false,
          "showgrid": false,
          "showline": false,
          "showticklabels": false,
          "ticks": "",
          "type": "linear",
          "zeroline": false
         }
        },
        "template": {
         "data": {
          "bar": [
           {
            "error_x": {
             "color": "#2a3f5f"
            },
            "error_y": {
             "color": "#2a3f5f"
            },
            "marker": {
             "line": {
              "color": "#E5ECF6",
              "width": 0.5
             },
             "pattern": {
              "fillmode": "overlay",
              "size": 10,
              "solidity": 0.2
             }
            },
            "type": "bar"
           }
          ],
          "barpolar": [
           {
            "marker": {
             "line": {
              "color": "#E5ECF6",
              "width": 0.5
             },
             "pattern": {
              "fillmode": "overlay",
              "size": 10,
              "solidity": 0.2
             }
            },
            "type": "barpolar"
           }
          ],
          "carpet": [
           {
            "aaxis": {
             "endlinecolor": "#2a3f5f",
             "gridcolor": "white",
             "linecolor": "white",
             "minorgridcolor": "white",
             "startlinecolor": "#2a3f5f"
            },
            "baxis": {
             "endlinecolor": "#2a3f5f",
             "gridcolor": "white",
             "linecolor": "white",
             "minorgridcolor": "white",
             "startlinecolor": "#2a3f5f"
            },
            "type": "carpet"
           }
          ],
          "choropleth": [
           {
            "colorbar": {
             "outlinewidth": 0,
             "ticks": ""
            },
            "type": "choropleth"
           }
          ],
          "contour": [
           {
            "colorbar": {
             "outlinewidth": 0,
             "ticks": ""
            },
            "colorscale": [
             [
              0,
              "#0d0887"
             ],
             [
              0.1111111111111111,
              "#46039f"
             ],
             [
              0.2222222222222222,
              "#7201a8"
             ],
             [
              0.3333333333333333,
              "#9c179e"
             ],
             [
              0.4444444444444444,
              "#bd3786"
             ],
             [
              0.5555555555555556,
              "#d8576b"
             ],
             [
              0.6666666666666666,
              "#ed7953"
             ],
             [
              0.7777777777777778,
              "#fb9f3a"
             ],
             [
              0.8888888888888888,
              "#fdca26"
             ],
             [
              1,
              "#f0f921"
             ]
            ],
            "type": "contour"
           }
          ],
          "contourcarpet": [
           {
            "colorbar": {
             "outlinewidth": 0,
             "ticks": ""
            },
            "type": "contourcarpet"
           }
          ],
          "heatmap": [
           {
            "colorbar": {
             "outlinewidth": 0,
             "ticks": ""
            },
            "colorscale": [
             [
              0,
              "#0d0887"
             ],
             [
              0.1111111111111111,
              "#46039f"
             ],
             [
              0.2222222222222222,
              "#7201a8"
             ],
             [
              0.3333333333333333,
              "#9c179e"
             ],
             [
              0.4444444444444444,
              "#bd3786"
             ],
             [
              0.5555555555555556,
              "#d8576b"
             ],
             [
              0.6666666666666666,
              "#ed7953"
             ],
             [
              0.7777777777777778,
              "#fb9f3a"
             ],
             [
              0.8888888888888888,
              "#fdca26"
             ],
             [
              1,
              "#f0f921"
             ]
            ],
            "type": "heatmap"
           }
          ],
          "heatmapgl": [
           {
            "colorbar": {
             "outlinewidth": 0,
             "ticks": ""
            },
            "colorscale": [
             [
              0,
              "#0d0887"
             ],
             [
              0.1111111111111111,
              "#46039f"
             ],
             [
              0.2222222222222222,
              "#7201a8"
             ],
             [
              0.3333333333333333,
              "#9c179e"
             ],
             [
              0.4444444444444444,
              "#bd3786"
             ],
             [
              0.5555555555555556,
              "#d8576b"
             ],
             [
              0.6666666666666666,
              "#ed7953"
             ],
             [
              0.7777777777777778,
              "#fb9f3a"
             ],
             [
              0.8888888888888888,
              "#fdca26"
             ],
             [
              1,
              "#f0f921"
             ]
            ],
            "type": "heatmapgl"
           }
          ],
          "histogram": [
           {
            "marker": {
             "pattern": {
              "fillmode": "overlay",
              "size": 10,
              "solidity": 0.2
             }
            },
            "type": "histogram"
           }
          ],
          "histogram2d": [
           {
            "colorbar": {
             "outlinewidth": 0,
             "ticks": ""
            },
            "colorscale": [
             [
              0,
              "#0d0887"
             ],
             [
              0.1111111111111111,
              "#46039f"
             ],
             [
              0.2222222222222222,
              "#7201a8"
             ],
             [
              0.3333333333333333,
              "#9c179e"
             ],
             [
              0.4444444444444444,
              "#bd3786"
             ],
             [
              0.5555555555555556,
              "#d8576b"
             ],
             [
              0.6666666666666666,
              "#ed7953"
             ],
             [
              0.7777777777777778,
              "#fb9f3a"
             ],
             [
              0.8888888888888888,
              "#fdca26"
             ],
             [
              1,
              "#f0f921"
             ]
            ],
            "type": "histogram2d"
           }
          ],
          "histogram2dcontour": [
           {
            "colorbar": {
             "outlinewidth": 0,
             "ticks": ""
            },
            "colorscale": [
             [
              0,
              "#0d0887"
             ],
             [
              0.1111111111111111,
              "#46039f"
             ],
             [
              0.2222222222222222,
              "#7201a8"
             ],
             [
              0.3333333333333333,
              "#9c179e"
             ],
             [
              0.4444444444444444,
              "#bd3786"
             ],
             [
              0.5555555555555556,
              "#d8576b"
             ],
             [
              0.6666666666666666,
              "#ed7953"
             ],
             [
              0.7777777777777778,
              "#fb9f3a"
             ],
             [
              0.8888888888888888,
              "#fdca26"
             ],
             [
              1,
              "#f0f921"
             ]
            ],
            "type": "histogram2dcontour"
           }
          ],
          "mesh3d": [
           {
            "colorbar": {
             "outlinewidth": 0,
             "ticks": ""
            },
            "type": "mesh3d"
           }
          ],
          "parcoords": [
           {
            "line": {
             "colorbar": {
              "outlinewidth": 0,
              "ticks": ""
             }
            },
            "type": "parcoords"
           }
          ],
          "pie": [
           {
            "automargin": true,
            "type": "pie"
           }
          ],
          "scatter": [
           {
            "fillpattern": {
             "fillmode": "overlay",
             "size": 10,
             "solidity": 0.2
            },
            "type": "scatter"
           }
          ],
          "scatter3d": [
           {
            "line": {
             "colorbar": {
              "outlinewidth": 0,
              "ticks": ""
             }
            },
            "marker": {
             "colorbar": {
              "outlinewidth": 0,
              "ticks": ""
             }
            },
            "type": "scatter3d"
           }
          ],
          "scattercarpet": [
           {
            "marker": {
             "colorbar": {
              "outlinewidth": 0,
              "ticks": ""
             }
            },
            "type": "scattercarpet"
           }
          ],
          "scattergeo": [
           {
            "marker": {
             "colorbar": {
              "outlinewidth": 0,
              "ticks": ""
             }
            },
            "type": "scattergeo"
           }
          ],
          "scattergl": [
           {
            "marker": {
             "colorbar": {
              "outlinewidth": 0,
              "ticks": ""
             }
            },
            "type": "scattergl"
           }
          ],
          "scattermapbox": [
           {
            "marker": {
             "colorbar": {
              "outlinewidth": 0,
              "ticks": ""
             }
            },
            "type": "scattermapbox"
           }
          ],
          "scatterpolar": [
           {
            "marker": {
             "colorbar": {
              "outlinewidth": 0,
              "ticks": ""
             }
            },
            "type": "scatterpolar"
           }
          ],
          "scatterpolargl": [
           {
            "marker": {
             "colorbar": {
              "outlinewidth": 0,
              "ticks": ""
             }
            },
            "type": "scatterpolargl"
           }
          ],
          "scatterternary": [
           {
            "marker": {
             "colorbar": {
              "outlinewidth": 0,
              "ticks": ""
             }
            },
            "type": "scatterternary"
           }
          ],
          "surface": [
           {
            "colorbar": {
             "outlinewidth": 0,
             "ticks": ""
            },
            "colorscale": [
             [
              0,
              "#0d0887"
             ],
             [
              0.1111111111111111,
              "#46039f"
             ],
             [
              0.2222222222222222,
              "#7201a8"
             ],
             [
              0.3333333333333333,
              "#9c179e"
             ],
             [
              0.4444444444444444,
              "#bd3786"
             ],
             [
              0.5555555555555556,
              "#d8576b"
             ],
             [
              0.6666666666666666,
              "#ed7953"
             ],
             [
              0.7777777777777778,
              "#fb9f3a"
             ],
             [
              0.8888888888888888,
              "#fdca26"
             ],
             [
              1,
              "#f0f921"
             ]
            ],
            "type": "surface"
           }
          ],
          "table": [
           {
            "cells": {
             "fill": {
              "color": "#EBF0F8"
             },
             "line": {
              "color": "white"
             }
            },
            "header": {
             "fill": {
              "color": "#C8D4E3"
             },
             "line": {
              "color": "white"
             }
            },
            "type": "table"
           }
          ]
         },
         "layout": {
          "annotationdefaults": {
           "arrowcolor": "#2a3f5f",
           "arrowhead": 0,
           "arrowwidth": 1
          },
          "autotypenumbers": "strict",
          "coloraxis": {
           "colorbar": {
            "outlinewidth": 0,
            "ticks": ""
           }
          },
          "colorscale": {
           "diverging": [
            [
             0,
             "#8e0152"
            ],
            [
             0.1,
             "#c51b7d"
            ],
            [
             0.2,
             "#de77ae"
            ],
            [
             0.3,
             "#f1b6da"
            ],
            [
             0.4,
             "#fde0ef"
            ],
            [
             0.5,
             "#f7f7f7"
            ],
            [
             0.6,
             "#e6f5d0"
            ],
            [
             0.7,
             "#b8e186"
            ],
            [
             0.8,
             "#7fbc41"
            ],
            [
             0.9,
             "#4d9221"
            ],
            [
             1,
             "#276419"
            ]
           ],
           "sequential": [
            [
             0,
             "#0d0887"
            ],
            [
             0.1111111111111111,
             "#46039f"
            ],
            [
             0.2222222222222222,
             "#7201a8"
            ],
            [
             0.3333333333333333,
             "#9c179e"
            ],
            [
             0.4444444444444444,
             "#bd3786"
            ],
            [
             0.5555555555555556,
             "#d8576b"
            ],
            [
             0.6666666666666666,
             "#ed7953"
            ],
            [
             0.7777777777777778,
             "#fb9f3a"
            ],
            [
             0.8888888888888888,
             "#fdca26"
            ],
            [
             1,
             "#f0f921"
            ]
           ],
           "sequentialminus": [
            [
             0,
             "#0d0887"
            ],
            [
             0.1111111111111111,
             "#46039f"
            ],
            [
             0.2222222222222222,
             "#7201a8"
            ],
            [
             0.3333333333333333,
             "#9c179e"
            ],
            [
             0.4444444444444444,
             "#bd3786"
            ],
            [
             0.5555555555555556,
             "#d8576b"
            ],
            [
             0.6666666666666666,
             "#ed7953"
            ],
            [
             0.7777777777777778,
             "#fb9f3a"
            ],
            [
             0.8888888888888888,
             "#fdca26"
            ],
            [
             1,
             "#f0f921"
            ]
           ]
          },
          "colorway": [
           "#636efa",
           "#EF553B",
           "#00cc96",
           "#ab63fa",
           "#FFA15A",
           "#19d3f3",
           "#FF6692",
           "#B6E880",
           "#FF97FF",
           "#FECB52"
          ],
          "font": {
           "color": "#2a3f5f"
          },
          "geo": {
           "bgcolor": "white",
           "lakecolor": "white",
           "landcolor": "#E5ECF6",
           "showlakes": true,
           "showland": true,
           "subunitcolor": "white"
          },
          "hoverlabel": {
           "align": "left"
          },
          "hovermode": "closest",
          "mapbox": {
           "style": "light"
          },
          "paper_bgcolor": "white",
          "plot_bgcolor": "#E5ECF6",
          "polar": {
           "angularaxis": {
            "gridcolor": "white",
            "linecolor": "white",
            "ticks": ""
           },
           "bgcolor": "#E5ECF6",
           "radialaxis": {
            "gridcolor": "white",
            "linecolor": "white",
            "ticks": ""
           }
          },
          "scene": {
           "xaxis": {
            "backgroundcolor": "#E5ECF6",
            "gridcolor": "white",
            "gridwidth": 2,
            "linecolor": "white",
            "showbackground": true,
            "ticks": "",
            "zerolinecolor": "white"
           },
           "yaxis": {
            "backgroundcolor": "#E5ECF6",
            "gridcolor": "white",
            "gridwidth": 2,
            "linecolor": "white",
            "showbackground": true,
            "ticks": "",
            "zerolinecolor": "white"
           },
           "zaxis": {
            "backgroundcolor": "#E5ECF6",
            "gridcolor": "white",
            "gridwidth": 2,
            "linecolor": "white",
            "showbackground": true,
            "ticks": "",
            "zerolinecolor": "white"
           }
          },
          "shapedefaults": {
           "line": {
            "color": "#2a3f5f"
           }
          },
          "ternary": {
           "aaxis": {
            "gridcolor": "white",
            "linecolor": "white",
            "ticks": ""
           },
           "baxis": {
            "gridcolor": "white",
            "linecolor": "white",
            "ticks": ""
           },
           "bgcolor": "#E5ECF6",
           "caxis": {
            "gridcolor": "white",
            "linecolor": "white",
            "ticks": ""
           }
          },
          "title": {
           "x": 0.05
          },
          "xaxis": {
           "automargin": true,
           "gridcolor": "white",
           "linecolor": "white",
           "ticks": "",
           "title": {
            "standoff": 15
           },
           "zerolinecolor": "white",
           "zerolinewidth": 2
          },
          "yaxis": {
           "automargin": true,
           "gridcolor": "white",
           "linecolor": "white",
           "ticks": "",
           "title": {
            "standoff": 15
           },
           "zerolinecolor": "white",
           "zerolinewidth": 2
          }
         }
        }
       }
      },
      "text/html": [
       "<div>                            <div id=\"45e26328-bca7-4738-b69b-3499468eeeb8\" class=\"plotly-graph-div\" style=\"height:525px; width:100%;\"></div>            <script type=\"text/javascript\">                require([\"plotly\"], function(Plotly) {                    window.PLOTLYENV=window.PLOTLYENV || {};                                    if (document.getElementById(\"45e26328-bca7-4738-b69b-3499468eeeb8\")) {                    Plotly.newPlot(                        \"45e26328-bca7-4738-b69b-3499468eeeb8\",                        [{\"i\":[0,1,1,3,4,3,10,4,5,9,5,8,8,9,12,15,12,15,16,19,16,19,20,22,20,22,24,26,24,26,30,31,30,31,34,35,34,35,38,39,38,39,42,43,42,43,46,47,46,47,50,50,51,51,52,50,53,51,54,55,56,55,56,57,56,57,60,62,60,62,64,66,68,66,68,69,68,69,72,74,2,3,5,8,0,7,12,9,6,10,11,16,15,19,13,14,20,22,18,17,24,26,23,21,24,26,28,29,30,31,32,33,34,35,36,37,38,39,40,41,42,43,44,45,46,47,48,49,56,57,52,53,60,62,58,59,64,66,63,61,68,69,67,65,72,74,70,71,76,77,75,73,2,3,2,6,7,9,7,5,8,13,11,14,12,15,17,18,16,19,21,23,20,22,25,27,24,26,29,28,30,31,33,32,34,35,37,36,38,39,41,40,42,43,45,44,46,47,49,48,50,51,48,53,49,52,54,54,55,55,56,58,59,57,61,63,60,62,65,67,64,66,68,70,71,69,73,75,72,74,76,77,0,1,4,5,6,10,8,3,13,11,14,12,9,15,18,17,16,19,23,21,20,22,27,25,27,25,30,31,28,29,34,35,32,33,38,39,36,37,42,43,40,41,46,47,44,45,50,51,54,55,58,59,56,57,63,61,60,62,67,65,64,66,70,71,68,69,75,73,72,74,77,76,78,79,79,82,78,83,82,78,83,79,85,80,81,80,80,81,81,84,85,85,84,83,84,86,85,83,82,86,89,90,89,87,87,90,90,91,93,90,94,92,88,96,93,91,94,91,97,92,97,97,98,87,88,88,94,95,99,100,101,102,100,103,101,99,104,103,99,106,104,100,105,103,109,104,110,103,108,108,113,112,110,107,111,108,112,113,109,120,110,120,107,122,112,119,118,119,107,107,115,108,123,128,118,120,119,126,127,121,121,128,124,130,118,131,129,140,139,126,121,121,142,123,142,124,143,138,139,140,132,141,127,137,149,121,121,137,127,129,151,132,143,144,149,141,151,101,102,102,105,106,105,106,103,103,106,105,104,106,105,105,111,111,106,109,106,113,114,115,116,117,118,119,113,114,114,115,122,115,111,116,116,108,117,124,109,113,125,126,121,122,121,123,121,117,117,124,112,130,131,112,125,132,131,126,133,123,135,136,129,134,137,138,139,125,125,132,119,131,127,127,133,141,134,134,135,142,135,128,136,136,134,119,137,130,144,138,145,146,141,147,119,148,133,133,147,129,150,130,144,138,145,151,145,140,146,146,147,152,139,148,148,150,152,147,143,150,149,152,153,154,154,157,153,158,157,153,158,154,155,156,155,155,156,156,159,160,160,159,158,159,157,160],\"j\":[1,0,4,0,1,6,4,10,11,6,10,11,14,13,14,13,17,18,17,18,21,23,21,23,25,27,25,27,29,28,29,28,33,32,33,32,37,36,37,36,41,40,41,40,45,44,45,44,49,48,52,49,53,48,50,53,51,52,53,52,53,58,59,58,61,63,61,63,65,67,65,67,65,70,71,70,73,75,73,75,5,7,2,0,8,3,6,10,12,9,15,13,11,14,16,19,18,17,20,22,23,21,24,26,28,29,24,26,32,33,30,31,36,37,34,35,40,41,38,39,44,45,42,43,48,49,46,47,52,53,56,57,58,59,60,62,63,61,64,66,67,65,68,69,70,71,72,74,75,73,76,77,1,0,4,0,1,6,4,10,11,6,10,11,14,13,14,13,17,18,17,18,21,23,21,23,25,27,25,27,29,28,29,28,33,32,33,32,37,36,37,36,41,40,41,40,45,44,45,44,49,48,52,49,53,48,50,53,51,52,53,52,53,58,59,58,61,63,61,63,65,67,65,67,65,70,71,70,73,75,73,75,5,7,2,0,8,3,6,10,12,9,15,13,11,14,16,19,18,17,20,22,23,21,24,26,28,29,24,26,32,33,30,31,36,37,34,35,40,41,38,39,44,45,42,43,48,49,46,47,52,53,56,57,58,59,60,62,63,61,64,66,67,65,68,69,70,71,72,74,75,73,76,77,79,78,82,78,83,79,79,82,78,83,82,79,78,82,78,83,79,79,82,78,83,82,82,82,86,86,83,83,88,87,91,91,91,91,92,89,89,91,91,90,92,91,91,92,92,96,96,91,91,96,96,88,87,92,90,92,100,99,100,99,103,99,99,104,100,100,103,103,99,104,107,108,104,110,107,107,103,112,104,109,104,110,107,111,108,109,112,110,120,107,121,108,117,118,120,112,120,127,121,122,128,124,119,118,125,120,107,127,134,123,128,119,130,118,140,132,126,139,133,129,123,142,124,142,137,130,118,129,140,143,139,149,141,141,147,143,144,151,132,151,141,127,137,149,129,103,104,100,100,99,104,105,105,107,108,106,106,104,110,107,107,103,112,104,109,104,110,107,111,108,109,112,110,120,107,121,111,111,122,122,108,123,123,117,118,120,112,120,127,121,122,108,108,128,124,129,129,119,118,129,129,125,120,107,127,134,123,128,124,124,119,130,118,140,132,141,141,126,139,137,137,133,129,123,142,128,128,142,142,124,142,137,127,127,130,118,129,140,132,132,143,139,149,141,141,147,143,144,139,139,151,140,140,151,151,132,151,141,144,144,127,137,149,129,149,149,143,143,154,153,157,153,158,154,154,157,153,158,154,153,157,153,158,154,154,157,153,158,157,157,158,158],\"k\":[2,3,2,6,7,9,7,5,8,13,11,14,12,15,17,18,16,19,21,23,20,22,25,27,24,26,29,28,30,31,33,32,34,35,37,36,38,39,41,40,42,43,45,44,46,47,49,48,50,51,48,53,49,52,54,54,55,55,56,58,59,57,61,63,60,62,65,67,64,66,68,70,71,69,73,75,72,74,76,77,0,1,4,5,6,10,8,3,13,11,14,12,9,15,18,17,16,19,23,21,20,22,27,25,27,25,30,31,28,29,34,35,32,33,38,39,36,37,42,43,40,41,46,47,44,45,50,51,54,55,58,59,56,57,63,61,60,62,67,65,64,66,70,71,68,69,75,73,72,74,77,76,0,1,1,3,4,3,10,4,5,9,5,8,8,9,12,15,12,15,16,19,16,19,20,22,20,22,24,26,24,26,30,31,30,31,34,35,34,35,38,39,38,39,42,43,42,43,46,47,46,47,50,50,51,51,52,50,53,51,54,55,56,55,56,57,56,57,60,62,60,62,64,66,68,66,68,69,68,69,72,74,2,3,5,8,0,7,12,9,6,10,11,16,15,19,13,14,20,22,18,17,24,26,23,21,24,26,28,29,30,31,32,33,34,35,36,37,38,39,40,41,42,43,44,45,46,47,48,49,56,57,52,53,60,62,58,59,64,66,63,61,68,69,67,65,72,74,70,71,76,77,75,73,80,81,80,80,81,81,84,85,85,84,86,78,79,79,82,78,83,82,78,83,79,84,83,85,83,85,86,82,87,88,87,89,90,87,88,93,91,94,90,94,95,93,96,94,91,97,91,97,92,98,97,89,90,90,92,88,101,102,99,100,101,101,103,102,102,105,106,99,106,105,103,106,106,105,105,111,111,106,109,106,113,114,115,116,117,118,119,113,114,114,115,116,124,109,113,125,126,121,122,121,117,117,130,131,132,131,126,133,123,135,136,137,138,139,125,125,131,127,141,134,134,135,136,134,119,144,138,145,146,119,148,133,133,147,129,150,130,145,146,147,152,148,150,152,147,100,99,104,103,104,100,103,106,105,103,104,105,109,104,110,103,108,108,113,112,110,107,111,108,112,113,109,120,110,120,107,115,122,116,111,122,117,108,112,119,118,119,107,107,115,108,121,123,123,128,112,124,118,120,125,112,119,126,127,121,121,128,124,134,129,130,118,131,129,140,119,132,139,126,133,127,121,121,142,123,135,142,136,128,142,124,143,130,137,138,139,140,132,147,141,141,127,137,149,121,121,137,127,138,144,129,145,151,146,140,151,132,143,148,139,144,149,141,151,150,143,152,149,155,156,155,155,156,156,159,160,160,159,153,154,154,157,153,158,157,153,158,154,159,158,160,157],\"lighting\":{\"ambient\":0.8,\"diffuse\":1.0,\"facenormalsepsilon\":1e-06,\"fresnel\":0.0,\"roughness\":0.5,\"specular\":0.0,\"vertexnormalsepsilon\":1e-12},\"name\":\"mesh_trace_title\",\"x\":[-0.13260599970817566,-0.13260599970817566,-0.13260599970817566,-0.13260599970817566,-0.2026059925556183,-0.2026059925556183,-0.13260599970817566,-0.2026059925556183,-0.2026059925556183,-0.13260599970817566,-0.2026059925556183,-0.2026059925556183,-0.2026059925556183,-0.13260599970817566,-0.2026059925556183,-0.13260599970817566,-0.2026059925556183,-0.2026059925556183,-0.13260599970817566,-0.13260599970817566,-0.2026059925556183,-0.2026059925556183,-0.13260599970817566,-0.13260599970817566,-0.2026059925556183,-0.2026059925556183,-0.13260599970817566,-0.13260599970817566,-0.13260599970817566,-0.2026059925556183,-0.2026059925556183,-0.13260599970817566,-0.13260599970817566,-0.2026059925556183,-0.2026059925556183,-0.13260599970817566,-0.13260599970817566,-0.2026059925556183,-0.2026059925556183,-0.13260599970817566,-0.13260599970817566,-0.2026059925556183,-0.2026059925556183,-0.13260599970817566,-0.13260599970817566,-0.2026059925556183,-0.2026059925556183,-0.13260599970817566,-0.13260599970817566,-0.2026059925556183,-0.2026059925556183,-0.13260599970817566,-0.13260599970817566,-0.2026059925556183,-0.2026059925556183,-0.13260599970817566,-0.2026059925556183,-0.13260599970817566,-0.13260599970817566,-0.2026059925556183,-0.2026059925556183,-0.2026059925556183,-0.13260599970817566,-0.13260599970817566,-0.2026059925556183,-0.2026059925556183,-0.13260599970817566,-0.13260599970817566,-0.2026059925556183,-0.13260599970817566,-0.13260599970817566,-0.2026059925556183,-0.2026059925556183,-0.2026059925556183,-0.13260599970817566,-0.13260599970817566,-0.2026059925556183,-0.13260599970817566,0.09489230066537857,0.20131100714206696,0.09489230066537857,0.20131100714206696,0.09489230066537857,0.20131100714206696,0.20131100714206696,0.09489230066537857,0.09489230066537857,-0.09489230066537857,-0.09347359836101532,-0.09489230066537857,-0.09347359836101532,-0.20509499311447144,-0.09347359836101532,-0.20509499311447144,-0.09347359836101532,-0.09347359836101532,-0.20509499311447144,-0.20509499311447144,-0.20509499311447144,-0.20509499311447144,-0.09489230066537857,-0.20509499311447144,-0.09489230066537857,-0.20509499311447144,-0.09489230066537857,-0.09489230066537857,-0.20509499311447144,-0.11353400349617004,-0.20509499311447144,-0.20509499311447144,0.20131100714206696,-0.20509499311447144,-0.20509499311447144,0.20131100714206696,0.20131100714206696,-0.11353400349617004,-0.20509499311447144,-0.20509499311447144,-0.20509499311447144,-0.20509499311447144,0.20131100714206696,-0.11353400349617004,-0.11353400349617004,-0.11353400349617004,-0.20509499311447144,-0.20509499311447144,-0.11353400349617004,-0.11353400349617004,-0.20509499311447144,-0.11353400349617004,-0.20509499311447144,-0.11353400349617004,-0.20509499311447144,-0.11353400349617004,-0.11353400349617004,-0.11353400349617004,-0.20509499311447144,-0.20509499311447144,-0.20509499311447144,-0.11353400349617004,-0.20509499311447144,-0.11353400349617004,-0.11353400349617004,-0.20509499311447144,-0.20509499311447144,-0.11353400349617004,-0.20509499311447144,-0.11353400349617004,-0.11353400349617004,-0.11353400349617004,-0.20509499311447144,-0.11353400349617004,-0.11353400349617004,0.09489230066537857,0.20509499311447144,0.09489230066537857,0.20509499311447144,0.09489230066537857,0.20509499311447144,0.20509499311447144,0.09489230066537857],\"y\":[0.1871509999036789,0.18672500550746918,0.18672500550746918,0.1871509999036789,0.18672500550746918,0.1871509999036789,0.1884250044822693,0.18672500550746918,0.1884250044822693,0.1884250044822693,0.1871509999036789,0.1884250044822693,0.19052299857139587,0.19052299857139587,0.19052299857139587,0.19052299857139587,0.1934099942445755,0.1934099942445755,0.1934099942445755,0.1934099942445755,0.1970359981060028,0.1970359981060028,0.1970359981060028,0.1970359981060028,0.2013390064239502,0.2013390064239502,0.2013390064239502,0.2013390064239502,0.2062470018863678,0.2062470018863678,0.2062470018863678,0.2062470018863678,0.21167400479316711,0.21167400479316711,0.21167400479316711,0.21167400479316711,0.21752700209617615,0.21752700209617615,0.21752700209617615,0.21752700209617615,0.22370800375938416,0.22370800375938416,0.22370800375938416,0.22370800375938416,0.23011000454425812,0.23011000454425812,0.23011000454425812,0.23011000454425812,0.23662300407886505,0.23662300407886505,0.23662300407886505,0.23662300407886505,0.28652098774909973,0.28652098774909973,0.28652098774909973,0.28652098774909973,0.3159080147743225,0.3159080147743225,0.3159080147743225,0.3159080147743225,0.34066998958587646,0.34066998958587646,0.34066998958587646,0.34066998958587646,0.36038199067115784,0.36038199067115784,0.36038199067115784,0.36038199067115784,0.37470799684524536,0.37470799684524536,0.37470799684524536,0.37470799684524536,0.3834030032157898,0.3834030032157898,0.3834030032157898,0.3834030032157898,0.38631799817085266,0.38631799817085266,-0.38631799817085266,-0.38631799817085266,-0.38631799817085266,-0.38631799817085266,-0.12618400156497955,-0.12618400156497955,-0.12618400156497955,-0.12618400156497955,-0.12618400156497955,-0.38631799817085266,-0.38631799817085266,-0.38631799817085266,-0.38631799817085266,-0.38631799817085266,-0.11766999959945679,-0.38631799817085266,-0.38631799817085266,-0.11766999959945679,-0.12523800134658813,-0.11766999959945679,-0.11766999959945679,-0.38631799817085266,-0.38631799817085266,-0.38631799817085266,-0.38631799817085266,-0.12523800134658813,-0.12523800134658813,-0.12523800134658813,-0.12523800134658813,-0.07699490338563919,-0.018819499760866165,-0.12523800134658813,-0.12523800134658813,0.20631399750709534,-0.018819499760866165,-0.12523800134658813,-0.07699490338563919,0.20631399750709534,0.20631399750709534,-0.018819499760866165,-0.12523800134658813,-0.018819499760866165,-0.07699490338563919,-0.018819499760866165,0.20631399750709534,-0.018819499760866165,-0.018819499760866165,-0.018819499760866165,-0.07699490338563919,-0.018819499760866165,0.1855040043592453,-0.018819499760866165,-0.018819499760866165,-0.07699490338563919,-0.018819499760866165,-0.018819499760866165,-0.018819499760866165,0.1855040043592453,0.1855040043592453,-0.018819499760866165,0.2058420032262802,0.2058420032262802,0.189287006855011,-0.018819499760866165,0.1855040043592453,0.18739600479602814,0.2058420032262802,0.189287006855011,0.189287006855011,-0.018819499760866165,0.2058420032262802,0.18739600479602814,0.18739600479602814,0.189287006855011,0.18739600479602814,-0.38631799817085266,-0.38631799817085266,-0.38631799817085266,-0.38631799817085266,-0.1285489946603775,-0.1285489946603775,-0.1285489946603775,-0.1285489946603775],\"z\":[-0.1988849937915802,0.18978799879550934,-0.19237099587917328,0.19630199670791626,-0.19237099587917328,-0.1988849937915802,-0.20528599619865417,0.18978799879550934,-0.20528599619865417,0.20270299911499023,0.19630199670791626,0.20270299911499023,-0.21146699786186218,-0.21146699786186218,0.20888400077819824,0.20888400077819824,-0.21731999516487122,0.21473799645900726,-0.21731999516487122,0.21473799645900726,-0.22274799644947052,0.22016599774360657,0.22016599774360657,-0.22274799644947052,-0.22765499353408813,0.22507299482822418,0.22507299482822418,-0.22765499353408813,-0.23195800185203552,0.22937600314617157,-0.23195800185203552,0.22937600314617157,-0.23558400571346283,0.23300300538539886,-0.23558400571346283,0.23300300538539886,-0.23847199976444244,0.2358890026807785,-0.23847199976444244,0.2358890026807785,-0.24056899547576904,0.2379869967699051,-0.24056899547576904,0.2379869967699051,-0.24184300005435944,0.2392600029706955,-0.24184300005435944,0.2392600029706955,-0.24226999282836914,0.2396869957447052,-0.24226999282836914,0.2396869957447052,-0.24226999282836914,0.2396869957447052,-0.24226999282836914,0.2396869957447052,-0.20875200629234314,0.206168994307518,-0.20875200629234314,0.206168994307518,-0.17168499529361725,0.1691029965877533,0.1691029965877533,-0.17168499529361725,-0.13170400261878967,0.12912200391292572,0.12912200391292572,-0.13170400261878967,-0.08949259668588638,0.08690980076789856,-0.08949259668588638,0.08690980076789856,-0.045772600919008255,0.04318980127573013,0.04318980127573013,-0.045772600919008255,-0.0012911299709230661,-0.0012911299709230661,-0.213918998837471,-0.07155550271272659,-0.07155550271272659,-0.213918998837471,-0.07155550271272659,-0.213918998837471,-0.07155550271272659,-0.213918998837471,-0.09446480125188828,-0.14013899862766266,-0.06280899792909622,-0.06280899792909622,-0.14013899862766266,-0.21747000515460968,-0.21747000515460968,-0.06280899792909622,-0.21747000515460968,-0.06280899792909622,-0.06280899792909622,-0.21747000515460968,-0.06280899792909622,0.1032169982790947,0.24226999282836914,0.24226999282836914,0.1032169982790947,0.24226999282836914,0.1032169982790947,0.24226999282836914,0.1032169982790947,0.24226999282836914,0.20750699937343597,-0.06280899792909622,0.24226999282836914,0.24226999282836914,0.1032169982790947,-0.213918998837471,0.24226999282836914,0.24226999282836914,0.20750699937343597,0.1727440059185028,-0.213918998837471,-0.06280899792909622,-0.213918998837471,0.20750699937343597,0.20750699937343597,0.1727440059185028,0.1161549985408783,0.05938209965825081,-0.16665799915790558,-0.16665799915790558,0.1727440059185028,0.05938209965825081,-0.16665799915790558,-0.213918998837471,0.002794790081679821,-0.11939699947834015,0.1161549985408783,0.1727440059185028,0.1161549985408783,-0.11939699947834015,-0.213918998837471,-0.213918998837471,0.05938209965825081,-0.06280899792909622,0.1161549985408783,-0.06280899792909622,-0.16665799915790558,0.05938209965825081,0.002794790081679821,0.002794790081679821,-0.16665799915790558,-0.11939699947834015,-0.11939699947834015,0.002794790081679821,-0.06280899792909622,0.10227099806070328,0.24226999282836914,0.24226999282836914,0.10227099806070328,0.24226999282836914,0.10227099806070328,0.24226999282836914,0.10227099806070328],\"type\":\"mesh3d\",\"scene\":\"scene\"}],                        {\"template\":{\"data\":{\"histogram2dcontour\":[{\"type\":\"histogram2dcontour\",\"colorbar\":{\"outlinewidth\":0,\"ticks\":\"\"},\"colorscale\":[[0.0,\"#0d0887\"],[0.1111111111111111,\"#46039f\"],[0.2222222222222222,\"#7201a8\"],[0.3333333333333333,\"#9c179e\"],[0.4444444444444444,\"#bd3786\"],[0.5555555555555556,\"#d8576b\"],[0.6666666666666666,\"#ed7953\"],[0.7777777777777778,\"#fb9f3a\"],[0.8888888888888888,\"#fdca26\"],[1.0,\"#f0f921\"]]}],\"choropleth\":[{\"type\":\"choropleth\",\"colorbar\":{\"outlinewidth\":0,\"ticks\":\"\"}}],\"histogram2d\":[{\"type\":\"histogram2d\",\"colorbar\":{\"outlinewidth\":0,\"ticks\":\"\"},\"colorscale\":[[0.0,\"#0d0887\"],[0.1111111111111111,\"#46039f\"],[0.2222222222222222,\"#7201a8\"],[0.3333333333333333,\"#9c179e\"],[0.4444444444444444,\"#bd3786\"],[0.5555555555555556,\"#d8576b\"],[0.6666666666666666,\"#ed7953\"],[0.7777777777777778,\"#fb9f3a\"],[0.8888888888888888,\"#fdca26\"],[1.0,\"#f0f921\"]]}],\"heatmap\":[{\"type\":\"heatmap\",\"colorbar\":{\"outlinewidth\":0,\"ticks\":\"\"},\"colorscale\":[[0.0,\"#0d0887\"],[0.1111111111111111,\"#46039f\"],[0.2222222222222222,\"#7201a8\"],[0.3333333333333333,\"#9c179e\"],[0.4444444444444444,\"#bd3786\"],[0.5555555555555556,\"#d8576b\"],[0.6666666666666666,\"#ed7953\"],[0.7777777777777778,\"#fb9f3a\"],[0.8888888888888888,\"#fdca26\"],[1.0,\"#f0f921\"]]}],\"heatmapgl\":[{\"type\":\"heatmapgl\",\"colorbar\":{\"outlinewidth\":0,\"ticks\":\"\"},\"colorscale\":[[0.0,\"#0d0887\"],[0.1111111111111111,\"#46039f\"],[0.2222222222222222,\"#7201a8\"],[0.3333333333333333,\"#9c179e\"],[0.4444444444444444,\"#bd3786\"],[0.5555555555555556,\"#d8576b\"],[0.6666666666666666,\"#ed7953\"],[0.7777777777777778,\"#fb9f3a\"],[0.8888888888888888,\"#fdca26\"],[1.0,\"#f0f921\"]]}],\"contourcarpet\":[{\"type\":\"contourcarpet\",\"colorbar\":{\"outlinewidth\":0,\"ticks\":\"\"}}],\"contour\":[{\"type\":\"contour\",\"colorbar\":{\"outlinewidth\":0,\"ticks\":\"\"},\"colorscale\":[[0.0,\"#0d0887\"],[0.1111111111111111,\"#46039f\"],[0.2222222222222222,\"#7201a8\"],[0.3333333333333333,\"#9c179e\"],[0.4444444444444444,\"#bd3786\"],[0.5555555555555556,\"#d8576b\"],[0.6666666666666666,\"#ed7953\"],[0.7777777777777778,\"#fb9f3a\"],[0.8888888888888888,\"#fdca26\"],[1.0,\"#f0f921\"]]}],\"surface\":[{\"type\":\"surface\",\"colorbar\":{\"outlinewidth\":0,\"ticks\":\"\"},\"colorscale\":[[0.0,\"#0d0887\"],[0.1111111111111111,\"#46039f\"],[0.2222222222222222,\"#7201a8\"],[0.3333333333333333,\"#9c179e\"],[0.4444444444444444,\"#bd3786\"],[0.5555555555555556,\"#d8576b\"],[0.6666666666666666,\"#ed7953\"],[0.7777777777777778,\"#fb9f3a\"],[0.8888888888888888,\"#fdca26\"],[1.0,\"#f0f921\"]]}],\"mesh3d\":[{\"type\":\"mesh3d\",\"colorbar\":{\"outlinewidth\":0,\"ticks\":\"\"}}],\"scatter\":[{\"fillpattern\":{\"fillmode\":\"overlay\",\"size\":10,\"solidity\":0.2},\"type\":\"scatter\"}],\"parcoords\":[{\"type\":\"parcoords\",\"line\":{\"colorbar\":{\"outlinewidth\":0,\"ticks\":\"\"}}}],\"scatterpolargl\":[{\"type\":\"scatterpolargl\",\"marker\":{\"colorbar\":{\"outlinewidth\":0,\"ticks\":\"\"}}}],\"bar\":[{\"error_x\":{\"color\":\"#2a3f5f\"},\"error_y\":{\"color\":\"#2a3f5f\"},\"marker\":{\"line\":{\"color\":\"#E5ECF6\",\"width\":0.5},\"pattern\":{\"fillmode\":\"overlay\",\"size\":10,\"solidity\":0.2}},\"type\":\"bar\"}],\"scattergeo\":[{\"type\":\"scattergeo\",\"marker\":{\"colorbar\":{\"outlinewidth\":0,\"ticks\":\"\"}}}],\"scatterpolar\":[{\"type\":\"scatterpolar\",\"marker\":{\"colorbar\":{\"outlinewidth\":0,\"ticks\":\"\"}}}],\"histogram\":[{\"marker\":{\"pattern\":{\"fillmode\":\"overlay\",\"size\":10,\"solidity\":0.2}},\"type\":\"histogram\"}],\"scattergl\":[{\"type\":\"scattergl\",\"marker\":{\"colorbar\":{\"outlinewidth\":0,\"ticks\":\"\"}}}],\"scatter3d\":[{\"type\":\"scatter3d\",\"line\":{\"colorbar\":{\"outlinewidth\":0,\"ticks\":\"\"}},\"marker\":{\"colorbar\":{\"outlinewidth\":0,\"ticks\":\"\"}}}],\"scattermapbox\":[{\"type\":\"scattermapbox\",\"marker\":{\"colorbar\":{\"outlinewidth\":0,\"ticks\":\"\"}}}],\"scatterternary\":[{\"type\":\"scatterternary\",\"marker\":{\"colorbar\":{\"outlinewidth\":0,\"ticks\":\"\"}}}],\"scattercarpet\":[{\"type\":\"scattercarpet\",\"marker\":{\"colorbar\":{\"outlinewidth\":0,\"ticks\":\"\"}}}],\"carpet\":[{\"aaxis\":{\"endlinecolor\":\"#2a3f5f\",\"gridcolor\":\"white\",\"linecolor\":\"white\",\"minorgridcolor\":\"white\",\"startlinecolor\":\"#2a3f5f\"},\"baxis\":{\"endlinecolor\":\"#2a3f5f\",\"gridcolor\":\"white\",\"linecolor\":\"white\",\"minorgridcolor\":\"white\",\"startlinecolor\":\"#2a3f5f\"},\"type\":\"carpet\"}],\"table\":[{\"cells\":{\"fill\":{\"color\":\"#EBF0F8\"},\"line\":{\"color\":\"white\"}},\"header\":{\"fill\":{\"color\":\"#C8D4E3\"},\"line\":{\"color\":\"white\"}},\"type\":\"table\"}],\"barpolar\":[{\"marker\":{\"line\":{\"color\":\"#E5ECF6\",\"width\":0.5},\"pattern\":{\"fillmode\":\"overlay\",\"size\":10,\"solidity\":0.2}},\"type\":\"barpolar\"}],\"pie\":[{\"automargin\":true,\"type\":\"pie\"}]},\"layout\":{\"autotypenumbers\":\"strict\",\"colorway\":[\"#636efa\",\"#EF553B\",\"#00cc96\",\"#ab63fa\",\"#FFA15A\",\"#19d3f3\",\"#FF6692\",\"#B6E880\",\"#FF97FF\",\"#FECB52\"],\"font\":{\"color\":\"#2a3f5f\"},\"hovermode\":\"closest\",\"hoverlabel\":{\"align\":\"left\"},\"paper_bgcolor\":\"white\",\"plot_bgcolor\":\"#E5ECF6\",\"polar\":{\"bgcolor\":\"#E5ECF6\",\"angularaxis\":{\"gridcolor\":\"white\",\"linecolor\":\"white\",\"ticks\":\"\"},\"radialaxis\":{\"gridcolor\":\"white\",\"linecolor\":\"white\",\"ticks\":\"\"}},\"ternary\":{\"bgcolor\":\"#E5ECF6\",\"aaxis\":{\"gridcolor\":\"white\",\"linecolor\":\"white\",\"ticks\":\"\"},\"baxis\":{\"gridcolor\":\"white\",\"linecolor\":\"white\",\"ticks\":\"\"},\"caxis\":{\"gridcolor\":\"white\",\"linecolor\":\"white\",\"ticks\":\"\"}},\"coloraxis\":{\"colorbar\":{\"outlinewidth\":0,\"ticks\":\"\"}},\"colorscale\":{\"sequential\":[[0.0,\"#0d0887\"],[0.1111111111111111,\"#46039f\"],[0.2222222222222222,\"#7201a8\"],[0.3333333333333333,\"#9c179e\"],[0.4444444444444444,\"#bd3786\"],[0.5555555555555556,\"#d8576b\"],[0.6666666666666666,\"#ed7953\"],[0.7777777777777778,\"#fb9f3a\"],[0.8888888888888888,\"#fdca26\"],[1.0,\"#f0f921\"]],\"sequentialminus\":[[0.0,\"#0d0887\"],[0.1111111111111111,\"#46039f\"],[0.2222222222222222,\"#7201a8\"],[0.3333333333333333,\"#9c179e\"],[0.4444444444444444,\"#bd3786\"],[0.5555555555555556,\"#d8576b\"],[0.6666666666666666,\"#ed7953\"],[0.7777777777777778,\"#fb9f3a\"],[0.8888888888888888,\"#fdca26\"],[1.0,\"#f0f921\"]],\"diverging\":[[0,\"#8e0152\"],[0.1,\"#c51b7d\"],[0.2,\"#de77ae\"],[0.3,\"#f1b6da\"],[0.4,\"#fde0ef\"],[0.5,\"#f7f7f7\"],[0.6,\"#e6f5d0\"],[0.7,\"#b8e186\"],[0.8,\"#7fbc41\"],[0.9,\"#4d9221\"],[1,\"#276419\"]]},\"xaxis\":{\"gridcolor\":\"white\",\"linecolor\":\"white\",\"ticks\":\"\",\"title\":{\"standoff\":15},\"zerolinecolor\":\"white\",\"automargin\":true,\"zerolinewidth\":2},\"yaxis\":{\"gridcolor\":\"white\",\"linecolor\":\"white\",\"ticks\":\"\",\"title\":{\"standoff\":15},\"zerolinecolor\":\"white\",\"automargin\":true,\"zerolinewidth\":2},\"scene\":{\"xaxis\":{\"backgroundcolor\":\"#E5ECF6\",\"gridcolor\":\"white\",\"linecolor\":\"white\",\"showbackground\":true,\"ticks\":\"\",\"zerolinecolor\":\"white\",\"gridwidth\":2},\"yaxis\":{\"backgroundcolor\":\"#E5ECF6\",\"gridcolor\":\"white\",\"linecolor\":\"white\",\"showbackground\":true,\"ticks\":\"\",\"zerolinecolor\":\"white\",\"gridwidth\":2},\"zaxis\":{\"backgroundcolor\":\"#E5ECF6\",\"gridcolor\":\"white\",\"linecolor\":\"white\",\"showbackground\":true,\"ticks\":\"\",\"zerolinecolor\":\"white\",\"gridwidth\":2}},\"shapedefaults\":{\"line\":{\"color\":\"#2a3f5f\"}},\"annotationdefaults\":{\"arrowcolor\":\"#2a3f5f\",\"arrowhead\":0,\"arrowwidth\":1},\"geo\":{\"bgcolor\":\"white\",\"landcolor\":\"#E5ECF6\",\"subunitcolor\":\"white\",\"showland\":true,\"showlakes\":true,\"lakecolor\":\"white\"},\"title\":{\"x\":0.05},\"mapbox\":{\"style\":\"light\"}}},\"scene\":{\"domain\":{\"x\":[0.0,1.0],\"y\":[0.0,1.0]},\"xaxis\":{\"range\":[-0.8928978443145752,0.6523741483688354],\"showgrid\":false,\"zeroline\":false,\"showline\":false,\"ticks\":\"\",\"showticklabels\":false,\"backgroundcolor\":\"#fff\",\"showaxeslabels\":false},\"yaxis\":{\"range\":[-0.6930677890777588,0.8522042036056519],\"showgrid\":false,\"zeroline\":false,\"showline\":false,\"ticks\":\"\",\"showticklabels\":false,\"backgroundcolor\":\"#fff\",\"showaxeslabels\":false},\"zaxis\":{\"range\":[-0.7693037986755371,0.7759681940078735],\"showgrid\":false,\"zeroline\":false,\"showline\":false,\"ticks\":\"\",\"showticklabels\":false,\"backgroundcolor\":\"#fff\",\"showaxeslabels\":false},\"camera\":{\"up\":{\"x\":0.0,\"y\":1.0,\"z\":0.0}},\"aspectmode\":\"cube\"},\"annotations\":[{\"font\":{\"size\":16},\"showarrow\":false,\"text\":\"subplot_title\",\"x\":0.5,\"xanchor\":\"center\",\"xref\":\"paper\",\"y\":1.0,\"yanchor\":\"bottom\",\"yref\":\"paper\"}]},                        {\"responsive\": true}                    ).then(function(){\n",
       "                            \n",
       "var gd = document.getElementById('45e26328-bca7-4738-b69b-3499468eeeb8');\n",
       "var x = new MutationObserver(function (mutations, observer) {{\n",
       "        var display = window.getComputedStyle(gd).display;\n",
       "        if (!display || display === 'none') {{\n",
       "            console.log([gd, 'removed!']);\n",
       "            Plotly.purge(gd);\n",
       "            observer.disconnect();\n",
       "        }}\n",
       "}});\n",
       "\n",
       "// Listen for the removal of the full notebook cells\n",
       "var notebookContainer = gd.closest('#notebook-container');\n",
       "if (notebookContainer) {{\n",
       "    x.observe(notebookContainer, {childList: true});\n",
       "}}\n",
       "\n",
       "// Listen for the clearing of the current output cell\n",
       "var outputEl = gd.closest('.output');\n",
       "if (outputEl) {{\n",
       "    x.observe(outputEl, {childList: true});\n",
       "}}\n",
       "\n",
       "                        })                };                });            </script>        </div>"
      ]
     },
     "metadata": {},
     "output_type": "display_data"
    }
   ],
   "source": [
    "# https://github.com/facebookresearch/pytorch3d/blob/main/pytorch3d/vis/plotly_vis.py\n",
    "from pytorch3d.vis import plotly_vis\n",
    "\n",
    "fig = plot_scene({\n",
    "    \"subplot_title\": {\n",
    "        \"mesh_trace_title\": mesh\n",
    "    }\n",
    "})\n",
    "fig.show()"
   ]
  },
  {
   "cell_type": "code",
   "execution_count": 7,
   "id": "268fa793-9193-4a08-9f7b-b5b303f3e2cd",
   "metadata": {},
   "outputs": [],
   "source": [
    "from pytorch3d.io import load_objs_as_meshes\n",
    "import matplotlib.pyplot as plt\n",
    "\n",
    "wo_img = \"/root/dev/DMTet_Models/MeshDiffusion/data/02691156/1a04e3eab45ca15dd86060f189eb133/model.obj\"\n",
    "w_img = \"/root/dev/DMTet_Models/MeshDiffusion/data/03001627/2cf960825840947aa903b9ef0ae7fb14/model.obj\"\n",
    "mesh_wo_img = load_objs_as_meshes([w_img])\n",
    "mesh_w_img = load_objs_as_meshes([wo_img])"
   ]
  },
  {
   "cell_type": "code",
   "execution_count": 232,
   "id": "13c38ee2-e720-43c0-8f29-bea74e2e2996",
   "metadata": {
    "tags": []
   },
   "outputs": [
    {
     "ename": "AttributeError",
     "evalue": "'NoneType' object has no attribute 'shape'",
     "output_type": "error",
     "traceback": [
      "\u001b[0;31m---------------------------------------------------------------------------\u001b[0m",
      "\u001b[0;31mAttributeError\u001b[0m                            Traceback (most recent call last)",
      "Cell \u001b[0;32mIn[232], line 1\u001b[0m\n\u001b[0;32m----> 1\u001b[0m \u001b[43mmesh_w_img\u001b[49m\u001b[38;5;241;43m.\u001b[39;49m\u001b[43mtextures\u001b[49m\u001b[38;5;241;43m.\u001b[39;49m\u001b[43mshape\u001b[49m\n",
      "\u001b[0;31mAttributeError\u001b[0m: 'NoneType' object has no attribute 'shape'"
     ]
    }
   ],
   "source": [
    "mesh_w_img.textures.shape"
   ]
  },
  {
   "cell_type": "code",
   "execution_count": 230,
   "id": "89f9ac76-7655-4cc8-a28f-5dc1ac4092cf",
   "metadata": {
    "tags": []
   },
   "outputs": [
    {
     "data": {
      "text/plain": [
       "<pytorch3d.renderer.mesh.textures.TexturesUV at 0x7fb90cada970>"
      ]
     },
     "execution_count": 230,
     "metadata": {},
     "output_type": "execute_result"
    }
   ],
   "source": [
    "mesh_wo_img.textures"
   ]
  },
  {
   "cell_type": "markdown",
   "id": "348b3c93-b5e7-44d6-bbf8-ef9ab0c6ed83",
   "metadata": {},
   "source": [
    "## with utils"
   ]
  },
  {
   "cell_type": "code",
   "execution_count": 14,
   "id": "07aa8248-10bd-4de0-816e-28361be09978",
   "metadata": {
    "tags": []
   },
   "outputs": [],
   "source": [
    "from MeshDiffusion.nvdiffrec.lib.render.obj import load_obj\n",
    "from MeshDiffusion.nvdiffrec.lib.render import texture, material, mesh\n",
    "\n",
    "\n",
    "def _find_mat(materials, name):\n",
    "    for mat in materials:\n",
    "        if mat['name'] == name:\n",
    "            return mat\n",
    "    return materials[0] # Materials 0 is the default\n",
    "\n",
    "\n",
    "def load_obj(filename, clear_ks=True, mtl_override=None, mtl_default=None, use_default=False, no_additional=False):\n",
    "    obj_path = os.path.dirname(filename)\n",
    "\n",
    "    # Read entire file\n",
    "    with open(filename, 'r') as f:\n",
    "        lines = f.readlines()\n",
    "\n",
    "    # Load materials\n",
    "    if mtl_default is None:\n",
    "        all_materials = [\n",
    "            {\n",
    "                'name' : '_default_mat',\n",
    "                'bsdf' : 'pbr',\n",
    "                'kd'   : texture.Texture2D(torch.tensor([0.5, 0.5, 0.5], dtype=torch.float32, device='cuda')),\n",
    "                'ks'   : texture.Texture2D(torch.tensor([0.0, 0.0, 0.0], dtype=torch.float32, device='cuda'))\n",
    "            }\n",
    "        ]\n",
    "    else:\n",
    "        print(\"Load use-defined default mtl\")\n",
    "        all_materials = [mtl_default]\n",
    "\n",
    "    if not no_additional:\n",
    "        if mtl_override is None: \n",
    "            for line in lines:\n",
    "                if len(line.split()) == 0:\n",
    "                    continue\n",
    "                if line.split()[0] == 'mtllib':\n",
    "                    all_materials += material.load_mtl(os.path.join(obj_path, line.split()[1]), clear_ks, avoid_pure_black=True) # Read in entire material library\n",
    "        else:\n",
    "            all_materials += material.load_mtl(mtl_override)\n",
    "    else:\n",
    "        print(\"Skip loading non-default materials\")\n",
    "    \n",
    "\n",
    "    # load vertices\n",
    "    vertices, texcoords, normals  = [], [], []\n",
    "    for line in lines:\n",
    "        if len(line.split()) == 0:\n",
    "            continue\n",
    "        \n",
    "        prefix = line.split()[0].lower()\n",
    "        if prefix == 'v':\n",
    "            vertices.append([float(v) for v in line.split()[1:]])\n",
    "        elif prefix == 'vt':\n",
    "            val = [float(v) for v in line.split()[1:]]\n",
    "            texcoords.append([val[0], 1.0 - val[1]])\n",
    "        elif prefix == 'vn':\n",
    "            normals.append([float(v) for v in line.split()[1:]])\n",
    "    \n",
    "    print(all_materials)\n",
    "\n",
    "    # load faces\n",
    "    activeMatIdx = None\n",
    "    used_materials = []\n",
    "    faces, tfaces, nfaces, mfaces = [], [], [], []\n",
    "    for line in lines:\n",
    "        if len(line.split()) == 0:\n",
    "            continue\n",
    "\n",
    "        prefix = line.split()[0].lower()\n",
    "        if prefix == 'usemtl': # Track used materials\n",
    "            mat = _find_mat(all_materials, line.split()[1])\n",
    "            if not mat in used_materials:\n",
    "                used_materials.append(mat)\n",
    "            activeMatIdx = used_materials.index(mat)\n",
    "        elif prefix == 'f': # Parse face\n",
    "            vs = line.split()[1:]\n",
    "            nv = len(vs)\n",
    "            vv = vs[0].split('/')\n",
    "            v0 = int(vv[0]) - 1\n",
    "            # t1 = int(vv[1]) - 1 if vv[1] != \"\" else -1\n",
    "            # n1 = int(vv[2]) - 1 if vv[2] != \"\" else -1\n",
    "            try:\n",
    "                t0 = int(vv[1]) - 1 if vv[1] != \"\" else -1\n",
    "                n0 = int(vv[2]) - 1 if vv[2] != \"\" else -1\n",
    "            except:\n",
    "                t0 = n0 = -1\n",
    "            for i in range(nv - 2): # Triangulate polygons\n",
    "                vv = vs[i + 1].split('/')\n",
    "                v1 = int(vv[0]) - 1\n",
    "                # t1 = int(vv[1]) - 1 if vv[1] != \"\" else -1\n",
    "                # n1 = int(vv[2]) - 1 if vv[2] != \"\" else -1\n",
    "                try:\n",
    "                    t1 = int(vv[1]) - 1 if vv[1] != \"\" else -1\n",
    "                    n1 = int(vv[2]) - 1 if vv[2] != \"\" else -1\n",
    "                except:\n",
    "                    t1 = n1 = -1\n",
    "                vv = vs[i + 2].split('/')\n",
    "                v2 = int(vv[0]) - 1\n",
    "                # t2 = int(vv[1]) - 1 if vv[1] != \"\" else -1\n",
    "                # n2 = int(vv[2]) - 1 if vv[2] != \"\" else -1\n",
    "                try:\n",
    "                    t2 = int(vv[1]) - 1 if vv[1] != \"\" else -1\n",
    "                    n2 = int(vv[2]) - 1 if vv[2] != \"\" else -1\n",
    "                except:\n",
    "                    t2 = n2 = -1\n",
    "                mfaces.append(activeMatIdx)\n",
    "                faces.append([v0, v1, v2])\n",
    "                tfaces.append([t0, t1, t2])\n",
    "                nfaces.append([n0, n1, n2])\n",
    "    assert len(tfaces) == len(faces) and len(nfaces) == len (faces)\n",
    "\n",
    "    # Create an \"uber\" material by combining all textures into a larger texture\n",
    "    # if len(used_materials) > 1:\n",
    "    if True:\n",
    "        uber_material, texcoords, tfaces = material.merge_materials(used_materials, texcoords, tfaces, mfaces)\n",
    "    elif len(used_materials) == 1:\n",
    "        uber_material = used_materials[0]\n",
    "    else:\n",
    "        uber_material = None\n",
    "\n",
    "    vertices = torch.tensor(vertices, dtype=torch.float32, device='cuda')\n",
    "    texcoords = torch.tensor(texcoords, dtype=torch.float32, device='cuda') if len(texcoords) > 0 else None\n",
    "    normals = torch.tensor(normals, dtype=torch.float32, device='cuda') if len(normals) > 0 else None\n",
    "    # normals = None\n",
    "    \n",
    "    faces = torch.tensor(faces, dtype=torch.int64, device='cuda')\n",
    "    tfaces = torch.tensor(tfaces, dtype=torch.int64, device='cuda') if texcoords is not None else None\n",
    "    nfaces = torch.tensor(nfaces, dtype=torch.int64, device='cuda') if normals is not None else None\n",
    "\n",
    "    print(uber_material)\n",
    "\n",
    "    # uber_material = all_materials[0]\n",
    "    # texcoords = normals = tfaces = nfaces = None\n",
    "    return mesh.Mesh(vertices, faces, normals, nfaces, texcoords, tfaces, material=uber_material)\n",
    "\n",
    "    # imesh = mesh.Mesh(vertices, faces, normals, nfaces, texcoords, tfaces, material=uber_material)\n",
    "    # imesh = mesh.auto_normals(imesh)\n",
    "    # return imesh"
   ]
  },
  {
   "cell_type": "code",
   "execution_count": 15,
   "id": "58f83bb0-0c29-4aeb-82b1-f60c029253da",
   "metadata": {
    "tags": []
   },
   "outputs": [
    {
     "name": "stdout",
     "output_type": "stream",
     "text": [
      "[{'name': '_default_mat', 'bsdf': 'pbr', 'kd': Texture2D(), 'ks': Texture2D()}, Material(\n",
      "  (kd): Texture2D()\n",
      "  (ks): Texture2D()\n",
      "), Material(\n",
      "  (kd): Texture2D()\n",
      "  (ks): Texture2D()\n",
      ")]\n",
      "Material(\n",
      "  (kd): Texture2D()\n",
      "  (ks): Texture2D()\n",
      ")\n"
     ]
    }
   ],
   "source": [
    "mesh_w_img = load_obj(w_img)"
   ]
  },
  {
   "cell_type": "code",
   "execution_count": 16,
   "id": "443cc9e2-a3a0-4dc9-a605-b94671edfbe3",
   "metadata": {
    "tags": []
   },
   "outputs": [
    {
     "name": "stdout",
     "output_type": "stream",
     "text": [
      "[{'name': '_default_mat', 'bsdf': 'pbr', 'kd': Texture2D(), 'ks': Texture2D()}, Material(\n",
      "  (kd): Texture2D()\n",
      "  (ks): Texture2D()\n",
      "), Material(\n",
      "  (kd): Texture2D()\n",
      "  (ks): Texture2D()\n",
      "), Material(\n",
      "  (kd): Texture2D()\n",
      "  (ks): Texture2D()\n",
      "), Material(\n",
      "  (kd): Texture2D()\n",
      "  (ks): Texture2D()\n",
      "), Material(\n",
      "  (kd): Texture2D()\n",
      "  (ks): Texture2D()\n",
      "), Material(\n",
      "  (kd): Texture2D()\n",
      "  (ks): Texture2D()\n",
      "), Material(\n",
      "  (kd): Texture2D()\n",
      "  (ks): Texture2D()\n",
      "), Material(\n",
      "  (kd): Texture2D()\n",
      "  (ks): Texture2D()\n",
      "), Material(\n",
      "  (kd): Texture2D()\n",
      "  (ks): Texture2D()\n",
      "), Material(\n",
      "  (kd): Texture2D()\n",
      "  (ks): Texture2D()\n",
      "), Material(\n",
      "  (kd): Texture2D()\n",
      "  (ks): Texture2D()\n",
      ")]\n",
      "Material(\n",
      "  (kd): Texture2D()\n",
      "  (ks): Texture2D()\n",
      ")\n"
     ]
    }
   ],
   "source": [
    "mesh_wo_img = load_obj(wo_img)"
   ]
  },
  {
   "cell_type": "code",
   "execution_count": 17,
   "id": "750c17c5-76e3-4a54-bde7-0c5cee17782a",
   "metadata": {
    "tags": []
   },
   "outputs": [
    {
     "name": "stdout",
     "output_type": "stream",
     "text": [
      "['clone', 'copy_none', 'f_nrm', 'material', 't_nrm_idx', 't_pos_idx', 't_tex_idx', 't_tng_idx', 'v_nrm', 'v_pos', 'v_tex', 'v_tng']\n"
     ]
    }
   ],
   "source": [
    "met_atts = [attr for attr in dir(mesh_wo_img)]\n",
    "met_atts = [met_att for met_att in met_atts if not met_att.startswith(\"__\") and not met_att.startswith(\"_\")]\n",
    "print(met_atts)"
   ]
  },
  {
   "cell_type": "code",
   "execution_count": 21,
   "id": "7c2fe018-ebc6-4e35-b8d8-c667bb55a943",
   "metadata": {
    "tags": []
   },
   "outputs": [
    {
     "name": "stdout",
     "output_type": "stream",
     "text": [
      "mesh_wo_img.v_pos.shape:  torch.Size([1248, 3])\n",
      "mesh_wo_img.t_pos_idx.shape:  torch.Size([4668, 3])\n",
      "mesh_wo_img.v_tex.shape:  torch.Size([11, 2])\n",
      "mesh_wo_img.t_tex_idx.shape:  torch.Size([4668, 3])\n"
     ]
    }
   ],
   "source": [
    "print(\"mesh_wo_img.v_pos.shape: \", mesh_wo_img.v_pos.shape)\n",
    "print(\"mesh_wo_img.t_pos_idx.shape: \", mesh_wo_img.t_pos_idx.shape)\n",
    "print(\"mesh_wo_img.v_tex.shape: \", mesh_wo_img.v_tex.shape)\n",
    "print(\"mesh_wo_img.t_tex_idx.shape: \", mesh_wo_img.t_tex_idx.shape)"
   ]
  },
  {
   "cell_type": "code",
   "execution_count": 22,
   "id": "fcb55a0e-ce99-413e-a3cc-5b2b7400ac8d",
   "metadata": {
    "tags": []
   },
   "outputs": [
    {
     "data": {
      "text/plain": [
       "tensor([0., 0.], device='cuda:0')"
      ]
     },
     "execution_count": 22,
     "metadata": {},
     "output_type": "execute_result"
    }
   ],
   "source": [
    "mesh_wo_img.v_tex[0]"
   ]
  },
  {
   "cell_type": "code",
   "execution_count": 23,
   "id": "57db024a-7b24-422d-8401-9a01689061bc",
   "metadata": {
    "tags": []
   },
   "outputs": [
    {
     "data": {
      "text/plain": [
       "tensor([0, 0, 0], device='cuda:0')"
      ]
     },
     "execution_count": 23,
     "metadata": {},
     "output_type": "execute_result"
    }
   ],
   "source": [
    "mesh_wo_img.t_tex_idx[0]"
   ]
  },
  {
   "cell_type": "code",
   "execution_count": 24,
   "id": "3a5f9b8c-0943-4f18-9062-ab68f35738f8",
   "metadata": {
    "tags": []
   },
   "outputs": [
    {
     "data": {
      "text/plain": [
       "Material(\n",
       "  (kd): Texture2D()\n",
       "  (ks): Texture2D()\n",
       ")"
      ]
     },
     "execution_count": 24,
     "metadata": {},
     "output_type": "execute_result"
    }
   ],
   "source": [
    "mesh_wo_img.material"
   ]
  },
  {
   "cell_type": "code",
   "execution_count": null,
   "id": "c8d041f4-04e9-488c-9a1e-7f080e9797a3",
   "metadata": {},
   "outputs": [],
   "source": []
  }
 ],
 "metadata": {
  "kernelspec": {
   "display_name": "triplora",
   "language": "python",
   "name": "triplora"
  },
  "language_info": {
   "codemirror_mode": {
    "name": "ipython",
    "version": 3
   },
   "file_extension": ".py",
   "mimetype": "text/x-python",
   "name": "python",
   "nbconvert_exporter": "python",
   "pygments_lexer": "ipython3",
   "version": "3.9.19"
  }
 },
 "nbformat": 4,
 "nbformat_minor": 5
}
