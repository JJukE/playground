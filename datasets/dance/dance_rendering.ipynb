{
 "cells": [
  {
   "cell_type": "markdown",
   "id": "0a3bc11c-9abc-47cc-a9ab-a950f02bd6cc",
   "metadata": {},
   "source": [
    "# 3D Dance Rendering"
   ]
  },
  {
   "cell_type": "code",
   "execution_count": 1,
   "id": "7cab921f-d4b0-42f4-b2da-f6e278dc9dad",
   "metadata": {
    "tags": []
   },
   "outputs": [
    {
     "name": "stdout",
     "output_type": "stream",
     "text": [
      "config\t eval\tmain.py  requirements.txt  tmp\t     util\n",
      "dataset  jjuke\tmodel\t script\t\t   train.py  wandb\n"
     ]
    }
   ],
   "source": [
    "!ls /root/dev/DanceGen/MambaDance"
   ]
  },
  {
   "cell_type": "code",
   "execution_count": 2,
   "id": "3cb05785-ada7-4415-bc7c-df11f587c440",
   "metadata": {
    "tags": []
   },
   "outputs": [
    {
     "data": {
      "text/plain": [
       "'/root/dev/DanceGen/MambaDance'"
      ]
     },
     "execution_count": 2,
     "metadata": {},
     "output_type": "execute_result"
    }
   ],
   "source": [
    "import os\n",
    "\n",
    "os.chdir(\"/root/dev/DanceGen/MambaDance\")\n",
    "os.getcwd()"
   ]
  },
  {
   "cell_type": "code",
   "execution_count": 3,
   "id": "d6436b6a-5251-4be6-8ead-a9dfe244e6ec",
   "metadata": {
    "tags": []
   },
   "outputs": [
    {
     "data": {
      "text/plain": [
       "0"
      ]
     },
     "execution_count": 3,
     "metadata": {},
     "output_type": "execute_result"
    }
   ],
   "source": [
    "import torch\n",
    "\n",
    "torch.cuda.set_device(0)\n",
    "device = torch.device(\"cuda\" if torch.cuda.is_available() else \"cpu\")\n",
    "torch.cuda.current_device()"
   ]
  },
  {
   "cell_type": "code",
   "execution_count": 4,
   "id": "e644e966-4622-47f1-871f-33b7a5e94978",
   "metadata": {
    "tags": []
   },
   "outputs": [
    {
     "name": "stdout",
     "output_type": "stream",
     "text": [
      "\u001b[1m\u001b[37m02a80a123138              \u001b[m  Tue Feb 25 17:49:17 2025  \u001b[1m\u001b[30m550.142\u001b[m\n",
      "\u001b[36m[0]\u001b[m \u001b[34mNVIDIA GeForce RTX 4090\u001b[m |\u001b[31m 36°C\u001b[m, \u001b[32m  0 %\u001b[m | \u001b[36m\u001b[1m\u001b[33m  892\u001b[m / \u001b[33m24564\u001b[m MB |\n"
     ]
    }
   ],
   "source": [
    "!gpustat"
   ]
  },
  {
   "cell_type": "markdown",
   "id": "6da22a86-4eb5-4d2c-a728-09ebe1691150",
   "metadata": {},
   "source": [
    "# Libraries"
   ]
  },
  {
   "cell_type": "code",
   "execution_count": 27,
   "id": "78e937ab-ecfd-4807-b284-0e80b65d1bc6",
   "metadata": {
    "tags": []
   },
   "outputs": [],
   "source": [
    "import pickle\n",
    "from pathlib import Path\n",
    "\n",
    "import numpy as np\n",
    "import matplotlib.animation as animation\n",
    "import matplotlib.pyplot as plt\n",
    "import librosa as lr\n",
    "import soundfile as sf\n",
    "from einops import rearrange\n",
    "from matplotlib import cm\n",
    "from matplotlib.colors import ListedColormap\n",
    "\n",
    "from dataset import GENRES_AIST, GENRES_FINEDANCE\n",
    "from util.render_joints.smplfk import SMPLSkeleton, SMPLX_Skeleton, SMPL_PARENTS, SMPLX_PARENTS\n",
    "from util.smpl_to_fbx.FbxReadWriter import FbxReadWrite\n",
    "from util.vis import plot_single_pose\n",
    "\n",
    "smpl_model = SMPLSkeleton(device=device)\n",
    "smplx_model = SMPLX_Skeleton(joint_path=\"/root/dev/DanceGen/MambaDance/util/render_joints/smplx_neu_J_1.npy\", device=device)"
   ]
  },
  {
   "cell_type": "markdown",
   "id": "0ee03cc1-d78c-4cc9-be22-cc65b6de36f0",
   "metadata": {
    "tags": []
   },
   "source": [
    "# AIST++ Rendering"
   ]
  },
  {
   "cell_type": "code",
   "execution_count": 5,
   "id": "d9e6a33a-542c-42e9-a012-637fcaae879c",
   "metadata": {
    "tags": []
   },
   "outputs": [
    {
     "name": "stdout",
     "output_type": "stream",
     "text": [
      "gBR_sBM_cAll_d04_mBR0_ch02.pkl\tgLH_sBM_cAll_d17_mLH4_ch02.pkl\n",
      "gBR_sBM_cAll_d05_mBR0_ch02.pkl\tgLH_sBM_cAll_d18_mLH4_ch02.pkl\n",
      "gHO_sBM_cAll_d20_mHO5_ch02.pkl\tgLO_sBM_cAll_d13_mLO2_ch02.pkl\n",
      "gHO_sBM_cAll_d21_mHO5_ch02.pkl\tgLO_sBM_cAll_d15_mLO2_ch02.pkl\n",
      "gJB_sBM_cAll_d08_mJB5_ch02.pkl\tgMH_sBM_cAll_d22_mMH3_ch02.pkl\n",
      "gJB_sBM_cAll_d09_mJB5_ch02.pkl\tgMH_sBM_cAll_d24_mMH3_ch02.pkl\n",
      "gJS_sBM_cAll_d01_mJS3_ch02.pkl\tgPO_sBM_cAll_d10_mPO1_ch02.pkl\n",
      "gJS_sBM_cAll_d03_mJS3_ch02.pkl\tgPO_sBM_cAll_d11_mPO1_ch02.pkl\n",
      "gKR_sBM_cAll_d28_mKR2_ch02.pkl\tgWA_sBM_cAll_d25_mWA0_ch02.pkl\n",
      "gKR_sBM_cAll_d30_mKR2_ch02.pkl\tgWA_sBM_cAll_d26_mWA0_ch02.pkl\n"
     ]
    }
   ],
   "source": [
    "!ls /root/dataset_sj/DanceGen/exp/MambaDance2/AIST/250221_2037_MambaDance2_naive_bs512_nssm2_dstate64_dhead32/res_epoch1600/long_unnormalized/motions"
   ]
  },
  {
   "cell_type": "code",
   "execution_count": 215,
   "id": "f4b7f628-d9a1-417c-97d6-58564d1374b1",
   "metadata": {
    "tags": []
   },
   "outputs": [
    {
     "data": {
      "text/plain": [
       "dict_keys(['smpl_poses', 'smpl_trans', 'full_pose'])"
      ]
     },
     "execution_count": 215,
     "metadata": {},
     "output_type": "execute_result"
    }
   ],
   "source": [
    "motion_dir = Path(\"/root/dataset_sj/DanceGen/exp/MambaDance2/AIST/250221_2037_MambaDance2_naive_bs512_nssm2_dstate64_dhead32/res_epoch1600/long_unnormalized/motions/\")\n",
    "wav_name = \"gLH_sBM_cAll_d17_mLH4_ch02.pkl\"\n",
    "\n",
    "with (motion_dir / wav_name).open(\"rb\") as f:\n",
    "    data = pickle.load(f)\n",
    "\n",
    "data.keys()"
   ]
  },
  {
   "cell_type": "code",
   "execution_count": 230,
   "id": "d85fbf6f-6ceb-446a-9a00-df4383550612",
   "metadata": {
    "tags": []
   },
   "outputs": [
    {
     "name": "stdout",
     "output_type": "stream",
     "text": [
      "torch.Size([225, 3])\n",
      "torch.Size([225, 72])\n"
     ]
    }
   ],
   "source": [
    "pos, q = torch.tensor(data[\"smpl_trans\"]).to(device), torch.tensor(data[\"smpl_poses\"]).to(device)\n",
    "print(pos.shape)\n",
    "print(q.shape)"
   ]
  },
  {
   "cell_type": "code",
   "execution_count": 231,
   "id": "c6327687-5736-4f0e-ad43-63617dd49929",
   "metadata": {
    "tags": []
   },
   "outputs": [
    {
     "name": "stdout",
     "output_type": "stream",
     "text": [
      "(225, 24, 3)\n"
     ]
    }
   ],
   "source": [
    "new_pos, new_q = pos, rearrange(q, \"n (j d) -> n j d\", j=24)\n",
    "pose = smpl_model.forward(new_q.unsqueeze(0), new_pos.unsqueeze(0)).detach().cpu().numpy()[0]\n",
    "print(pose.shape)"
   ]
  },
  {
   "cell_type": "code",
   "execution_count": 232,
   "id": "abfd3665-2522-436e-ae0b-bf30781e0539",
   "metadata": {
    "tags": []
   },
   "outputs": [
    {
     "name": "stdout",
     "output_type": "stream",
     "text": [
      "[[0.04235019 0.04185107 0.05604503 0.0741353 ]\n",
      " [0.0147253  0.02316403 0.04160758 0.02497875]\n",
      " [0.01283124 0.0063488  0.0111034  0.01034188]\n",
      " ...\n",
      " [0.0058342  0.00546145 0.00594407 0.00480779]\n",
      " [0.00577973 0.00602185 0.00564552 0.00545326]\n",
      " [0.         0.         0.         0.        ]]\n"
     ]
    },
    {
     "name": "stderr",
     "output_type": "stream",
     "text": [
      "/tmp/ipykernel_3189934/4217823479.py:15: UserWarning: No data for colormapping provided via 'c'. Parameters 'cmap' will be ignored\n",
      "  scat = [ax.scatter([], [], [], zorder=10, s=0, cmap=ListedColormap([\"r\", \"g\", \"b\"])) for _ in range(4)]\n"
     ]
    },
    {
     "data": {
      "image/png": "[encoded data removed]",
      "text/plain": [
       "<Figure size 640x480 with 1 Axes>"
      ]
     },
     "metadata": {},
     "output_type": "display_data"
    }
   ],
   "source": [
    "fig = plt.figure()\n",
    "ax = fig.add_subplot(projection=\"3d\")\n",
    "\n",
    "point = np.array([0, 0, 1])\n",
    "normal = np.array([0, 0, 1])\n",
    "d = -point.dot(normal)\n",
    "xx, yy = np.meshgrid(np.linspace(-1.5, 1.5, 2), np.linspace(-1.5, 1.5, 2))\n",
    "z = (-normal[0] * xx - normal[1] * yy - d) * 1. / normal[2]\n",
    "\n",
    "ax.plot_surface(xx, yy, z, zorder=-11, cmap=cm.twilight)\n",
    "\n",
    "smpl_parents = SMPL_PARENTS\n",
    "\n",
    "lines = [ax.plot([], [], [], zorder=10, linewidth=1.5)[0] for _ in smpl_parents]\n",
    "scat = [ax.scatter([], [], [], zorder=10, s=0, cmap=ListedColormap([\"r\", \"g\", \"b\"])) for _ in range(4)]\n",
    "axrange = 3\n",
    "\n",
    "smpl_type = \"smpl\"\n",
    "\n",
    "# feet = pose[None, (7, 8, 10, 11)]\n",
    "# feetv = np.zeros(feet.shape[:2])\n",
    "# feetv[:-1] = np.linalg.norm(feet[1:] - feet[:-1], axis=-1)\n",
    "contact = feetv < 0.01\n",
    "print(feetv)\n",
    "\n",
    "anim = animation.FuncAnimation(fig, plot_single_pose, pose.shape[0], fargs=(pose, lines, ax, axrange, scat, contact, smpl_type), interval=1000 // 30)"
   ]
  },
  {
   "cell_type": "markdown",
   "id": "7673a652-8727-4709-a086-df2b013df0c6",
   "metadata": {
    "tags": []
   },
   "source": [
    "# FineDance Rendering"
   ]
  },
  {
   "cell_type": "code",
   "execution_count": 38,
   "id": "63a797bc-9444-4be0-a63a-17893e5fd180",
   "metadata": {
    "tags": []
   },
   "outputs": [
    {
     "name": "stdout",
     "output_type": "stream",
     "text": [
      "012.pkl  063.pkl  098.pkl  132.pkl  144.pkl  193.pkl  211.pkl\n",
      "036.pkl  065.pkl  109.pkl  137.pkl  161.pkl  198.pkl\n",
      "037.pkl  092.pkl  130.pkl  143.pkl  179.pkl  204.pkl\n"
     ]
    }
   ],
   "source": [
    "!ls /root/dataset_sj/DanceGen/exp/MambaDance2/FineDance/250221_1931_MambaDance2_naive_nssm1_dstate64_dhead32_seqlen1024/res/renders/practice"
   ]
  },
  {
   "cell_type": "code",
   "execution_count": 233,
   "id": "a6a4b7f3-c41c-4e4d-a234-b1238cc27914",
   "metadata": {
    "tags": []
   },
   "outputs": [
    {
     "data": {
      "text/plain": [
       "dict_keys(['smpl_poses', 'smpl_trans', 'full_q', 'full_pos', 'sample_contact'])"
      ]
     },
     "execution_count": 233,
     "metadata": {},
     "output_type": "execute_result"
    }
   ],
   "source": [
    "motion_dir = Path(\"/root/dataset_sj/DanceGen/exp/MambaDance2/FineDance/250221_1931_MambaDance2_naive_nssm1_dstate64_dhead32_seqlen1024/res/renders/practice\")\n",
    "wav_name = \"037.pkl\"\n",
    "\n",
    "with (motion_dir / wav_name).open(\"rb\") as f:\n",
    "    data = pickle.load(f)\n",
    "\n",
    "data.keys()"
   ]
  },
  {
   "cell_type": "code",
   "execution_count": 262,
   "id": "8457a4a5-595e-45f6-ab08-72bb653baf3c",
   "metadata": {
    "tags": []
   },
   "outputs": [],
   "source": [
    "from pytorch3d.transforms import RotateAxisAngle, axis_angle_to_quaternion, quaternion_multiply, quaternion_to_axis_angle\n",
    "\n",
    "def rotate_smpl(q, pos, angle, axis, device=\"cuda\"):\n",
    "    \"\"\"\n",
    "    Rotates the SMPL parameters by a given angle along a specified axis.\n",
    "\n",
    "    Args:\n",
    "        q (torch.Tensor): Joint rotations in axis-angle representation (N, J, 3).\n",
    "        pos (torch.Tensor): Joint positions (N, 3).\n",
    "        angle (float): Rotation angle in degrees.\n",
    "        axis (str): Rotation axis (\"X\", \"Y\", or \"Z\").\n",
    "        device (str): Device to use.\n",
    "    \"\"\"\n",
    "    axis = axis.upper()\n",
    "    assert len(q.shape) == 3 and len(pos.shape) == 2\n",
    "    assert axis in [\"X\", \"Y\", \"Z\"]\n",
    "    \n",
    "    q_ = q[:, :1, :] # global rotation -> (N, 1, 3)\n",
    "    q_quat = axis_angle_to_quaternion(q_) # (N, 1, 4)\n",
    "    \n",
    "    # rot_quat = RotateAxisAngle(angle, axis=axis, degrees=True, device=device).get_matrix() # (3, 3)\n",
    "    rot_angle = torch.tensor([[np.deg2rad(angle), 0, 0] if axis == \"X\" else\n",
    "                           [0, np.deg2rad(angle), 0] if axis == \"Y\" else\n",
    "                           [0, 0, np.deg2rad(angle)]], device=device, dtype=torch.float32)\n",
    "    rot_quat = axis_angle_to_quaternion(rot_angle) # (1, 4)\n",
    "    \n",
    "    q_quat = quaternion_multiply(rot_quat, q_quat) # (N, 1, 4)\n",
    "    q_ = quaternion_to_axis_angle(q_quat) # (N, 1, 3)\n",
    "    q[:, :1, :] = q_\n",
    "    \n",
    "    pos_rotation = RotateAxisAngle(angle, axis=axis, degrees=True, device=device)\n",
    "    pos = pos_rotation.transform_points(pos) # (y, z) -> (-z, y)\n",
    "    \n",
    "    return q, pos"
   ]
  },
  {
   "cell_type": "code",
   "execution_count": 269,
   "id": "1ac946b2-e92f-4ec1-8106-4915c2bada19",
   "metadata": {
    "tags": []
   },
   "outputs": [
    {
     "name": "stdout",
     "output_type": "stream",
     "text": [
      "torch.Size([2560, 3])\n",
      "torch.Size([2560, 66])\n"
     ]
    }
   ],
   "source": [
    "pos, q = torch.tensor(data[\"full_pos\"]).to(device), torch.tensor(data[\"full_q\"]).to(device)\n",
    "print(pos.shape)\n",
    "print(q.shape)"
   ]
  },
  {
   "cell_type": "code",
   "execution_count": 270,
   "id": "913289b0-6ee3-4abf-a11a-744ff5bcc1a0",
   "metadata": {
    "tags": []
   },
   "outputs": [
    {
     "name": "stdout",
     "output_type": "stream",
     "text": [
      "(2560, 55, 3)\n"
     ]
    }
   ],
   "source": [
    "new_pos, new_q = pos, rearrange(q, \"n (j d) -> n j d\", j=22)\n",
    "\n",
    "new_q, new_pos = rotate_smpl(new_q, new_pos, 90, \"X\", device=device)\n",
    "new_q, new_pos = rotate_smpl(new_q, new_pos, 0, \"Y\", device=device)\n",
    "new_q, new_pos = rotate_smpl(new_q, new_pos, 0, \"Z\", device=device)\n",
    "\n",
    "N = new_q.shape[0]\n",
    "hand = torch.zeros([N, 30, 3]).to(device)\n",
    "new_q = rearrange(torch.cat([new_q, hand], dim=1), \"n j d -> n (j d)\") # d = (22+30)*3 = 156\n",
    "full_pose = smplx_model.forward(new_q, new_pos).detach().cpu().numpy()\n",
    "print(full_pose.shape)"
   ]
  },
  {
   "cell_type": "code",
   "execution_count": 271,
   "id": "b4057e4c-7173-4862-abc1-8aa989873484",
   "metadata": {
    "tags": []
   },
   "outputs": [
    {
     "name": "stderr",
     "output_type": "stream",
     "text": [
      "/tmp/ipykernel_3189934/1425978367.py:15: UserWarning: No data for colormapping provided via 'c'. Parameters 'cmap' will be ignored\n",
      "  scat = [ax.scatter([], [], [], zorder=10, s=0, cmap=ListedColormap([\"r\", \"g\", \"b\"])) for _ in range(4)]\n"
     ]
    },
    {
     "data": {
      "image/png": "[encoded data removed]",
      "text/plain": [
       "<Figure size 640x480 with 1 Axes>"
      ]
     },
     "metadata": {},
     "output_type": "display_data"
    }
   ],
   "source": [
    "fig = plt.figure()\n",
    "ax = fig.add_subplot(projection=\"3d\")\n",
    "\n",
    "point = np.array([0, 0, 1])\n",
    "normal = np.array([0, 0, 1])\n",
    "d = -point.dot(normal)\n",
    "xx, yy = np.meshgrid(np.linspace(-1.5, 1.5, 2), np.linspace(-1.5, 1.5, 2))\n",
    "z = (-normal[0] * xx - normal[1] * yy - d) * 1. / normal[2]\n",
    "\n",
    "ax.plot_surface(xx, yy, z, zorder=-11, cmap=cm.twilight)\n",
    "\n",
    "smpl_parents = SMPLX_PARENTS\n",
    "\n",
    "lines = [ax.plot([], [], [], zorder=10, linewidth=1.5)[0] for _ in smpl_parents]\n",
    "scat = [ax.scatter([], [], [], zorder=10, s=0, cmap=ListedColormap([\"r\", \"g\", \"b\"])) for _ in range(4)]\n",
    "axrange = 3\n",
    "\n",
    "smpl_type = \"smpl\"\n",
    "\n",
    "feet = full_pose[:, (7, 8, 10, 11)]\n",
    "feetv = np.zeros(feet.shape[:2])\n",
    "feetv[:-1] = np.linalg.norm(feet[1:] - feet[:-1], axis=-1)\n",
    "contact = feetv < 0.01\n",
    "# print(contact[:20])\n",
    "\n",
    "anim = animation.FuncAnimation(fig, plot_single_pose, full_pose.shape[0], fargs=(full_pose, lines, ax, axrange, scat, contact, smpl_type), interval=1000 // 30)"
   ]
  },
  {
   "cell_type": "markdown",
   "id": "f02b3232-c5ac-4bca-bb3a-46b8c3ca5cfd",
   "metadata": {},
   "source": [
    "# FBX rendering"
   ]
  },
  {
   "cell_type": "code",
   "execution_count": 242,
   "id": "9058a950-62bc-4ce1-9ffb-ac6f40c472b9",
   "metadata": {
    "tags": []
   },
   "outputs": [
    {
     "name": "stdout",
     "output_type": "stream",
     "text": [
      "True\n"
     ]
    }
   ],
   "source": [
    "from fbx import (FbxAnimCurve, FbxTime, FbxAnimCurveDef,\n",
    "                 FbxAnimStack, FbxAnimLayer, FbxCriteria)\n",
    "from FbxCommon import LoadScene, SaveScene, InitializeSdkObjects\n",
    "\n",
    "lSdkManager, lScene = InitializeSdkObjects()\n",
    "lResult = LoadScene(lSdkManager, lScene, \"/root/dev/DanceGen/MambaDance/util/smpl_to_fbx/ybot.fbx\")\n",
    "print(lResult)"
   ]
  },
  {
   "cell_type": "code",
   "execution_count": 256,
   "id": "92fd241a-5c1c-4dc5-987f-f82f73f5795e",
   "metadata": {
    "tags": []
   },
   "outputs": [],
   "source": [
    "def print_hierarchy(node=None, depth=0):\n",
    "    if node is None:\n",
    "        node = lScene.GetRootNode()\n",
    "        if not node:\n",
    "            print(\"No root node found.\")\n",
    "            return\n",
    "    \n",
    "    print(\"  \" * depth + f\"- {node.GetName()}\")\n",
    "    \n",
    "    for i in range(node.GetChildCount()):\n",
    "        print_hierarchy(node.GetChild(i), depth + 1)"
   ]
  },
  {
   "cell_type": "code",
   "execution_count": 257,
   "id": "4dfbf1c0-c05c-4525-a98d-f0cb7a0ac34c",
   "metadata": {
    "tags": []
   },
   "outputs": [
    {
     "name": "stdout",
     "output_type": "stream",
     "text": [
      "- RootNode\n",
      "  - Alpha_Joints.003\n",
      "  - Alpha_Surface.003\n",
      "  - smpl\n",
      "    - m_avg_Pelvis\n",
      "      - m_avg_L_Hip\n",
      "        - m_avg_L_Knee\n",
      "          - m_avg_L_Ankle\n",
      "            - m_avg_L_Foot\n",
      "              - m_avg_L_Foot_end\n",
      "      - m_avg_R_Hip\n",
      "        - m_avg_R_Knee\n",
      "          - m_avg_R_Ankle\n",
      "            - m_avg_R_Foot\n",
      "              - m_avg_R_Foot_end\n",
      "      - m_avg_Spine1\n",
      "        - m_avg_Spine2\n",
      "          - m_avg_Spine3\n",
      "            - m_avg_Neck\n",
      "              - m_avg_Head\n",
      "                - m_avg_Head_end\n",
      "            - m_avg_L_Collar\n",
      "              - m_avg_L_Shoulder\n",
      "                - m_avg_L_Elbow\n",
      "                  - m_avg_L_Wrist\n",
      "                    - m_avg_L_Hand\n",
      "                      - m_avg_L_Hand_end\n",
      "            - m_avg_R_Collar\n",
      "              - m_avg_R_Shoulder\n",
      "                - m_avg_R_Elbow\n",
      "                  - m_avg_R_Wrist\n",
      "                    - m_avg_R_Hand\n",
      "                      - m_avg_R_Hand_end\n",
      "  - Alpha_Surface.005\n",
      "  - Alpha_Surface.006\n",
      "  - Alpha_Surface.007\n",
      "  - Alpha_Surface.008\n",
      "  - Alpha_Surface.009\n",
      "  - Alpha_Surface.010\n",
      "  - Alpha_Surface.011\n",
      "  - Alpha_Surface.012\n",
      "  - Alpha_Surface.013\n",
      "  - Alpha_Surface.014\n",
      "  - Alpha_Surface.015\n",
      "  - Alpha_Surface.016\n",
      "  - Alpha_Surface.017\n",
      "  - Alpha_Surface.018\n",
      "  - Alpha_Surface.019\n",
      "  - Alpha_Surface.020\n",
      "  - Alpha_Surface.021\n",
      "  - Alpha_Surface.022\n",
      "  - Alpha_Surface.023\n",
      "  - Alpha_Surface.024\n",
      "  - Alpha_Surface.025\n",
      "  - Alpha_Surface.026\n",
      "  - Alpha_Surface.027\n",
      "  - Alpha_Surface.028\n",
      "  - Alpha_Surface.029\n",
      "  - Alpha_Surface.030\n",
      "  - Alpha_Surface.031\n",
      "  - Alpha_Surface.032\n",
      "  - Alpha_Surface.033\n",
      "  - Alpha_Surface.034\n",
      "  - Alpha_Surface.035\n",
      "  - Alpha_Surface.036\n",
      "  - Alpha_Surface.037\n",
      "  - Alpha_Surface.038\n",
      "  - Alpha_Surface.039\n",
      "  - Alpha_Surface.040\n",
      "  - Alpha_Surface.041\n",
      "  - Alpha_Surface.042\n",
      "  - Alpha_Surface.043\n",
      "  - Alpha_Surface.044\n",
      "  - Alpha_Surface.045\n",
      "  - Alpha_Surface.046\n",
      "  - Alpha_Surface.047\n",
      "  - Alpha_Surface.048\n",
      "  - Alpha_Surface.049\n",
      "  - Alpha_Surface.050\n",
      "  - Alpha_Surface.051\n",
      "  - Alpha_Joints.004\n",
      "  - Alpha_Joints.005\n",
      "  - Alpha_Joints.006\n",
      "  - Alpha_Joints.007\n",
      "  - Alpha_Joints.008\n",
      "  - Alpha_Joints.009\n",
      "  - Alpha_Joints.010\n",
      "  - Alpha_Joints.011\n",
      "  - Alpha_Joints.012\n",
      "  - Alpha_Joints.013\n",
      "  - Alpha_Joints.014\n",
      "  - Alpha_Joints.015\n",
      "  - Alpha_Joints.016\n",
      "  - Alpha_Joints.017\n",
      "  - Alpha_Joints.018\n",
      "  - Alpha_Joints.019\n",
      "  - Alpha_Joints.020\n",
      "  - Alpha_Joints.021\n",
      "  - Alpha_Joints.022\n",
      "  - Alpha_Joints.023\n",
      "  - Alpha_Joints.024\n",
      "  - Alpha_Joints.025\n",
      "  - Alpha_Joints.026\n",
      "  - Alpha_Joints.027\n",
      "  - Alpha_Joints.028\n",
      "  - Alpha_Joints.029\n",
      "  - Alpha_Joints.030\n",
      "  - Alpha_Joints.031\n",
      "  - Alpha_Joints.032\n",
      "  - Alpha_Joints.033\n",
      "  - Alpha_Joints.034\n",
      "  - Alpha_Joints.035\n",
      "  - Alpha_Joints.036\n",
      "  - Alpha_Joints.037\n",
      "  - Alpha_Joints.038\n",
      "  - Alpha_Joints.039\n",
      "  - Alpha_Joints.040\n",
      "  - Alpha_Joints.041\n",
      "  - Alpha_Joints.042\n",
      "  - Alpha_Joints.043\n",
      "  - Alpha_Joints.044\n",
      "  - Alpha_Joints.045\n",
      "  - Alpha_Joints.046\n",
      "  - Alpha_Joints.047\n",
      "  - Alpha_Joints.048\n",
      "  - Alpha_Joints.049\n"
     ]
    }
   ],
   "source": [
    "lRootNode = lScene.GetRootNode()\n",
    "\n",
    "print_hierarchy()"
   ]
  },
  {
   "cell_type": "code",
   "execution_count": null,
   "id": "d0c88e9e-0642-4dde-8eac-b0c3f871a8b3",
   "metadata": {},
   "outputs": [],
   "source": []
  }
 ],
 "metadata": {
  "kernelspec": {
   "display_name": "mambadance",
   "language": "python",
   "name": "mambadance"
  },
  "language_info": {
   "codemirror_mode": {
    "name": "ipython",
    "version": 3
   },
   "file_extension": ".py",
   "mimetype": "text/x-python",
   "name": "python",
   "nbconvert_exporter": "python",
   "pygments_lexer": "ipython3",
   "version": "3.10.15"
  }
 },
 "nbformat": 4,
 "nbformat_minor": 5
}
